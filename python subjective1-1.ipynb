{
 "cells": [
  {
   "cell_type": "markdown",
   "metadata": {},
   "source": [
    "Q1. Write a Python program to get the string from the given string where all the occurrence of its first char has been changed to '$,' except first char itself? Sample String: 'prospect' Expected Result : 'pros$ect'"
   ]
  },
  {
   "cell_type": "code",
   "execution_count": 32,
   "metadata": {},
   "outputs": [
    {
     "name": "stdout",
     "output_type": "stream",
     "text": [
      "pros$ect\n"
     ]
    }
   ],
   "source": [
    "def change_char(str1):\n",
    "    char = str1[0]\n",
    "    str1 = str1.replace(char, '$')\n",
    "    str1 = char + str1[1:]\n",
    "\n",
    "    return str1\n",
    "\n",
    "print(change_char('prospect'))"
   ]
  },
  {
   "cell_type": "markdown",
   "metadata": {},
   "source": [
    "Q2. Write a Python program to get the single string from the two given strings, and separated by the space and swap the first two characters of each string? Sample String : 'abc', 'xyz'. Expected Result: 'xyc abz'"
   ]
  },
  {
   "cell_type": "code",
   "execution_count": 43,
   "metadata": {},
   "outputs": [
    {
     "name": "stdout",
     "output_type": "stream",
     "text": [
      "xyc abz\n"
     ]
    }
   ],
   "source": [
    "def chars_mix_up(a, b):\n",
    "    new_a = b[:2] + a[2:]\n",
    "    new_b = a[:2] + b[2:]\n",
    "    return new_a + ' ' + new_b\n",
    "print(chars_mix_up('abc', 'xyz'))"
   ]
  },
  {
   "cell_type": "markdown",
   "metadata": {},
   "source": [
    "Q3. Write the Python program to add 'ing' at the end of the given string (length of the string should be at least 3). If given string already ends with 'ing,' then add 'ly' instead. If string length of the given string is less than 3, leave it unchanged?\n",
    "Sample string: ' abc ' Expected result: ' abcing ' Sample string: ' string ' Expected result: ' stringly '"
   ]
  },
  {
   "cell_type": "code",
   "execution_count": 31,
   "metadata": {},
   "outputs": [
    {
     "name": "stdout",
     "output_type": "stream",
     "text": [
      "ashwiniinging\n",
      "ashwiniingly\n"
     ]
    }
   ],
   "source": [
    "c = input()\n",
    "d ='ing'\n",
    "lent = len(c)\n",
    "l=lent-3\n",
    "ch = c[l:lent]\n",
    "\n",
    "if lent>=3 and ch!='ing':\n",
    "    f= c+d\n",
    "    print(f)\n",
    "elif ch=='ing':\n",
    "    f=c[0:l]+'ly'\n",
    "    print(f)    \n",
    "else:\n",
    "    print(c)"
   ]
  },
  {
   "cell_type": "markdown",
   "metadata": {},
   "source": [
    "Q4. Write the Python program to find the first appearance of the substring 'not' and 'poor' from the given string, if 'not' follows the 'poor', replace the whole 'not'...' poor' substring with 'good'.Return the resulting string.\n",
    "Sample string: 'The lyrics are not that poor!' 'The lyrics are poor!' Expected Result: 'The lyrics are good!' 'The lyrics are poor!'"
   ]
  },
  {
   "cell_type": "code",
   "execution_count": 10,
   "metadata": {},
   "outputs": [
    {
     "name": "stdout",
     "output_type": "stream",
     "text": [
      "The lyrics are not that poor!\n",
      "The lyrics are poor!\n"
     ]
    }
   ],
   "source": [
    "c1='The lyrics are poor!'\n",
    "c2='The lyrics are not that poor!'\n",
    "ch1 ='poor'\n",
    "ch2='not that poor'\n",
    "c = input()\n",
    "\n",
    "if c==c1:\n",
    "    news1=c.replace(ch1,'good')\n",
    "    print(news1)\n",
    "elif c==c2: \n",
    "    news2=c.replace(ch2,'poor')\n",
    "    print(news2)\n",
    "else:\n",
    "    print(c)\n"
   ]
  },
  {
   "cell_type": "markdown",
   "metadata": {},
   "source": [
    "Q5. Write the Python program to remove the characters which have odd index values of a given string.\n",
    "    "
   ]
  },
  {
   "cell_type": "code",
   "execution_count": 24,
   "metadata": {},
   "outputs": [
    {
     "data": {
      "text/plain": [
       "'Pto rgamn sfn'"
      ]
     },
     "execution_count": 24,
     "metadata": {},
     "output_type": "execute_result"
    }
   ],
   "source": [
    "s = 'Python programming is fun.'\n",
    "s[::2]"
   ]
  },
  {
   "cell_type": "markdown",
   "metadata": {},
   "source": [
    "Q6. Write the Python function to get a string made of 4 copies of the last two characters of the specified string (length must be at least 2).\n",
    "Sample function and result : insert-end ('Python') -> abababab insert-end('Exercises') -> jkjkjkjk"
   ]
  },
  {
   "cell_type": "code",
   "execution_count": 45,
   "metadata": {},
   "outputs": [
    {
     "name": "stdout",
     "output_type": "stream",
     "text": [
      "python\\\n",
      "n\\n\\n\\n\\\n"
     ]
    }
   ],
   "source": [
    "def Sample_function(s):\n",
    "    if len(s)>=2:        \n",
    "        print(s[-2:]*4)\n",
    "s = input()\n",
    "Sample_function(s)"
   ]
  },
  {
   "cell_type": "markdown",
   "metadata": {},
   "source": [
    "Q7. Write the python function to get a string made of its first three characters of a specified string. If the length of the string is less than 3 then return the original string.\n",
    "Sample function and result : first-three('ipy') -> ipy first-three('python') -> pyt"
   ]
  },
  {
   "cell_type": "code",
   "execution_count": 47,
   "metadata": {},
   "outputs": [
    {
     "name": "stdout",
     "output_type": "stream",
     "text": [
      "python\n",
      "pyt\n"
     ]
    }
   ],
   "source": [
    "def Sample_function(s):\n",
    "    if len(s)>=2:        \n",
    "        print(s[0:3])\n",
    "s = input()\n",
    "Sample_function(s)"
   ]
  },
  {
   "cell_type": "markdown",
   "metadata": {},
   "source": [
    "Q8. Write the python program to print the following floating numbers up to 2 decimal places?"
   ]
  },
  {
   "cell_type": "code",
   "execution_count": 48,
   "metadata": {},
   "outputs": [
    {
     "name": "stdout",
     "output_type": "stream",
     "text": [
      "13.95\n"
     ]
    }
   ],
   "source": [
    "a=13.949999999999999\n",
    "print(\"%.2f\" % a)"
   ]
  },
  {
   "cell_type": "markdown",
   "metadata": {},
   "source": [
    "Q9. Write the Python program to format a number with a percentage?"
   ]
  },
  {
   "cell_type": "code",
   "execution_count": 54,
   "metadata": {},
   "outputs": [
    {
     "name": "stdout",
     "output_type": "stream",
     "text": [
      "25.00%\n",
      "-25.00%\n",
      "\n"
     ]
    }
   ],
   "source": [
    "x = 0.25\n",
    "y = -0.25\n",
    "\n",
    "print(\"{:.2%}\".format(x))\n",
    "\n",
    "print(\"{:.2%}\".format(y))\n",
    "print()"
   ]
  },
  {
   "cell_type": "markdown",
   "metadata": {},
   "source": [
    "Q10. Write the Python program to count occurrences of a substring in a String?"
   ]
  },
  {
   "cell_type": "code",
   "execution_count": 87,
   "metadata": {},
   "outputs": [
    {
     "name": "stdout",
     "output_type": "stream",
     "text": [
      "3\n"
     ]
    }
   ],
   "source": [
    "\n",
    "def cou(s,sub):\n",
    "    c=0\n",
    "    su = sub\n",
    "    p = s.split()\n",
    "    for i in range(len(p)):\n",
    "        if sub in p[i]:\n",
    "            c=c+1\n",
    "    print(c)\n",
    "s ='Python is is programming is fun'\n",
    "sub = 'is'\n",
    "cou(s,sub)\n",
    "\n",
    "            \n",
    "    "
   ]
  },
  {
   "cell_type": "markdown",
   "metadata": {},
   "source": [
    "Q11. Write the Python program to count repeated characters in a string.\n",
    "Sample string: ' thequickbrownjumpsoverthelazydog ' Expected output: o 3 e 3 u 2 h 2"
   ]
  },
  {
   "cell_type": "code",
   "execution_count": 113,
   "metadata": {},
   "outputs": [
    {
     "name": "stdout",
     "output_type": "stream",
     "text": [
      "o 4\n",
      "e 3\n",
      "t 2\n",
      "h 2\n",
      "u 2\n",
      "r 2\n"
     ]
    }
   ],
   "source": [
    "import collections\n",
    "str1 = 'thequickbrownfoxjumpsoverthelazydog'\n",
    "d = collections.defaultdict(int)\n",
    "for c in str1:\n",
    "    d[c] += 1\n",
    "\n",
    "for c in sorted(d, key=d.get, reverse=True):\n",
    "    if d[c] > 1:\n",
    "        print('%s %d' % (c, d[c]))\n"
   ]
  },
  {
   "cell_type": "markdown",
   "metadata": {},
   "source": [
    "Q12. Write the Python program to print the square and cube symbol in the area of a rectangle and volume of a cylinder? Sample output- The area of the rectangle is 1256.66cm2 The volume of the cylinder is 1254.725cm3"
   ]
  },
  {
   "cell_type": "code",
   "execution_count": 114,
   "metadata": {},
   "outputs": [
    {
     "name": "stdout",
     "output_type": "stream",
     "text": [
      "The area of the rectangle is 1256.66cm²\n",
      "The volume of the cylinder is 1254.725cm³\n"
     ]
    }
   ],
   "source": [
    "area = 1256.66\n",
    "volume = 1254.725\n",
    "decimals = 2\n",
    "print(\"The area of the rectangle is {0:.{1}f}cm\\u00b2\".format(area, decimals))\n",
    "decimals = 3\n",
    "print(\"The volume of the cylinder is {0:.{1}f}cm\\u00b3\".format(volume, decimals))"
   ]
  },
  {
   "cell_type": "markdown",
   "metadata": {},
   "source": [
    "Q13. Write the Python program to check if a string contains all letters of the alphabet?"
   ]
  },
  {
   "cell_type": "code",
   "execution_count": 116,
   "metadata": {},
   "outputs": [
    {
     "name": "stdout",
     "output_type": "stream",
     "text": [
      "True\n"
     ]
    }
   ],
   "source": [
    "import string\n",
    "alphabet = set(string.ascii_lowercase)\n",
    "input_string = 'The quick brown fox jumps over the lazy dog'\n",
    "print(set(input_string.lower()) >= alphabet)\n"
   ]
  },
  {
   "cell_type": "markdown",
   "metadata": {},
   "source": [
    "Q14. Write the Python program to find the second most repeated word in a given string?"
   ]
  },
  {
   "cell_type": "code",
   "execution_count": 118,
   "metadata": {},
   "outputs": [
    {
     "name": "stdout",
     "output_type": "stream",
     "text": [
      "('of', 4)\n"
     ]
    }
   ],
   "source": [
    "def word_count(str):\n",
    "    counts = dict()\n",
    "    words = str.split()\n",
    "\n",
    "    for word in words:\n",
    "        if word in counts:\n",
    "            counts[word] += 1\n",
    "        else:\n",
    "            counts[word] = 1\n",
    "\n",
    "    counts_x = sorted(counts.items(), key=lambda kv: kv[1])\n",
    "    #print(counts_x)\n",
    "    return counts_x[-2]\n",
    "print(word_count(\"Both of these issues are fixed by postponing the evaluation of annotations. Instead of compiling code which executes expressions in annotations at their definition time, the compiler stores the annotation in a string form equivalent to the AST of the expression in question. If needed, annotations can be resolved at runtime using typing.get_type_hints(). In the common case where this is not required, the annotations are cheaper to store (since short strings are interned by the interpreter) and make startup time faster.\"))"
   ]
  },
  {
   "cell_type": "markdown",
   "metadata": {},
   "source": [
    "Q15. Write the Python program to find the minimum window in the given string, which will contains all the characters of another given strings?\n",
    "Example 1 Input : string1 = \" PRWSOERIUSFK \" string2 = \" OSU \" Output: Minimum window is \"OERIUS\""
   ]
  },
  {
   "cell_type": "code",
   "execution_count": 122,
   "metadata": {},
   "outputs": [
    {
     "name": "stdout",
     "output_type": "stream",
     "text": [
      "OERIUS\n"
     ]
    }
   ],
   "source": [
    "from collections import Counter, defaultdict \n",
    "  \n",
    "def min_window(str, pattern): \n",
    "      \n",
    "    rdict, count = defaultdict(list), Counter(pattern) \n",
    "    rpos, res = [], \"\"  \n",
    "      \n",
    "    # Loop only over c exist in pattern \n",
    "    for i, c in filter(lambda x: x[1] in pattern, enumerate(str)):  \n",
    "        if len(rdict) == count:  \n",
    "            # If reached limit, remove \n",
    "            rpos.remove(rdict.pop(0)) \n",
    "              \n",
    "        # Add to dict \n",
    "        rdict[i].append(i) \n",
    "        # Add to list \n",
    "        rpos.append(i)  \n",
    "          \n",
    "        if (len(rpos) == len(pattern) and\n",
    "           (res ==\"\" or rpos[-1]-rpos[0]<len(res))): \n",
    "            res = str[rpos[0]:rpos[-1]+1]  \n",
    "              \n",
    "    return res \n",
    "  \n",
    "# Driver Code \n",
    "string = 'PRWOERIUSFK'\n",
    "pattern = 'OSU'\n",
    "print(min_window(string, pattern)) \n"
   ]
  },
  {
   "cell_type": "markdown",
   "metadata": {},
   "source": [
    "Q16. Write the Python program to find smallest window that contains all characters of the given string?\n",
    "Original Strings: asdaewsqgtwwsa Smallest window that contains all characters of the said string:\n",
    "Daewsqgt"
   ]
  },
  {
   "cell_type": "code",
   "execution_count": 123,
   "metadata": {},
   "outputs": [
    {
     "name": "stdout",
     "output_type": "stream",
     "text": [
      "Original Strings:\n",
      " asdaewsqgtwwsa\n",
      "\n",
      "Smallest window that contains all characters of the said string:\n",
      "daewsqgt\n"
     ]
    }
   ],
   "source": [
    "from collections import defaultdict   \n",
    "\n",
    "def find_sub_string(str): \n",
    "    str_len = len(str) \n",
    "      \n",
    "    # Count all distinct characters. \n",
    "    dist_count_char = len(set([x for x in str])) \n",
    "  \n",
    "    ctr, start_pos, start_pos_index, min_len = 0, 0, -1, 9999999999\n",
    "    curr_count = defaultdict(lambda: 0) \n",
    "    for i in range(str_len): \n",
    "        curr_count[str[i]] += 1\n",
    " \n",
    "        if curr_count[str[i]] == 1: \n",
    "            ctr += 1\n",
    "  \n",
    "        if ctr == dist_count_char: \n",
    "            while curr_count[str[start_pos]] > 1: \n",
    "                if curr_count[str[start_pos]] > 1: \n",
    "                    curr_count[str[start_pos]] -= 1\n",
    "                start_pos += 1\n",
    "  \n",
    "            len_window = i - start_pos + 1\n",
    "            if min_len > len_window: \n",
    "                min_len = len_window \n",
    "                start_pos_index = start_pos \n",
    "    return str[start_pos_index: start_pos_index + min_len] \n",
    "      \n",
    "str1 = \"asdaewsqgtwwsa\"\n",
    "print(\"Original Strings:\\n\",str1)\n",
    "print(\"\\nSmallest window that contains all characters of the said string:\")\n",
    "print(find_sub_string(str1))"
   ]
  },
  {
   "cell_type": "markdown",
   "metadata": {},
   "source": [
    "Q17. Write the Python program to count number of substrings from a given string of lowercase alphabets with exactly k distinct (given) characters?"
   ]
  },
  {
   "cell_type": "code",
   "execution_count": 125,
   "metadata": {},
   "outputs": [
    {
     "name": "stdout",
     "output_type": "stream",
     "text": [
      "Input a string (lowercase alphabets):wolf\n",
      "Input k: 4\n",
      "Number of substrings with exactly 4 distinct characters : 1\n"
     ]
    }
   ],
   "source": [
    "def count_k_dist(str1, k):\n",
    "    str_len = len(str1)\n",
    "    result = 0\n",
    "    ctr = [0] * 27\n",
    "    for i in range(0, str_len):\n",
    "        dist_ctr = 0\n",
    "        ctr = [0] * 27\n",
    "        for j in range(i, str_len): \n",
    "            if(ctr[ord(str1[j]) - 97] == 0): \n",
    "                dist_ctr += 1\n",
    "\n",
    "            ctr[ord(str1[j]) - 97] += 1\n",
    "            if(dist_ctr == k): \n",
    "                result += 1\n",
    "            if(dist_ctr > k): \n",
    "                break\n",
    "\n",
    "    return result \n",
    "\n",
    "str1 = input(\"Input a string (lowercase alphabets):\")\n",
    "k = int(input(\"Input k: \"))\n",
    "print(\"Number of substrings with exactly\", k, \"distinct characters : \", end = \"\") \n",
    "print(count_k_dist(str1, k))"
   ]
  },
  {
   "cell_type": "markdown",
   "metadata": {},
   "source": [
    "Q18. Write the Python program to count number of non-empty substrings of the given string?"
   ]
  },
  {
   "cell_type": "code",
   "execution_count": 1,
   "metadata": {},
   "outputs": [
    {
     "name": "stdout",
     "output_type": "stream",
     "text": [
      "Input a string: w3resource\n",
      "Number of substrings:\n",
      "55\n"
     ]
    }
   ],
   "source": [
    "def number_of_substrings(str): \n",
    "    str_len = len(str); \n",
    "    return int(str_len * (str_len + 1) / 2); \n",
    "\n",
    "str1 = input(\"Input a string: \")\n",
    "print(\"Number of substrings:\") \n",
    "print(number_of_substrings(str1))"
   ]
  },
  {
   "cell_type": "markdown",
   "metadata": {},
   "source": [
    "Q19. Write the Python program to count number of substrings with same first and last characters of the given string?\n",
    "Input a string: abcd 4"
   ]
  },
  {
   "cell_type": "code",
   "execution_count": 5,
   "metadata": {},
   "outputs": [
    {
     "name": "stdout",
     "output_type": "stream",
     "text": [
      "4\n"
     ]
    }
   ],
   "source": [
    "def checkEquality(s): \n",
    "    return (ord(s[0]) == ord(s[len(s) - 1])) \n",
    "  \n",
    "def countSubstringWithEqualEnds(s): \n",
    "    result = 0; \n",
    "    n = len(s); \n",
    "    for i in range(n):  \n",
    "        for j in range(1,n-i+1): \n",
    "            if (checkEquality(s[i:i+j])): \n",
    "                result+=1\n",
    "    return result\n",
    "  \n",
    "s = \"abcd\"; \n",
    "print(countSubstringWithEqualEnds(s))"
   ]
  },
  {
   "cell_type": "markdown",
   "metadata": {},
   "source": [
    "Q20. Write the Python program to count the number of strings where the string length is 2 or more, and first and last character are same from a given list of strings.\n",
    "\n",
    "Sample List : ['abc', 'xyz', 'wxw', '1331'] Expected Result: 2"
   ]
  },
  {
   "cell_type": "code",
   "execution_count": 10,
   "metadata": {},
   "outputs": [
    {
     "name": "stdout",
     "output_type": "stream",
     "text": [
      "2\n"
     ]
    }
   ],
   "source": [
    "def match_words(words):\n",
    "    ctr = 0\n",
    "    for word in words:\n",
    "        if len(word) > 1 and word[0] == word[-1]:\n",
    "            ctr += 1\n",
    "    return ctr\n",
    "\n",
    "print(match_words( ['abc', 'xyz', 'wxw', '1331'] ))"
   ]
  },
  {
   "cell_type": "markdown",
   "metadata": {},
   "source": [
    "Q21. Write the Python program to get a list, sorted in increasing order by the last element in each tuple from the given list of non-empty tuples?\n",
    "Sample List - [ (2, 5), (1, 2), (4, 4), (2, 3), (2, 1) ] Expected Result - [ (2, 1), (1, 2), (2, 3), (4, 4), (2, 5) ]"
   ]
  },
  {
   "cell_type": "code",
   "execution_count": 48,
   "metadata": {},
   "outputs": [
    {
     "name": "stdout",
     "output_type": "stream",
     "text": [
      "[(2, 1), (1, 2), (2, 3), (4, 4), (2, 5)]\n"
     ]
    }
   ],
   "source": [
    "def sort_list_las(tupl):\n",
    "    return sorted(tupl,key = last)\n",
    "\n",
    "print(sort_list_las([(2, 5), (1, 2), (4, 4), (2, 3), (2, 1)]))"
   ]
  },
  {
   "cell_type": "markdown",
   "metadata": {},
   "source": [
    "Q22. Write the Python program to remove duplicates from a list?"
   ]
  },
  {
   "cell_type": "code",
   "execution_count": 66,
   "metadata": {},
   "outputs": [
    {
     "name": "stdout",
     "output_type": "stream",
     "text": [
      "[2, 4, 10, 20, 5]\n"
     ]
    }
   ],
   "source": [
    "def Remove(duplicate): \n",
    "    final_list = [] \n",
    "    for num in duplicate: \n",
    "        if num not in final_list: \n",
    "            final_list.append(num) \n",
    "    return final_list \n",
    "      \n",
    "# Driver Code \n",
    "duplicate = [2, 4, 10, 20, 5, 2, 20, 4] \n",
    "print(Remove(duplicate)) "
   ]
  },
  {
   "cell_type": "markdown",
   "metadata": {},
   "source": [
    "Q23. Write the Python program to find the list of words that are longer than n from a given list of words?"
   ]
  },
  {
   "cell_type": "code",
   "execution_count": 78,
   "metadata": {},
   "outputs": [
    {
     "name": "stdout",
     "output_type": "stream",
     "text": [
      "['1331214145']\n"
     ]
    }
   ],
   "source": [
    "s = ['abc', 'xyz', 'wxw', '1331','13312','13345','1331214145']\n",
    "\n",
    "    \n",
    "\n",
    "def longer(s,n):\n",
    "    o=[]\n",
    "    for i in s:\n",
    "        if len(i)>n:\n",
    "            o.append(i)\n",
    "    print(o)\n",
    "        \n",
    "longer(s,5)\n",
    "    "
   ]
  },
  {
   "cell_type": "markdown",
   "metadata": {},
   "source": [
    "Q24. Write the Python program to print a specified list after removing the 0th, 4th, and 5th elements?\n",
    "Sample List - ['Red', 'Green', 'White', 'Black', 'Pink', 'Yellow'] Expected Output - ['Green', 'White', 'Black']"
   ]
  },
  {
   "cell_type": "code",
   "execution_count": 79,
   "metadata": {},
   "outputs": [
    {
     "name": "stdout",
     "output_type": "stream",
     "text": [
      "['Green', 'White', 'Black']\n"
     ]
    }
   ],
   "source": [
    "color = ['Red', 'Green', 'White', 'Black', 'Pink', 'Yellow']\n",
    "color = [x for (i,x) in enumerate(color) if i not in (0,4,5)]\n",
    "print(color)"
   ]
  },
  {
   "cell_type": "markdown",
   "metadata": {},
   "source": [
    "Q25. Write the Python program to generate all permutations of a list in Python?"
   ]
  },
  {
   "cell_type": "code",
   "execution_count": 82,
   "metadata": {},
   "outputs": [
    {
     "name": "stdout",
     "output_type": "stream",
     "text": [
      "[(1, 2, 3), (1, 3, 2), (2, 1, 3), (2, 3, 1), (3, 1, 2), (3, 2, 1)]\n"
     ]
    }
   ],
   "source": [
    "import itertools\n",
    "print(list(itertools.permutations([1,2,3])))"
   ]
  },
  {
   "cell_type": "markdown",
   "metadata": {},
   "source": [
    "Q26. Write the Python program to convert a pair of values into a sorted unique array? Original List- [ (1, 2), (3, 4), (1, 2), (5, 6), (7, 8), (1, 2), (3, 4), (3, 4), (7, 8), (9, 10) ] Sorted Unique Data- [ 1, 2, 3, 4, 5, 6, 7, 8, 9, 10 ]"
   ]
  },
  {
   "cell_type": "code",
   "execution_count": 100,
   "metadata": {},
   "outputs": [
    {
     "name": "stdout",
     "output_type": "stream",
     "text": [
      "Sorted Unique Data: [1, 2, 3, 4, 5, 6, 7, 8, 9, 10]\n"
     ]
    }
   ],
   "source": [
    "L = [(1, 2), (3, 4), (1, 2), (5, 6), (7, 8), (1, 2), (3, 4), (3, 4), (7, 8), (9, 10)]\n",
    "print(\"Sorted Unique Data:\",sorted(set().union(*L)))\n"
   ]
  },
  {
   "cell_type": "markdown",
   "metadata": {},
   "source": [
    "Q27. Write the Python class to convert an integer to a roman numeral?"
   ]
  },
  {
   "cell_type": "code",
   "execution_count": 122,
   "metadata": {},
   "outputs": [
    {
     "name": "stdout",
     "output_type": "stream",
     "text": [
      "I\n",
      "MMMM\n"
     ]
    }
   ],
   "source": [
    "class py_solution:\n",
    "    def int_to_Roman(self, num):\n",
    "        val = [\n",
    "            1000, 900, 500, 400,100, 90, 50, 40,10, 9, 5, 4,1]\n",
    "        syb = [\n",
    "            \"M\", \"CM\", \"D\", \"CD\",\"C\", \"XC\", \"L\", \"XL\",\"X\", \"IX\", \"V\", \"IV\",\"I\"]\n",
    "        roman_num = ''\n",
    "        i = 0\n",
    "        while  num > 0:\n",
    "            for j in range(num // val[i]):\n",
    "                roman_num += syb[i]\n",
    "                num -= val[i]\n",
    "            i += 1\n",
    "        return roman_num\n",
    "\n",
    "\n",
    "print(py_solution().int_to_Roman(1))\n",
    "print(py_solution().int_to_Roman(4000))"
   ]
  },
  {
   "cell_type": "markdown",
   "metadata": {},
   "source": [
    "Q28 Write the Python class to convert a Roman numeral to an integer?"
   ]
  },
  {
   "cell_type": "code",
   "execution_count": 125,
   "metadata": {},
   "outputs": [
    {
     "name": "stdout",
     "output_type": "stream",
     "text": [
      "3986\n",
      "4000\n",
      "100\n"
     ]
    }
   ],
   "source": [
    "class py_solution:\n",
    "    def roman_to_int(self, s):\n",
    "        rom_val = {'I': 1, 'V': 5, 'X': 10, 'L': 50, 'C': 100, 'D': 500, 'M': 1000}\n",
    "        int_val = 0\n",
    "        for i in range(len(s)):\n",
    "            if i > 0 and rom_val[s[i]] > rom_val[s[i - 1]]:\n",
    "                int_val += rom_val[s[i]] - 2 * rom_val[s[i - 1]]\n",
    "            else:\n",
    "                int_val += rom_val[s[i]]\n",
    "        return int_val\n",
    "\n",
    "print(py_solution().roman_to_int('MMMCMLXXXVI'))\n",
    "print(py_solution().roman_to_int('MMMM'))\n",
    "print(py_solution().roman_to_int('C'))"
   ]
  },
  {
   "cell_type": "markdown",
   "metadata": {},
   "source": [
    "Q29. Write the Python class to find the validity of the string of the parentheses, '(', ')', '{', '}', '[' and '] and the brackets must be closed in the correct order, example - \"()\" and \"()[]{}\" are valid but \"[)\", \"({[)]\" and \"{{{\" are invalid."
   ]
  },
  {
   "cell_type": "code",
   "execution_count": 126,
   "metadata": {},
   "outputs": [
    {
     "name": "stdout",
     "output_type": "stream",
     "text": [
      "True\n",
      "False\n",
      "True\n"
     ]
    }
   ],
   "source": [
    "class py_solution:\n",
    "    def is_valid_parenthese(self, str1):\n",
    "        stack, pchar = [], {\"(\": \")\", \"{\": \"}\", \"[\": \"]\"}\n",
    "        for parenthese in str1:\n",
    "            if parenthese in pchar:\n",
    "                stack.append(parenthese)\n",
    "            elif len(stack) == 0 or pchar[stack.pop()] != parenthese:\n",
    "                return False\n",
    "        return len(stack) == 0\n",
    "\n",
    "print(py_solution().is_valid_parenthese(\"(){}[]\"))\n",
    "print(py_solution().is_valid_parenthese(\"()[{)}\"))\n",
    "print(py_solution().is_valid_parenthese(\"()\"))"
   ]
  },
  {
   "cell_type": "markdown",
   "metadata": {},
   "source": [
    "Q30. Write the Python class to get all possible unique subsets from a set of distinct integers?\n",
    "Input - [4, 5, 6] Output - [[], [6], [5], [5, 6], [4], [4, 6], [4, 5], [4, 5, 6]]"
   ]
  },
  {
   "cell_type": "code",
   "execution_count": 128,
   "metadata": {},
   "outputs": [
    {
     "name": "stdout",
     "output_type": "stream",
     "text": [
      "[[], [6], [5], [5, 6], [4], [4, 6], [4, 5], [4, 5, 6]]\n"
     ]
    }
   ],
   "source": [
    "class py_solution:\n",
    "    def sub_sets(self, sset):\n",
    "        return self.subsetsRecur([], sorted(sset))\n",
    "    \n",
    "    def subsetsRecur(self, current, sset):\n",
    "        if sset:\n",
    "            return self.subsetsRecur(current, sset[1:]) + self.subsetsRecur(current + [sset[0]], sset[1:])\n",
    "        return [current]\n",
    "\n",
    "print(py_solution().sub_sets([4,5,6]))"
   ]
  },
  {
   "cell_type": "markdown",
   "metadata": {},
   "source": [
    "Q31. Write the Python class to find a pair of elements (indices of the two numbers) from a given array whose sum equals the specific target number?\n",
    "Input: numbers- [10,20,10,40,50,60,70], target=50 Output- 3, 4"
   ]
  },
  {
   "cell_type": "code",
   "execution_count": 130,
   "metadata": {},
   "outputs": [
    {
     "name": "stdout",
     "output_type": "stream",
     "text": [
      "index1=2, index2=3\n"
     ]
    }
   ],
   "source": [
    "class py_solution:\n",
    "    def twoSum(self, nums, target):\n",
    "        lookup = {}\n",
    "        for i, num in enumerate(nums):\n",
    "            if target - num in lookup:\n",
    "                return (lookup[target - num], i )\n",
    "            lookup[num] = i\n",
    "print(\"index1=%d, index2=%d\" % py_solution().twoSum((10,20,10,40,50,60,70),50))\n"
   ]
  },
  {
   "cell_type": "markdown",
   "metadata": {},
   "source": [
    "Q32. Write the Python class to find the three elements that sum to zero from the set of n real numbers?\n",
    "Input array- [-25, -10, -7, -3, 2, 4, 8, 10] Output - [[-10, 2, 8], [-7, -3, 10]]"
   ]
  },
  {
   "cell_type": "code",
   "execution_count": 131,
   "metadata": {},
   "outputs": [
    {
     "name": "stdout",
     "output_type": "stream",
     "text": [
      "[[-10, 2, 8], [-7, -3, 10]]\n"
     ]
    }
   ],
   "source": [
    "class py_solution:\n",
    " def threeSum(self, nums):\n",
    "        nums, result, i = sorted(nums), [], 0\n",
    "        while i < len(nums) - 2:\n",
    "            j, k = i + 1, len(nums) - 1\n",
    "            while j < k:\n",
    "                if nums[i] + nums[j] + nums[k] < 0:\n",
    "                    j += 1\n",
    "                elif nums[i] + nums[j] + nums[k] > 0:\n",
    "                    k -= 1\n",
    "                else:\n",
    "                    result.append([nums[i], nums[j], nums[k]])\n",
    "                    j, k = j + 1, k - 1\n",
    "                    while j < k and nums[j] == nums[j - 1]:\n",
    "                        j += 1\n",
    "                    while j < k and nums[k] == nums[k + 1]:\n",
    "                        k -= 1\n",
    "            i += 1\n",
    "            while i < len(nums) - 2 and nums[i] == nums[i - 1]:\n",
    "                i += 1\n",
    "        return result\n",
    "\n",
    "print(py_solution().threeSum([-25, -10, -7, -3, 2, 4, 8, 10]))"
   ]
  },
  {
   "cell_type": "markdown",
   "metadata": {},
   "source": [
    "Q33. Write the Python class to implement pow(x, n)?"
   ]
  },
  {
   "cell_type": "code",
   "execution_count": 132,
   "metadata": {},
   "outputs": [
    {
     "name": "stdout",
     "output_type": "stream",
     "text": [
      "4\n"
     ]
    }
   ],
   "source": [
    "def pow(x,n):\n",
    "    print(x**n)\n",
    "pow(2,2)"
   ]
  },
  {
   "cell_type": "markdown",
   "metadata": {},
   "source": [
    "Q34. Write the Python class which has two methods get_String and print_String. get_String accept the string from the user and print_String print the string in upper case."
   ]
  },
  {
   "cell_type": "code",
   "execution_count": 134,
   "metadata": {},
   "outputs": [
    {
     "name": "stdout",
     "output_type": "stream",
     "text": [
      "enter your string:mahesh\n",
      "MAHESH\n"
     ]
    }
   ],
   "source": [
    "def get_string():\n",
    "    s = input('enter your string:')\n",
    "    print_String(s)\n",
    "def print_String(s):\n",
    "    print(s.upper())\n",
    "get_string()\n",
    "    "
   ]
  },
  {
   "cell_type": "markdown",
   "metadata": {},
   "source": [
    "Q35. Write the Python class named Rectangle constructed by a length and width and the method which will compute the area of the rectangle?"
   ]
  },
  {
   "cell_type": "code",
   "execution_count": 136,
   "metadata": {},
   "outputs": [
    {
     "name": "stdout",
     "output_type": "stream",
     "text": [
      "area of rectangle is  12\n"
     ]
    }
   ],
   "source": [
    "class Rectangle:\n",
    "    def __init__(self,le,wed):\n",
    "        self.le=le\n",
    "        self.wed=wed\n",
    "        \n",
    "    def compute(self):\n",
    "        area = self.le * self.wed\n",
    "        print('area of rectangle is ',area)\n",
    "r = Rectangle(4,3)\n",
    "r.compute()"
   ]
  },
  {
   "cell_type": "markdown",
   "metadata": {},
   "source": [
    "Q36. Write the Python class named Circle constructed by the radius and two methods which will compute the area and perimeter of the circle?"
   ]
  },
  {
   "cell_type": "code",
   "execution_count": 143,
   "metadata": {},
   "outputs": [
    {
     "name": "stdout",
     "output_type": "stream",
     "text": [
      "perimeter is : 12.566370614359172\n",
      "Area is : 12.566370614359172\n"
     ]
    }
   ],
   "source": [
    "import math as m\n",
    "class Circle:\n",
    "    def __init__(self,radius):\n",
    "        self.r=radius\n",
    "        \n",
    "    def perimeter(self):\n",
    "        p = float(2 * m.pi *self.r)\n",
    "        print(\"perimeter is :\",p)\n",
    "    def area(self):\n",
    "        a = float(m.pi * self.r**2)\n",
    "        print(\"Area is :\",a)\n",
    "c = Circle(2)\n",
    "c.perimeter()\n",
    "c.area()\n",
    "    \n",
    "        \n",
    "        "
   ]
  },
  {
   "cell_type": "markdown",
   "metadata": {},
   "source": [
    "Q37. Write the Python program to get the class name of an instance in Python?"
   ]
  },
  {
   "cell_type": "code",
   "execution_count": 149,
   "metadata": {},
   "outputs": [
    {
     "data": {
      "text/plain": [
       "'inst'"
      ]
     },
     "execution_count": 149,
     "metadata": {},
     "output_type": "execute_result"
    }
   ],
   "source": [
    "class inst:\n",
    "    pass\n",
    "c = inst()\n",
    "type(c).__name__"
   ]
  },
  {
   "cell_type": "markdown",
   "metadata": {},
   "source": [
    "Q38. Write the Python program to count the number of students of individual class?"
   ]
  },
  {
   "cell_type": "code",
   "execution_count": 182,
   "metadata": {},
   "outputs": [
    {
     "name": "stdout",
     "output_type": "stream",
     "text": [
      "Counter({'VI': 3, 'V': 2, 'VII': 1})\n"
     ]
    }
   ],
   "source": [
    "from collections import Counter\n",
    "classes = (('V', 1),\n",
    "    ('VI', 1),\n",
    "    ('V', 2),\n",
    "    ('VI', 2),\n",
    "    ('VI', 3),\n",
    "    ('VII', 1),\n",
    ")\n",
    "students = Counter(class_name for class_name, no_students in classes)\n",
    "print(students)"
   ]
  },
  {
   "cell_type": "markdown",
   "metadata": {},
   "source": [
    "Q39. Write the Python program to create an instance of an OrderedDict using the given dictionary and sort dictionary during the creation and print members of the dictionary in reverse order?\n",
    "Expected Output- Angola 244. Andorra 376. Algeria 213. Afghanistan 93. Albania 355. In reverse order- Albania 355. Afghanistan 93. Algeria 213. Andorra 376. Angola 244."
   ]
  },
  {
   "cell_type": "code",
   "execution_count": 183,
   "metadata": {},
   "outputs": [
    {
     "name": "stdout",
     "output_type": "stream",
     "text": [
      "Afghanistan 93\n",
      "Albania 355\n",
      "Algeria 213\n",
      "Andorra 376\n",
      "Angola 244\n",
      "\n",
      "In reverse order:\n",
      "Angola 244\n",
      "Andorra 376\n",
      "Algeria 213\n",
      "Albania 355\n",
      "Afghanistan 93\n"
     ]
    }
   ],
   "source": [
    "from collections import OrderedDict\n",
    "dict = {'Afghanistan': 93, 'Albania': 355, 'Algeria': 213, 'Andorra': 376, 'Angola': 244}\n",
    "new_dict = OrderedDict(dict.items())\n",
    "for key in new_dict:\n",
    "    print (key, new_dict[key])\n",
    "\n",
    "print(\"\\nIn reverse order:\")\n",
    "for key in reversed(new_dict):\n",
    "    print (key, new_dict[key])"
   ]
  },
  {
   "cell_type": "markdown",
   "metadata": {},
   "source": [
    "Q40. Write the Python program to compare two unordered lists (not sets)?"
   ]
  },
  {
   "cell_type": "code",
   "execution_count": 186,
   "metadata": {},
   "outputs": [
    {
     "name": "stdout",
     "output_type": "stream",
     "text": [
      "False\n"
     ]
    }
   ],
   "source": [
    "from collections import Counter\n",
    "a = [1, 2, 3, 1, 2, 4]\n",
    "b = [3, 2, 1, 3, 2, 1]\n",
    "print (Counter(a) == Counter(b))"
   ]
  },
  {
   "cell_type": "markdown",
   "metadata": {},
   "source": [
    "Q41. Write the Python program to get an array buffer information? Expected Output- Array buffer start address in memory and number of elements. (25855056, 2)"
   ]
  },
  {
   "cell_type": "code",
   "execution_count": 187,
   "metadata": {},
   "outputs": [
    {
     "name": "stdout",
     "output_type": "stream",
     "text": [
      "Array buffer start address in memory and number of elements.\n",
      "(2430343875304, 2)\n"
     ]
    }
   ],
   "source": [
    "from array import array\n",
    "a = array(\"I\", (12,25))\n",
    "print(\"Array buffer start address in memory and number of elements.\")\n",
    "print(a.buffer_info())"
   ]
  },
  {
   "cell_type": "markdown",
   "metadata": {},
   "source": [
    "Q42. Write the Python program to convert an array to an array of machine values and return the bytes representation?\n",
    "Expected Output- Original array- A1: array('i', [1, 2, 3, 4, 5, 6]) Array of bytes: b'010000000200000003000000040000000500000006000000'"
   ]
  },
  {
   "cell_type": "code",
   "execution_count": 190,
   "metadata": {},
   "outputs": [
    {
     "name": "stdout",
     "output_type": "stream",
     "text": [
      "Original array:\n",
      "A1: array('i', [1, 2, 3, 4, 5, 6])\n",
      "Array of bytes: b'010000000200000003000000040000000500000006000000'\n"
     ]
    }
   ],
   "source": [
    "import array\n",
    "import binascii\n",
    "a = array.array('i', [1,2,3,4,5,6])\n",
    "print(\"Original array:\")\n",
    "print('A1:', a)\n",
    "bytes_array = a.tobytes()\n",
    "print('Array of bytes:', binascii.hexlify(bytes_array))"
   ]
  },
  {
   "cell_type": "markdown",
   "metadata": {},
   "source": [
    "Q43. Write the Python program to read a string and interpreting the string as an array of machine values?\n",
    "Expected Output- array1- array('i', [7, 8, 9, 10]) Bytes- b'0700000008000000090000000a000000' array2- array('i', [7, 8, 9, 10])"
   ]
  },
  {
   "cell_type": "code",
   "execution_count": 200,
   "metadata": {},
   "outputs": [
    {
     "name": "stdout",
     "output_type": "stream",
     "text": [
      "Bytes to String: \n",
      "Array of bytes: b'0700000008000000090000000a000000'\n"
     ]
    }
   ],
   "source": [
    "from array import *\n",
    "print(\"Bytes to String: \")\n",
    "x = array('i', [7, 8, 9, 10])\n",
    "s = x.tobytes()\n",
    "print('Array of bytes:', binascii.hexlify(s))"
   ]
  },
  {
   "cell_type": "markdown",
   "metadata": {},
   "source": [
    "Q44. Write the Python program to push three items into the heap and return the smallest item from the heap. Also, return and pop the smallest item from the heap?\n",
    "Expected Output- Items in the heap- ('VI', 1). ('VII', 3). ('VIII', 2). ---------------------- The smallest item in the heap: ('VI', 1). ---------------------- Pop the smallest item in the heap: ('VII', 2). ('VIII', 3)."
   ]
  },
  {
   "cell_type": "code",
   "execution_count": 236,
   "metadata": {},
   "outputs": [
    {
     "name": "stdout",
     "output_type": "stream",
     "text": [
      "Items in the heap:\n",
      "('VI', 1)\n",
      "('VII', 3)\n",
      "('VIII', 2)\n",
      "----------------------\n",
      "Using heappop removed item on the heap and return the reamining items.\n",
      "('VII', 3)\n",
      "('VIII', 2)\n"
     ]
    }
   ],
   "source": [
    "import heapq\n",
    "heap = []\n",
    "heapq.heappush(heap, ('VI', 1))\n",
    "heapq.heappush(heap, ('VII', 3))\n",
    "heapq.heappush(heap, ('VIII', 2))\n",
    "print(\"Items in the heap:\")\n",
    "for a in heap:\n",
    "    print(a)\n",
    "print(\"----------------------\")\n",
    "print(\"Using heappop removed item on the heap and return the reamining items.\")\n",
    "heapq.heappop(heap)\n",
    "\n",
    "\n",
    "\n",
    "for a in heap:\n",
    "    print(a)\n",
    "\n",
    "\n"
   ]
  },
  {
   "cell_type": "markdown",
   "metadata": {},
   "source": [
    "Q45. Write the Python program to locate the left insertion point for a specified value in sorted order? Expected Output: 4 2"
   ]
  },
  {
   "cell_type": "code",
   "execution_count": 237,
   "metadata": {},
   "outputs": [
    {
     "name": "stdout",
     "output_type": "stream",
     "text": [
      "4\n",
      "2\n"
     ]
    }
   ],
   "source": [
    "import bisect\n",
    "def index(a, x):\n",
    "    i = bisect.bisect_left(a, x)\n",
    "    return i\n",
    "    \n",
    "a = [1,2,4,5]\n",
    "print(index(a, 6))\n",
    "print(index(a, 3))\n"
   ]
  },
  {
   "cell_type": "markdown",
   "metadata": {},
   "source": [
    "Q46. Write the Python program to create the FIFO queue? Expected Output: 0 1 2 3"
   ]
  },
  {
   "cell_type": "code",
   "execution_count": 238,
   "metadata": {},
   "outputs": [
    {
     "name": "stdout",
     "output_type": "stream",
     "text": [
      "0 1 2 3 \n",
      "\n"
     ]
    }
   ],
   "source": [
    "import queue\n",
    "q = queue.Queue()\n",
    "#insert items at the end of the queue \n",
    "for x in range(4):\n",
    "    q.put(str(x))\n",
    "#remove items from the head of the queue \n",
    "while not q.empty():\n",
    "    print(q.get(), end=\" \")\n",
    "print(\"\\n\")\n"
   ]
  },
  {
   "cell_type": "markdown",
   "metadata": {},
   "source": [
    "Q47. Write the Python program to calculate the harmonic sum of n-1. Note: The harmonic sum is the sum of reciprocals of the positive Integers?\n",
    "Example -\n",
    "    1+1/2+1/3+1/4+1/5+........"
   ]
  },
  {
   "cell_type": "code",
   "execution_count": 239,
   "metadata": {},
   "outputs": [
    {
     "name": "stdout",
     "output_type": "stream",
     "text": [
      "2.5928571428571425\n",
      "2.083333333333333\n"
     ]
    }
   ],
   "source": [
    "def harmonic_sum(n):\n",
    "  if n < 2:\n",
    "    return 1\n",
    "  else:\n",
    "    return 1 / n + (harmonic_sum(n - 1))\n",
    "    \n",
    "print(harmonic_sum(7))\n",
    "print(harmonic_sum(4))"
   ]
  },
  {
   "cell_type": "markdown",
   "metadata": {},
   "source": [
    "Q48. Write the NumPy program to create a 2d array with 6 on the border and 0 inside?\n",
    "Expected Output- Original array- [ [6 6 6 6 6] [ 6 6 6 6 6] [ 6 6 6 6 6 ] [ 6 6 6 6 6 ] [ 6 6 6 6 ] ].\n",
    "6 on the border and 0 inside in the array- [[ 6 6 6 6 6] [ 6 0 0 0 6] [ 6 0 0 0 6] [ 6 0 0 0 6] [ 6 6 6 6 6]]."
   ]
  },
  {
   "cell_type": "code",
   "execution_count": 250,
   "metadata": {},
   "outputs": [
    {
     "name": "stdout",
     "output_type": "stream",
     "text": [
      "Original array:\n",
      "[[6. 6. 6. 6. 6.]\n",
      " [6. 6. 6. 6. 6.]\n",
      " [6. 6. 6. 6. 6.]\n",
      " [6. 6. 6. 6. 6.]\n",
      " [6. 6. 6. 6. 6.]]\n",
      "6 on the border and 0 inside in the array\n",
      "[[6. 6. 6. 6. 6.]\n",
      " [6. 0. 0. 0. 6.]\n",
      " [6. 0. 0. 0. 6.]\n",
      " [6. 0. 0. 0. 6.]\n",
      " [6. 6. 6. 6. 6.]]\n"
     ]
    }
   ],
   "source": [
    "import numpy as np\n",
    "x = np.ones((5,5))+5\n",
    "print(\"Original array:\")\n",
    "print(x)\n",
    "print(\"6 on the border and 0 inside in the array\")\n",
    "x[1:-1,1:-1] = 0\n",
    "print(x)"
   ]
  },
  {
   "cell_type": "markdown",
   "metadata": {},
   "source": [
    "Q49. Write the NumPy program to create a 8x8 matrix and fill it with the checkerboard pattern?\n",
    "Checkerboard pattern- [[3 9 3 9 3 9 3 9] [9 3 9 3 9 3 9 3] [3 9 3 9 3 9 3 9] [9 3 9 3 9 3 9 3] [3 9 3 9 3 9 3 9] [9 3 9 3 9 3 9 3] [3 9 3 9 3 9 3 9] [9 3 9 3 9 3 9 3]]."
   ]
  },
  {
   "cell_type": "code",
   "execution_count": 342,
   "metadata": {},
   "outputs": [
    {
     "name": "stdout",
     "output_type": "stream",
     "text": [
      "Checkerboard pattern:\n"
     ]
    },
    {
     "data": {
      "text/plain": [
       "array([[3, 9, 3, 9, 3, 9, 3, 9],\n",
       "       [9, 3, 9, 3, 9, 3, 9, 3],\n",
       "       [3, 9, 3, 9, 3, 9, 3, 9],\n",
       "       [9, 3, 9, 3, 9, 3, 9, 3],\n",
       "       [3, 9, 3, 9, 3, 9, 3, 9],\n",
       "       [9, 3, 9, 3, 9, 3, 9, 3],\n",
       "       [3, 9, 3, 9, 3, 9, 3, 9],\n",
       "       [9, 3, 9, 3, 9, 3, 9, 3]])"
      ]
     },
     "execution_count": 342,
     "metadata": {},
     "output_type": "execute_result"
    }
   ],
   "source": [
    "import numpy as np\n",
    "print(\"Checkerboard pattern:\")\n",
    "x = np.zeros((8,8),dtype=int)\n",
    "x[::,1::2]=3\n",
    "x[0::2,::2] = 3\n",
    "\n",
    "x[::2,1::2] = 9\n",
    "\n",
    "x[1::2,0::2]=9\n",
    "\n",
    "\n",
    "\n",
    "\n",
    "x"
   ]
  },
  {
   "cell_type": "markdown",
   "metadata": {},
   "source": [
    "Q50. Write the NumPy program to create an empty and a full array. Expected Output- [[4.45057637e-308 1.78021527e-306 8.45549797e-307 1.37962049e-306] [1.11260619e-306 1.78010255e-306 9.79054228e-307 4.45057637e-308] [8.45596650e-307 9.34602321e-307 4.94065646e-322 0.00000000e+000]] [[6 6 6] [6 6 6] [6 6 6]]"
   ]
  },
  {
   "cell_type": "code",
   "execution_count": 345,
   "metadata": {},
   "outputs": [
    {
     "name": "stdout",
     "output_type": "stream",
     "text": [
      "[[0. 0. 0. 0.]\n",
      " [0. 0. 0. 0.]\n",
      " [0. 0. 0. 0.]]\n",
      "[[6 6 6]\n",
      " [6 6 6]\n",
      " [6 6 6]]\n"
     ]
    }
   ],
   "source": [
    "import numpy as np\n",
    "# Create an empty array\n",
    "x = np.empty((3,4))\n",
    "print(x)\n",
    "# Create a full array\n",
    "y = np.full((3,3),6)\n",
    "print(y)"
   ]
  },
  {
   "cell_type": "markdown",
   "metadata": {},
   "source": [
    "Q51. Write the NumPy program to convert the values of Centigrade degrees into the Fahrenheit degrees and the centigrade values are stored in the NumPy array.\n",
    "Sample Array -[0, 12, 45.21 ,34, 99.91] Expected Output- Values in Fahrenheit degrees- [ 0. 12. 45.21 34. 99.91] Values in Centigrade degrees- [-17.77777778 -11.11111111 7.33888889 1.11111111 37.72777778]"
   ]
  },
  {
   "cell_type": "code",
   "execution_count": 347,
   "metadata": {},
   "outputs": [
    {
     "name": "stdout",
     "output_type": "stream",
     "text": [
      "Values in Fahrenheit degrees:\n",
      "[ 0.   12.   45.21 34.   99.91]\n",
      "Values in  Centigrade degrees:\n",
      "[-17.77777778 -11.11111111   7.33888889   1.11111111  37.72777778]\n"
     ]
    }
   ],
   "source": [
    "import numpy as np\n",
    "fvalues = [0, 12, 45.21, 34, 99.91]\n",
    "F = np.array(fvalues)\n",
    "print(\"Values in Fahrenheit degrees:\")\n",
    "print(F)\n",
    "print(\"Values in  Centigrade degrees:\") \n",
    "print(5*F/9 - 5*32/9)"
   ]
  },
  {
   "cell_type": "markdown",
   "metadata": {},
   "source": [
    "Q52. Write the NumPy program to find the real and imaginary parts of an array of complex numbers?\n",
    "Expected Output- Original array [ 1.00000000+0.j 0.70710678+0.70710678j] Real part of the array- [ 1. 0.70710678] Imaginary part of the array- [ 0. 0.70710678]"
   ]
  },
  {
   "cell_type": "code",
   "execution_count": 348,
   "metadata": {},
   "outputs": [
    {
     "name": "stdout",
     "output_type": "stream",
     "text": [
      "Original array:x  [1.+0.j]\n",
      "Original array:y  [0.70710678+0.70710678j]\n",
      "Real part of the array:\n",
      "[1.]\n",
      "[0.70710678]\n",
      "Imaginary part of the array:\n",
      "[0.]\n",
      "[0.70710678]\n"
     ]
    }
   ],
   "source": [
    "import numpy as np\n",
    "x = np.sqrt([1+0j])\n",
    "y = np.sqrt([0+1j])\n",
    "print(\"Original array:x \",x)\n",
    "print(\"Original array:y \",y)\n",
    "print(\"Real part of the array:\")\n",
    "print(x.real)\n",
    "print(y.real)\n",
    "print(\"Imaginary part of the array:\")\n",
    "print(x.imag)\n",
    "print(y.imag)"
   ]
  },
  {
   "cell_type": "markdown",
   "metadata": {},
   "source": [
    "Q53. Write the NumPy program to test whether each element of a 1-D array is also present in the second array?\n",
    "Expected Output- Array1: [ 0 10 20 40 60] Array2: [0, 40] Compare each element of array1 and array2 [ True False False True False]"
   ]
  },
  {
   "cell_type": "code",
   "execution_count": 349,
   "metadata": {},
   "outputs": [
    {
     "name": "stdout",
     "output_type": "stream",
     "text": [
      "Array1:  [ 0 10 20 40 60]\n",
      "Array2:  [0, 40]\n",
      "Compare each element of array1 and array2\n",
      "[ True False False  True False]\n"
     ]
    }
   ],
   "source": [
    "import numpy as np\n",
    "array1 = np.array([0, 10, 20, 40, 60])\n",
    "print(\"Array1: \",array1)\n",
    "array2 = [0, 40]\n",
    "print(\"Array2: \",array2)\n",
    "print(\"Compare each element of array1 and array2\")\n",
    "print(np.in1d(array1, array2))"
   ]
  },
  {
   "cell_type": "markdown",
   "metadata": {},
   "source": [
    "Q54. Write the NumPy program to find common values between two arrays? Expected Output- Array1: [ 0 10 20 40 60] Array2: [10, 30, 40] Common values between two arrays- [10 40]"
   ]
  },
  {
   "cell_type": "code",
   "execution_count": 357,
   "metadata": {},
   "outputs": [
    {
     "name": "stdout",
     "output_type": "stream",
     "text": [
      "[10 40]\n"
     ]
    }
   ],
   "source": [
    "import numpy as np\n",
    "a1=np.array([ 0, 10, 20, 40, 60])\n",
    "a2=[10, 30, 40]\n",
    "print(np.intersect1d(a1, a2))"
   ]
  },
  {
   "cell_type": "markdown",
   "metadata": {},
   "source": [
    "Q55. Write the NumPy program to get the unique elements of an array?\n",
    "Expected Output- Original array- [10 10 20 20 30 30] Unique elements of the above array- [10 20 30]"
   ]
  },
  {
   "cell_type": "code",
   "execution_count": 359,
   "metadata": {},
   "outputs": [
    {
     "name": "stdout",
     "output_type": "stream",
     "text": [
      "[10 20 30]\n"
     ]
    }
   ],
   "source": [
    "import numpy as np\n",
    "a1=np.array( [10, 10, 20, 20, 30, 30])\n",
    "print(np.unique(a1))"
   ]
  },
  {
   "cell_type": "markdown",
   "metadata": {},
   "source": [
    "Q56. Write the NumPy program to find the set exclusive-or of two arrays. Set exclusive-or will return the sorted, unique values that are in only one (not both) of the input arrays?\n",
    "Array1- [ 0 10 20 40 60 80] Array2- [10, 30, 40, 50, 70] Unique values that are in only one (not both) of the input arrays- [ 0 20 30 50 60 70 80]"
   ]
  },
  {
   "cell_type": "code",
   "execution_count": 369,
   "metadata": {},
   "outputs": [
    {
     "name": "stdout",
     "output_type": "stream",
     "text": [
      "[ 0 20 30 50 60 70 80]\n"
     ]
    }
   ],
   "source": [
    "import numpy as np\n",
    "a1=np.array( [ 0, 10, 20, 40, 60, 80])\n",
    "a2=np.array(  [10, 30, 40, 50, 70])\n",
    "print(np.sort(np.setxor1d(a1, a2)))"
   ]
  },
  {
   "cell_type": "markdown",
   "metadata": {},
   "source": [
    "Q57. Write the NumPy program to test if all elements in an array evaluate to True ? Note: 0 evaluates to False in NumPy."
   ]
  },
  {
   "cell_type": "code",
   "execution_count": 370,
   "metadata": {},
   "outputs": [
    {
     "name": "stdout",
     "output_type": "stream",
     "text": [
      "False\n",
      "True\n",
      "False\n",
      "True\n"
     ]
    }
   ],
   "source": [
    "import numpy as np\n",
    "print(np.all([[True,False],[True,True]]))\n",
    "print(np.all([[True,True],[True,True]]))\n",
    "print(np.all([10, 20, 0, -50]))\n",
    "print(np.all([10, 20, -50]))"
   ]
  },
  {
   "cell_type": "markdown",
   "metadata": {},
   "source": [
    "Q58 Write the NumPy program to test whether any array element along the given axis evaluates to True? Note: 0 evaluates to False in NumPy"
   ]
  },
  {
   "cell_type": "code",
   "execution_count": 375,
   "metadata": {},
   "outputs": [
    {
     "name": "stdout",
     "output_type": "stream",
     "text": [
      "True\n",
      "True\n",
      "True\n",
      "True\n"
     ]
    }
   ],
   "source": [
    "import numpy as np\n",
    "print(np.any([[False,False],[True,False]]))\n",
    "print(np.any([[True,True],[True,True]]))\n",
    "print(np.any([10, 20, 0, -50]))\n",
    "print(np.any([10, 20, -50]))\n"
   ]
  },
  {
   "cell_type": "markdown",
   "metadata": {},
   "source": [
    "Q59. Write the NumPy program to construct an array by repeating? Sample array- [1, 2, 3, 4] Expected Output- Original array [1, 2, 3, 4] Repeating 2 times [1 2 3 4 1 2 3 4]"
   ]
  },
  {
   "cell_type": "code",
   "execution_count": 382,
   "metadata": {},
   "outputs": [
    {
     "name": "stdout",
     "output_type": "stream",
     "text": [
      "[1 2 3 4 1 2 3 4]\n",
      "[1 2 3 4 1 2 3 4 1 2 3 4]\n"
     ]
    }
   ],
   "source": [
    "import numpy as np\n",
    "a1 = np.array( [1, 2, 3, 4])\n",
    "print(np.tile(a1, 2))\n",
    "print(np.tile(a1, 3))"
   ]
  },
  {
   "cell_type": "markdown",
   "metadata": {},
   "source": [
    "Q60. Write the NumPy program to find the indices of the maximum and minimum values with the given axis of an array?\n",
    "Original array- [1 2 3 4 5 6] Maximum Values- 5 Minimum Values- 0"
   ]
  },
  {
   "cell_type": "code",
   "execution_count": 387,
   "metadata": {},
   "outputs": [
    {
     "name": "stdout",
     "output_type": "stream",
     "text": [
      "the minimum is: 0 \n",
      "the maximum valuse indices is: 5\n"
     ]
    }
   ],
   "source": [
    "import numpy as np\n",
    "a1 = np.array( [1, 2, 3, 4, 5, 6])\n",
    "\n",
    "print('the minimum is:',np.argmin(a1),'\\nthe maximum valuse indices is:',np.argmax(a1))"
   ]
  },
  {
   "cell_type": "markdown",
   "metadata": {},
   "source": [
    "Q61. Write the NumPy program compare two arrays using numpy?\n",
    "Array a- [1 2] Array b- [4 5] a > b [False False] a >= b [False False] a < b [ True True] a <= b [ True True]"
   ]
  },
  {
   "cell_type": "code",
   "execution_count": 392,
   "metadata": {},
   "outputs": [
    {
     "name": "stdout",
     "output_type": "stream",
     "text": [
      "greater than [False False False False False]\n",
      "greater than equal [False False False False False]\n",
      "less than  [ True  True  True  True  True]\n",
      "less than equal  [ True  True  True  True  True]\n"
     ]
    }
   ],
   "source": [
    "import numpy as np\n",
    "a1=np.array( [ 0, 10, 20, 40, 60])\n",
    "a2=np.array(  [10, 30, 40, 50, 70])\n",
    "print('greater than',np.greater(a1,a2))\n",
    "print('greater than equal',np.greater_equal(a1,a2))\n",
    "print('less than ',np.less(a1,a2))\n",
    "print('less than equal ',np.less_equal(a1,a2))\n"
   ]
  },
  {
   "cell_type": "markdown",
   "metadata": {},
   "source": [
    "Q62. Write the NumPy program to sort an along the first, last axis of an array? Sample array- [[2,5],[4,4]] Expected Output- Original array: [[4 6] [2 1]] Sort along the first axis: [[2 1] [4 6]]"
   ]
  },
  {
   "cell_type": "code",
   "execution_count": 393,
   "metadata": {},
   "outputs": [
    {
     "name": "stdout",
     "output_type": "stream",
     "text": [
      "Original array: \n",
      "[[4 6]\n",
      " [2 1]]\n",
      "Sort along the first axis: \n",
      "[[2 1]\n",
      " [4 6]]\n",
      "Sort along the last axis: \n",
      "[[1 2]\n",
      " [4 6]]\n"
     ]
    }
   ],
   "source": [
    "import numpy as np\n",
    "a = np.array([[4, 6],[2, 1]])\n",
    "print(\"Original array: \")\n",
    "print(a)\n",
    "print(\"Sort along the first axis: \")\n",
    "x = np.sort(a, axis=0)\n",
    "print(x)\n",
    "print(\"Sort along the last axis: \")\n",
    "y = np.sort(x, axis=1)\n",
    "print(y)"
   ]
  },
  {
   "cell_type": "markdown",
   "metadata": {},
   "source": [
    "Q63. Write the NumPy program to sort pairs of first name and last name return their indices (first by last name, then by first name).\n",
    "first_names - ( Betsey, Shelley, Lanell, Genesis, Margery ) last_names - ( Battle, Brien, Plotner, Stahl, Woolum ) Expected Output- [1 3 2 4 0]"
   ]
  },
  {
   "cell_type": "code",
   "execution_count": 396,
   "metadata": {},
   "outputs": [
    {
     "name": "stdout",
     "output_type": "stream",
     "text": [
      "[0 1 2 3 4]\n"
     ]
    }
   ],
   "source": [
    "import numpy as np\n",
    "first_names =    ('Betsey', 'Shelley', 'Lanell', 'Genesis', 'Margery' )\n",
    "last_names = ('Battle', 'Brien', 'Plotner', 'Stahl', 'Woolum')\n",
    "x = np.lexsort((first_names, last_names))\n",
    "print(x)"
   ]
  },
  {
   "cell_type": "markdown",
   "metadata": {},
   "source": [
    "Q64. Write the NumPy program to get the values and indices of the elements that are bigger than 10 in the given array? Original array- [[ 0 10 20] [20 30 40]] Values bigger than 10 = [20 20 30 40] Their indices are (array([0, 1, 1, 1]), array([2, 0, 1, 2]))"
   ]
  },
  {
   "cell_type": "code",
   "execution_count": 397,
   "metadata": {},
   "outputs": [
    {
     "name": "stdout",
     "output_type": "stream",
     "text": [
      "Original array: \n",
      "[[ 0 10 20]\n",
      " [20 30 40]]\n",
      "Values bigger than 10 = [20 20 30 40]\n",
      "Their indices are  (array([0, 1, 1, 1], dtype=int64), array([2, 0, 1, 2], dtype=int64))\n"
     ]
    }
   ],
   "source": [
    "import numpy as np\n",
    "x = np.array([[0, 10, 20], [20, 30, 40]])\n",
    "print(\"Original array: \")\n",
    "print(x)\n",
    "print(\"Values bigger than 10 =\", x[x>10])\n",
    "print(\"Their indices are \", np.nonzero(x > 10))"
   ]
  },
  {
   "cell_type": "markdown",
   "metadata": {},
   "source": [
    "Q65. Write the NumPy program to find the memory size of a NumPy array?\n",
    "Expected Output- 128 bytes"
   ]
  },
  {
   "cell_type": "code",
   "execution_count": 398,
   "metadata": {},
   "outputs": [
    {
     "name": "stdout",
     "output_type": "stream",
     "text": [
      "128 bytes\n"
     ]
    }
   ],
   "source": [
    "import numpy as np\n",
    "n = np.zeros((4,4))\n",
    "print(\"%d bytes\" % (n.size * n.itemsize))"
   ]
  },
  {
   "cell_type": "markdown",
   "metadata": {},
   "source": [
    "Q66. Write the NumPy program to create an array of ones and an array of zeros?\n",
    "Expected Output- Create an array of zeros Default type is float\n",
    "[[ 0. 0.]] Type changes to int [[0 0]] Create an array of ones Default type is float [[ 1. 1.]] Type changes to int [[1 1]]"
   ]
  },
  {
   "cell_type": "code",
   "execution_count": 410,
   "metadata": {},
   "outputs": [
    {
     "name": "stdout",
     "output_type": "stream",
     "text": [
      "[[0.]\n",
      " [0.]]\n",
      "afterconversion [[0]\n",
      " [0]]\n",
      "[[1.]\n",
      " [1.]]\n",
      "afterconversion [[1]\n",
      " [1]]\n"
     ]
    }
   ],
   "source": [
    "import numpy as np\n",
    "n = np.zeros((2,1))\n",
    "print(n)\n",
    "print('afterconversion',n.astype(int))\n",
    "o = np.ones((2,1))\n",
    "print(o)\n",
    "print('afterconversion',o.astype(int))"
   ]
  },
  {
   "cell_type": "markdown",
   "metadata": {},
   "source": [
    "Q67. Write the NumPy program to change the dimension of an array? Expected Output- 6 rows and 0 columns (6,) (3, 3) -> 3 rows and 3 columns [[1 2 3] [4 5 6] [7 8 9]] Change array shape to (3, 3) -> 3 rows and 3 columns [[1 2 3] [4 5 6] [7 8 9]]"
   ]
  },
  {
   "cell_type": "code",
   "execution_count": 412,
   "metadata": {},
   "outputs": [
    {
     "name": "stdout",
     "output_type": "stream",
     "text": [
      "6 rows and 0 columns\n",
      "(6,)\n",
      "(3, 3) -> 3 rows and 3 columns \n",
      "[[1 2 3]\n",
      " [4 5 6]\n",
      " [7 8 9]]\n",
      "Change array shape to (3, 3) -> 3 rows and 3 columns \n",
      "[[1 2 3]\n",
      " [4 5 6]\n",
      " [7 8 9]]\n"
     ]
    }
   ],
   "source": [
    "import numpy as np\n",
    "x = np.array([1, 2, 3, 4, 5, 6])\n",
    "print(\"6 rows and 0 columns\")\n",
    "print(x.shape)\n",
    "\n",
    "y = np.array([[1, 2, 3],[4, 5, 6],[7,8,9]])\n",
    "print(\"(3, 3) -> 3 rows and 3 columns \")\n",
    "print(y)\n",
    "\n",
    "x = np.array([1,2,3,4,5,6,7,8,9])\n",
    "print(\"Change array shape to (3, 3) -> 3 rows and 3 columns \")\n",
    "x.shape = (3, 3)\n",
    "print(x)"
   ]
  },
  {
   "cell_type": "markdown",
   "metadata": {},
   "source": [
    "Q68. Write the NumPy program to create a new shape to an array without changing its data ? Reshape 3x2- [[1 2] [3 4] [5 6]] Reshape 2x3- [[1 2 3] [4 5 6]]"
   ]
  },
  {
   "cell_type": "code",
   "execution_count": 417,
   "metadata": {},
   "outputs": [
    {
     "name": "stdout",
     "output_type": "stream",
     "text": [
      "6 rows and 0 columns\n",
      "(6,)\n",
      "new shape\n",
      "[[1 2]\n",
      " [3 4]\n",
      " [5 6]]\n",
      "after reshape\n",
      "[[1 2 3]\n",
      " [4 5 6]]\n"
     ]
    }
   ],
   "source": [
    "import numpy as np\n",
    "x = np.array([1, 2, 3, 4, 5, 6])\n",
    "print(\"6 rows and 0 columns\")\n",
    "print(x.shape)\n",
    "print(\"new shape\")\n",
    "print(x.reshape(3,2))\n",
    "print(\"after reshape\")\n",
    "print(x.reshape(2,3))\n"
   ]
  },
  {
   "cell_type": "markdown",
   "metadata": {},
   "source": [
    "Q69. Write the NumPy program to create a new array of 3*5, filled with 2?\n",
    "Expected Output- [[2 2 2 2 2] [2 2 2 2 2] [2 2 2 2 2]] [[2 2 2 2 2] [2 2 2 2 2] [2 2 2 2 2]]"
   ]
  },
  {
   "cell_type": "code",
   "execution_count": 419,
   "metadata": {},
   "outputs": [
    {
     "data": {
      "text/plain": [
       "array([[2., 2., 2., 2., 2.],\n",
       "       [2., 2., 2., 2., 2.],\n",
       "       [2., 2., 2., 2., 2.]])"
      ]
     },
     "execution_count": 419,
     "metadata": {},
     "output_type": "execute_result"
    }
   ],
   "source": [
    "import numpy as np\n",
    "n = np.zeros((3,5))+2\n",
    "n"
   ]
  },
  {
   "cell_type": "markdown",
   "metadata": {},
   "source": [
    "Q70. Write the NumPy program to create a 3-D array with ones on a diagonal and zeros elsewhere? Expected Output- [[ 1. 0. 0.] [ 0. 1. 0.] [ 0. 0. 1.]]"
   ]
  },
  {
   "cell_type": "code",
   "execution_count": 421,
   "metadata": {},
   "outputs": [
    {
     "name": "stdout",
     "output_type": "stream",
     "text": [
      "[[1. 0. 0.]\n",
      " [0. 1. 0.]\n",
      " [0. 0. 1.]]\n"
     ]
    }
   ],
   "source": [
    "import numpy as np\n",
    "x = np.eye(3)\n",
    "print(x)"
   ]
  },
  {
   "cell_type": "markdown",
   "metadata": {},
   "source": [
    "Q71. Write the NumPy program to split an array of 14 elements into the 3 arrays and each of which has 2, 4, and 8 elements in original order?\n",
    "Expected Output- Original array- [ 1 2 3 4 5 6 7 8 9 10 11 12 13 14] After splitting- [array([1, 2]), array([3, 4, 5, 6]), array([ 7, 8, 9, 10, 11, 12, 13, 14])]"
   ]
  },
  {
   "cell_type": "code",
   "execution_count": 424,
   "metadata": {},
   "outputs": [
    {
     "name": "stdout",
     "output_type": "stream",
     "text": [
      "Original array: [ 1  2  3  4  5  6  7  8  9 10 11 12 13 14]\n",
      "After splitting:\n",
      "[array([1, 2]), array([3, 4, 5, 6]), array([ 7,  8,  9, 10, 11, 12, 13, 14])]\n"
     ]
    }
   ],
   "source": [
    "import numpy as np\n",
    "x = np.arange(1, 15)\n",
    "print(\"Original array:\",x)\n",
    "print(\"After splitting:\")\n",
    "print(np.split(x, [2, 6]))"
   ]
  },
  {
   "cell_type": "markdown",
   "metadata": {},
   "source": [
    "Q72. Write the NumPy program to split of an array of shape 4x4 it into two arrays along the second axis ? Sample array - [[ 0 1 2 3] [ 4 5 6 7] [ 8 9 10 11] [12 13 14 15]] Expected Output-\n",
    "\n",
    "[array([[ 0, 1], [ 4, 5], [ 8, 9], [12, 13]]), array([[ 2, 3], [ 6, 7], [10, 11], [14, 15]]), array([], shape=(4, 0), dtype=int64)]"
   ]
  },
  {
   "cell_type": "code",
   "execution_count": 436,
   "metadata": {},
   "outputs": [
    {
     "name": "stdout",
     "output_type": "stream",
     "text": [
      "Original array: [[ 0  1  2  3]\n",
      " [ 4  5  6  7]\n",
      " [ 8  9 10 11]\n",
      " [12 13 14 15]]\n",
      "After splitting horizontally:\n",
      "[array([[ 0,  1],\n",
      "       [ 4,  5],\n",
      "       [ 8,  9],\n",
      "       [12, 13]]), array([[ 2,  3],\n",
      "       [ 6,  7],\n",
      "       [10, 11],\n",
      "       [14, 15]]), array([], shape=(4, 0), dtype=int32)]\n"
     ]
    }
   ],
   "source": [
    "import numpy as np\n",
    "x = np.arange(16).reshape((4, 4))\n",
    "print(\"Original array:\",x)\n",
    "print(\"After splitting horizontally:\")\n",
    "print(np.hsplit(x, [2, 6]))"
   ]
  },
  {
   "cell_type": "markdown",
   "metadata": {},
   "source": [
    "Q73. Write the NumPy program to create a 5x5 matrix with row values ranging from 0 to 4?\n",
    "Original array- [[ 0. 0. 0. 0. 0.] [ 0. 0. 0. 0. 0.] [ 0. 0. 0. 0. 0.] [ 0. 0. 0. 0. 0.] [ 0. 0. 0. 0. 0.]] Row values ranging from 0 to 4. [[ 0. 1. 2. 3. 4.] [ 0. 1. 2. 3. 4.] [ 0. 1. 2. 3. 4.] [ 0. 1. 2. 3. 4.] [ 0. 1. 2. 3. 4.]]"
   ]
  },
  {
   "cell_type": "code",
   "execution_count": 441,
   "metadata": {},
   "outputs": [
    {
     "name": "stdout",
     "output_type": "stream",
     "text": [
      "[[0. 0. 0. 0. 0.]\n",
      " [0. 0. 0. 0. 0.]\n",
      " [0. 0. 0. 0. 0.]\n",
      " [0. 0. 0. 0. 0.]\n",
      " [0. 0. 0. 0. 0.]]\n",
      "[[0. 1. 2. 3. 4.]\n",
      " [0. 1. 2. 3. 4.]\n",
      " [0. 1. 2. 3. 4.]\n",
      " [0. 1. 2. 3. 4.]\n",
      " [0. 1. 2. 3. 4.]]\n"
     ]
    }
   ],
   "source": [
    "import numpy as np\n",
    "n = np.zeros((5,5))\n",
    "print(n)\n",
    "n += np.arange(5)\n",
    "print(n)"
   ]
  },
  {
   "cell_type": "markdown",
   "metadata": {},
   "source": [
    "Q74. Write the NumPy program to create an array of zeros and three column types (integer, float, character)?\n",
    "Expected Output- [(1, 2., b'Albert Einstein') (2, 2., b'Edmond Halley') (3, 3., b'Gertrude B. Elion')]"
   ]
  },
  {
   "cell_type": "code",
   "execution_count": 453,
   "metadata": {},
   "outputs": [
    {
     "data": {
      "text/plain": [
       "[(1, 2.0, 'Albert Einstein'),\n",
       " (2, 2.0, 'Edmond Halley'),\n",
       " (3, 3.0, 'Gertrude B. Elion')]"
      ]
     },
     "execution_count": 453,
     "metadata": {},
     "output_type": "execute_result"
    }
   ],
   "source": [
    "import numpy as np\n",
    "n = np.zeros((3,3))\n",
    "new_data = [(1, 2., \"Albert Einstein\"), (2, 2., \"Edmond Halley\"), (3, 3., \"Gertrude B. Elion\")]\n",
    "n= new_data\n",
    "n"
   ]
  },
  {
   "cell_type": "markdown",
   "metadata": {},
   "source": [
    "Q75. Write the NumPy program to remove the negative values in the numpy array with 0?\n",
    "Expected Output- Original array: [-1 -4 0 2 3 4 5 -6] Replace the negative values of the said array with 0- [0 0 0 2 3 4 5 0]"
   ]
  },
  {
   "cell_type": "code",
   "execution_count": 459,
   "metadata": {},
   "outputs": [
    {
     "data": {
      "text/plain": [
       "array([0, 0, 0, 2, 3, 4, 5, 0])"
      ]
     },
     "execution_count": 459,
     "metadata": {},
     "output_type": "execute_result"
    }
   ],
   "source": [
    "import numpy as np\n",
    "p=np.array([-1, -4, 0, 2, 3, 4, 5, -6])\n",
    "p[p< 0] = 0\n",
    "p"
   ]
  },
  {
   "cell_type": "markdown",
   "metadata": {},
   "source": [
    "Q76. Write the NumPy program to compute the histogram of a set of data?"
   ]
  },
  {
   "cell_type": "code",
   "execution_count": 465,
   "metadata": {},
   "outputs": [
    {
     "data": {
      "image/png": "[encoded data removed]",
      "text/plain": [
       "<Figure size 432x288 with 1 Axes>"
      ]
     },
     "metadata": {
      "needs_background": "light"
     },
     "output_type": "display_data"
    }
   ],
   "source": [
    "import numpy as np    \n",
    "import matplotlib.pyplot as plt\n",
    "plt.hist([1, 2, 1], bins=[0, 1, 2, 3,5])\n",
    "plt.show()"
   ]
  },
  {
   "cell_type": "markdown",
   "metadata": {},
   "source": [
    "Q77. Write the NumPy program to compute the line graph of a set of data?"
   ]
  },
  {
   "cell_type": "code",
   "execution_count": 467,
   "metadata": {},
   "outputs": [
    {
     "name": "stderr",
     "output_type": "stream",
     "text": [
      "C:\\ProgramData\\Anaconda3\\lib\\site-packages\\ipykernel_launcher.py:7: UserWarning: Matplotlib is currently using module://ipykernel.pylab.backend_inline, which is a non-GUI backend, so cannot show the figure.\n",
      "  import sys\n"
     ]
    },
    {
     "data": {
      "image/png": "[encoded data removed]",
      "text/plain": [
       "<Figure size 432x288 with 1 Axes>"
      ]
     },
     "metadata": {
      "needs_background": "light"
     },
     "output_type": "display_data"
    }
   ],
   "source": [
    "import numpy as np    \n",
    "import matplotlib.pyplot as plt\n",
    "arr = np.random.randint(1, 50, 10)\n",
    "y, x = np.histogram(arr, bins=np.arange(51))\n",
    "fig, ax = plt.subplots()\n",
    "ax.plot(x[:-1], y)\n",
    "fig.show()"
   ]
  },
  {
   "cell_type": "markdown",
   "metadata": {},
   "source": [
    "Q78. Write the NumPy program to extracts all the elements from second row from given (4x4) array?\n",
    "\n",
    "Sample Output- Original array- [[ 0 1 2 3] [ 4 5 6 7] [ 8 9 10 11] [12 13 14 15]] Extracted data- Second row [4 5 6 7]"
   ]
  },
  {
   "cell_type": "code",
   "execution_count": 485,
   "metadata": {},
   "outputs": [
    {
     "data": {
      "text/plain": [
       "array([[4, 5, 6, 7]])"
      ]
     },
     "execution_count": 485,
     "metadata": {},
     "output_type": "execute_result"
    }
   ],
   "source": [
    "import numpy as np\n",
    "x = np.arange(16).reshape((4, 4))\n",
    "x[1:2,0:4]"
   ]
  },
  {
   "cell_type": "markdown",
   "metadata": {},
   "source": [
    "Q79. Write the NumPy program to extract first element of the second row and fourth element of fourth row from a given (4x4) array? Sample Output- Original array- [[ 0 1 2 3] [ 4 5 6 7] [ 8 9 10 11] [12 13 14 15]] Extracted data- First element of the second row and fourth element of fourth row [ 4 15]"
   ]
  },
  {
   "cell_type": "code",
   "execution_count": 493,
   "metadata": {},
   "outputs": [
    {
     "data": {
      "text/plain": [
       "[4, 15]"
      ]
     },
     "execution_count": 493,
     "metadata": {},
     "output_type": "execute_result"
    }
   ],
   "source": [
    "import numpy as np\n",
    "x = np.arange(16).reshape((4, 4))\n",
    "[x[1,0],x[3,3]]"
   ]
  },
  {
   "cell_type": "markdown",
   "metadata": {},
   "source": [
    "Q80. Write the NumPy program to add two arrays A and B of sizes (3,3) and (,3)?\n",
    "Sample Output- Original array- Array-1 [[1 1 1] [1 1 1] [1 1 1]] Array-2 [0 1 2] A + B: [[1 2 3] [1 2 3] [1 2 3]]"
   ]
  },
  {
   "cell_type": "code",
   "execution_count": 499,
   "metadata": {},
   "outputs": [
    {
     "name": "stdout",
     "output_type": "stream",
     "text": [
      "[[1. 2. 3.]\n",
      " [1. 2. 3.]\n",
      " [1. 2. 3.]]\n"
     ]
    }
   ],
   "source": [
    "import numpy as np\n",
    "a1 = np.ones((3,3))\n",
    "a2 = np.array([0,1,2])\n",
    "print(a1+a2)"
   ]
  },
  {
   "cell_type": "markdown",
   "metadata": {},
   "source": [
    "Q81. Write the NumPy program to copy data from a given array to another array?\n",
    "Sample Output- Original array- [24 27 30 29 18 14] Copy of the said array- [24 27 30 29 18 14]"
   ]
  },
  {
   "cell_type": "code",
   "execution_count": 503,
   "metadata": {},
   "outputs": [
    {
     "name": "stdout",
     "output_type": "stream",
     "text": [
      "[24 27 30 29 18 14]\n",
      "[24 27 30 29 18 14]\n"
     ]
    }
   ],
   "source": [
    "import numpy as np\n",
    "a1=np.array([24, 27, 30, 29, 18, 14])\n",
    "a2 = a1\n",
    "print(a1)\n",
    "print(a2)"
   ]
  },
  {
   "cell_type": "markdown",
   "metadata": {},
   "source": [
    "Q82. Write the NumPy program to calculate the sum of all columns of the 2D numpy array? Sample Output- Original array- [[ 0 1 2 3 4 5 6 7 8] [ 9 10 11 12 13 14 15 16 17] [18 19 20 21 22 23 24 25 26] [27 28 29 30 31 32 33 34 35]] Sum of all columns- [54 58 62 66 70 74 78 82 86]"
   ]
  },
  {
   "cell_type": "code",
   "execution_count": 547,
   "metadata": {},
   "outputs": [
    {
     "data": {
      "text/plain": [
       "array([54, 58, 62, 66, 70, 74, 78, 86])"
      ]
     },
     "execution_count": 547,
     "metadata": {},
     "output_type": "execute_result"
    }
   ],
   "source": [
    "import numpy as np\n",
    "a1=np.array(np.arange(36))\n",
    "a1 = np.reshape(a1,(4,9))\n",
    "\n",
    "f1= np.sum(a1[0:,0:1])\n",
    "f2=np.sum(a1[0:,1:2])\n",
    "f3=np.sum(a1[0:,2:3])\n",
    "f4=np.sum(a1[0:,3:4])\n",
    "f5=np.sum(a1[0:,4:5])\n",
    "f6=np.sum(a1[0:,5:6])\n",
    "f7=np.sum(a1[0:,6:7])\n",
    "f8=np.sum(a1[0:,8:])\n",
    "    \n",
    "final=np.array([f1,f2,f3,f4,f5,f6,f7,f8])\n",
    "\n",
    "final\n"
   ]
  },
  {
   "cell_type": "code",
   "execution_count": 549,
   "metadata": {},
   "outputs": [
    {
     "data": {
      "text/plain": [
       "array([54, 58, 62, 66, 70, 74, 78, 82, 86])"
      ]
     },
     "execution_count": 549,
     "metadata": {},
     "output_type": "execute_result"
    }
   ],
   "source": [
    "f= np.sum(a1,axis=0)\n",
    "f"
   ]
  },
  {
   "cell_type": "markdown",
   "metadata": {},
   "source": [
    "Q83. Write the NumPy program to calculate averages without NaNs along the given array?\n",
    "Sample Output- Original array- [[10. 20. 30.] [40. 50. nan] [nan 6. nan] [nan nan nan]] \n",
    "Averages without NaNs along the said array- [20. 45. 6. nan]"
   ]
  },
  {
   "cell_type": "code",
   "execution_count": 556,
   "metadata": {},
   "outputs": [
    {
     "name": "stdout",
     "output_type": "stream",
     "text": [
      "Original array:\n",
      "[[10. 20. 30.]\n",
      " [40. 50. nan]\n",
      " [nan  6. nan]\n",
      " [nan nan nan]]\n",
      "Averages without NaNs along the said array:\n",
      "[20. 45.  6. nan]\n"
     ]
    }
   ],
   "source": [
    "import numpy as np\n",
    "arr1 = np.array([[10, 20 ,30], [40, 50, np.nan], [np.nan, 6, np.nan], [np.nan, np.nan, np.nan]])\n",
    "print(\"Original array:\")\n",
    "print(arr1)\n",
    "temp = np.ma.masked_array(arr1,np.isnan(arr1))\n",
    "result = np.mean(temp, axis=1)\n",
    "print(\"Averages without NaNs along the said array:\")\n",
    "print(result.filled(np.nan))"
   ]
  },
  {
   "cell_type": "markdown",
   "metadata": {},
   "source": [
    "Q84. Create two arrays of six elements. Write the NumPy program to count the number of instances of a value occurring in one array on the condition of another array.\n",
    "Sample Output- Original arrays- [ 10 -10 10 -10 -10 10] [0.85 0.45 0.9 0.8 0.12 0.6 ] Number of instances of a value occurring in one array on the condition of another array: 3"
   ]
  },
  {
   "cell_type": "code",
   "execution_count": 557,
   "metadata": {},
   "outputs": [
    {
     "name": "stdout",
     "output_type": "stream",
     "text": [
      "Original arrays:\n",
      "[ 10 -10  10 -10 -10  10]\n",
      "[0.85 0.45 0.9  0.8  0.12 0.6 ]\n",
      "\n",
      "Number of instances of a value occurring in one aray on the condition of another array:\n",
      "3\n"
     ]
    }
   ],
   "source": [
    "import numpy as np\n",
    "x = np.array([10,-10,10,-10,-10,10])\n",
    "y = np.array([.85,.45,.9,.8,.12,.6])\n",
    "print(\"Original arrays:\")\n",
    "print(x)\n",
    "print(y)\n",
    "result = np.sum((x == 10) & (y > .5))\n",
    "print(\"\\nNumber of instances of a value occurring in one aray on the condition of another array:\")\n",
    "print(result)"
   ]
  },
  {
   "cell_type": "markdown",
   "metadata": {},
   "source": [
    "Q85. Write the NumPy program to convert a Python dictionary to a Numpy ndarray ?\n",
    "Original dictionary- {'column0': {'a': 1, 'b': 0.0, 'c': 0.0, 'd': 2.0}, 'column1': {'a': 3.0, 'b': 1, 'c': 0.0, 'd': -1.0}, 'column2': {'a': 4, 'b': 1, 'c': 5.0, 'd': -1.0}, 'column3': {'a': 3.0, 'b': -1.0, 'c': -1.0, 'd': -1.0}} Type: <class 'dict'> ndarray- [[ 1. 0. 0. 2.] [ 3. 1. 0. -1.] [ 4. 1. 5. -1.] [ 3. -1. -1. -1.]] Type: <class 'numpy.ndarray'>"
   ]
  },
  {
   "cell_type": "code",
   "execution_count": 558,
   "metadata": {},
   "outputs": [
    {
     "name": "stdout",
     "output_type": "stream",
     "text": [
      "\n",
      "Original dictionary:\n",
      "{'column0': {'a': 1, 'b': 0.0, 'c': 0.0, 'd': 2.0}, 'column1': {'a': 3.0, 'b': 1, 'c': 0.0, 'd': -1.0}, 'column2': {'a': 4, 'b': 1, 'c': 5.0, 'd': -1.0}, 'column3': {'a': 3.0, 'b': -1.0, 'c': -1.0, 'd': -1.0}}\n",
      "Type:  <class 'dict'>\n",
      "\n",
      "ndarray:\n",
      "[[ 1.  0.  0.  2.]\n",
      " [ 3.  1.  0. -1.]\n",
      " [ 4.  1.  5. -1.]\n",
      " [ 3. -1. -1. -1.]]\n",
      "Type:  <class 'numpy.ndarray'>\n"
     ]
    }
   ],
   "source": [
    "import numpy as np\n",
    "from ast import literal_eval\n",
    "udict = \"\"\"{\"column0\":{\"a\":1,\"b\":0.0,\"c\":0.0,\"d\":2.0},\n",
    "   \"column1\":{\"a\":3.0,\"b\":1,\"c\":0.0,\"d\":-1.0},\n",
    "   \"column2\":{\"a\":4,\"b\":1,\"c\":5.0,\"d\":-1.0},\n",
    "   \"column3\":{\"a\":3.0,\"b\":-1.0,\"c\":-1.0,\"d\":-1.0}\n",
    "  }\"\"\"\n",
    "t = literal_eval(udict)\n",
    "print(\"\\nOriginal dictionary:\")\n",
    "print(t)\n",
    "print(\"Type: \",type(t))\n",
    "result_nparra = np.array([[v[j] for j in ['a', 'b', 'c', 'd']] for k, v in t.items()])\n",
    "print(\"\\nndarray:\")\n",
    "print(result_nparra)\n",
    "print(\"Type: \",type(result_nparra))"
   ]
  },
  {
   "cell_type": "markdown",
   "metadata": {},
   "source": [
    "Q86. Write the Numpy program to find and store the non-zero unique rows in an array after comparing each row with other row in the given matrix?\n",
    "\n",
    "Original array- [[ 1 1 0] [ 0 0 0] [ 0 2 3] [ 0 0 0] [ 0 -1 1] [ 0 0 0]] Non-zero unique rows- [[ 1 1 0] [ 0 2 3] [ 0 -1 1]]"
   ]
  },
  {
   "cell_type": "code",
   "execution_count": 559,
   "metadata": {},
   "outputs": [
    {
     "name": "stdout",
     "output_type": "stream",
     "text": [
      "Original array:\n",
      "[[ 1  1  0]\n",
      " [ 0  0  0]\n",
      " [ 0  2  3]\n",
      " [ 0  0  0]\n",
      " [ 0 -1  1]\n",
      " [ 0  0  0]]\n",
      "\n",
      "Non-zero unique rows:\n",
      "[[ 1  1  0]\n",
      " [ 0  2  3]\n",
      " [ 0 -1  1]]\n"
     ]
    }
   ],
   "source": [
    "import numpy as np\n",
    "arra = np.array([[ 1,  1,  0],\n",
    "                 [ 0,  0,  0],\n",
    "                 [ 0,  2,  3],\n",
    "                 [ 0,  0,  0],\n",
    "                 [ 0, -1,  1],\n",
    "                 [ 0,  0,  0]])\n",
    "\n",
    "print(\"Original array:\")\n",
    "print(arra)\n",
    "temp = {(0, 0, 0)}\n",
    "result = []\n",
    "for idx, row in enumerate(map(tuple, arra)):\n",
    "    if row not in temp:\n",
    "        result.append(idx)\n",
    "print(\"\\nNon-zero unique rows:\")\n",
    "print(arra[result])"
   ]
  },
  {
   "cell_type": "markdown",
   "metadata": {},
   "source": [
    "Q87. Write the NumPy program to multiply the matrix by another matrix of complex numbers and create a new matrix of complex numbers? Sample output- First array- [ 1.+2.j 3.+4.j] Second array- [ 5.+6.j 7.+8.j] Product of above two arrays- (70-8j)"
   ]
  },
  {
   "cell_type": "code",
   "execution_count": 561,
   "metadata": {},
   "outputs": [
    {
     "name": "stdout",
     "output_type": "stream",
     "text": [
      "First array:\n",
      "[1.+2.j 3.+4.j]\n",
      "Second array:\n",
      "[5.+6.j 7.+8.j]\n",
      "Product of above two arrays:\n",
      "(70-8j)\n"
     ]
    }
   ],
   "source": [
    "import numpy as np\n",
    "x = np.array([1+2j,3+4j])\n",
    "print(\"First array:\")\n",
    "print(x)\n",
    "y = np.array([5+6j,7+8j])\n",
    "print(\"Second array:\")\n",
    "print(y)\n",
    "z = np.vdot(x, y)\n",
    "print(\"Product of above two arrays:\")\n",
    "print(z)\n"
   ]
  },
  {
   "cell_type": "markdown",
   "metadata": {},
   "source": [
    "Q88. Write a NumPy program to generate the matrix product of two Arrays?\n",
    "Sample Output- Matrices and vectors. x- [[1, 0], [1, 1]] y- [[3, 1], [2, 2]] Matrix product of above two arrays-\n",
    "[[3 1] [5 3]]"
   ]
  },
  {
   "cell_type": "code",
   "execution_count": 564,
   "metadata": {},
   "outputs": [
    {
     "data": {
      "text/plain": [
       "array([[3, 1],\n",
       "       [5, 3]])"
      ]
     },
     "execution_count": 564,
     "metadata": {},
     "output_type": "execute_result"
    }
   ],
   "source": [
    "import numpy as np\n",
    "x= np.array([[1, 0], [1, 1]])\n",
    "y =np.array( [[3, 1], [2, 2]])\n",
    "c = x.dot(y)\n",
    "c"
   ]
  },
  {
   "cell_type": "markdown",
   "metadata": {},
   "source": [
    "Q89. Write the NumPy program to find roots of the following Polynomials? a) (x2 - 4x + 7) b) x4 - 11x3 + 9x2 + 11x ? 10 Sample output- Roots of the first polynomial- [ 1. 1.] Roots of the second polynomial- [ 11.04461946+0.j -0.87114210+0.j 0.91326132+0.4531004j 0.91326132-0.4531004j ]"
   ]
  },
  {
   "cell_type": "code",
   "execution_count": 565,
   "metadata": {},
   "outputs": [
    {
     "name": "stdout",
     "output_type": "stream",
     "text": [
      "Roots of the first polynomial:\n",
      "[1. 1.]\n",
      "Roots of the second polynomial:\n",
      "[11.04461946+0.j        -0.8711421 +0.j         0.91326132+0.4531004j\n",
      "  0.91326132-0.4531004j]\n"
     ]
    }
   ],
   "source": [
    "import numpy as np\n",
    "print(\"Roots of the first polynomial:\")\n",
    "print(np.roots([1, -2, 1]))\n",
    "print(\"Roots of the second polynomial:\")\n",
    "print(np.roots([1, -12, 10, 7, -10]))"
   ]
  },
  {
   "cell_type": "markdown",
   "metadata": {},
   "source": [
    "Q90. Write the NumPy program to calculate inverse of sine, cosine, and inverse tangent for all elements in a given array?\n",
    "Sample output- Inverse sine- [-1.57079633 0. 1.57079633] Inverse cosine- [3.14159265 1.57079633 0. ] Inverse tangent- [-0.78539816 0. 0.78539816]"
   ]
  },
  {
   "cell_type": "code",
   "execution_count": 566,
   "metadata": {},
   "outputs": [
    {
     "name": "stdout",
     "output_type": "stream",
     "text": [
      "Inverse sine: [-1.57079633  0.          1.57079633]\n",
      "Inverse cosine: [3.14159265 1.57079633 0.        ]\n",
      "Inverse tangent: [-0.78539816  0.          0.78539816]\n"
     ]
    }
   ],
   "source": [
    "import numpy as np\n",
    "x = np.array([-1., 0, 1.])\n",
    "print(\"Inverse sine:\", np.arcsin(x))\n",
    "print(\"Inverse cosine:\", np.arccos(x))\n",
    "print(\"Inverse tangent:\", np.arctan(x))"
   ]
  },
  {
   "cell_type": "markdown",
   "metadata": {},
   "source": [
    "Q91. Write the NumPy program to calculate the difference between in neighbouring elements, element-wise of a given array? Sample output- Original array- [1 3 5 7 0] Difference between neighbouring elements, element-wise of the said array- [ 2 2 2 -7]"
   ]
  },
  {
   "cell_type": "code",
   "execution_count": 570,
   "metadata": {},
   "outputs": [
    {
     "name": "stdout",
     "output_type": "stream",
     "text": [
      "Original array: \n",
      "[1 3 5 7 0]\n",
      "Difference between neighboring elements, element-wise, and prepend [0, 0] and append[100] to the said array:\n",
      "[  0   0   2   2   2  -7 200]\n"
     ]
    }
   ],
   "source": [
    "import numpy as np\n",
    "x = np.array([1, 3, 5, 7, 0])\n",
    "print(\"Original array: \")\n",
    "print(x)\n",
    "r1 = np.ediff1d(x, to_begin=[0, 0], to_end=[200])\n",
    "r2 = np.insert(np.append(np.diff(x), 200), 0, [0, 0])\n",
    "assert np.array_equiv(r1, r2)\n",
    "print(\"Difference between neighboring elements, element-wise, and prepend [0, 0] and append[100] to the said array:\")\n",
    "print(r2)"
   ]
  },
  {
   "cell_type": "markdown",
   "metadata": {},
   "source": [
    "Q92. Write the Python program to find the maximum and the minimum value of a given flattened array?\n",
    "Expected Output- Original flattened array- [[0 1] [2 3]] Maximum value of the above flattened array- 3 Minimum value of the above flattened array- 0"
   ]
  },
  {
   "cell_type": "code",
   "execution_count": 580,
   "metadata": {},
   "outputs": [
    {
     "name": "stdout",
     "output_type": "stream",
     "text": [
      "0 3\n"
     ]
    }
   ],
   "source": [
    "import numpy as np\n",
    "x = np.array( [[0,1] ,[2,3]])\n",
    "c =x.flatten()\n",
    "print(c.min(),c.max())"
   ]
  },
  {
   "cell_type": "markdown",
   "metadata": {},
   "source": [
    "Q93. Write the NumPy program to calculate the difference between in the maximum and the minimum values of a given array along the second axis ?\n",
    "Expected Output- Original array- [[ 0 1 2 3 4 5] [ 6 7 8 9 10 11]] Difference between the maximum and the minimum values of the said array- [5 5]"
   ]
  },
  {
   "cell_type": "code",
   "execution_count": 592,
   "metadata": {},
   "outputs": [
    {
     "name": "stdout",
     "output_type": "stream",
     "text": [
      "0\n",
      "11\n"
     ]
    }
   ],
   "source": [
    "import numpy as np\n",
    "x = np.array( [[ 0, 1, 2, 3, 4, 5], [ 6, 7, 8, 9, 10, 11,]])\n",
    "print(x[0].min())\n",
    "print(x[1].max())\n"
   ]
  },
  {
   "cell_type": "markdown",
   "metadata": {},
   "source": [
    "Q94. Write the NumPy program to compute the weighted of the given array ?\n",
    "Sample Output- Original array- [0 1 2 3 4] Weighted average of the said array- 2.6666666666666665"
   ]
  },
  {
   "cell_type": "code",
   "execution_count": 593,
   "metadata": {},
   "outputs": [
    {
     "name": "stdout",
     "output_type": "stream",
     "text": [
      "\n",
      "Original array:\n",
      "[0 1 2 3 4]\n",
      "\n",
      "Weighted average of the said array:\n",
      "2.6666666666666665\n"
     ]
    }
   ],
   "source": [
    "import numpy as np\n",
    "x = np.arange(5)\n",
    "print(\"\\nOriginal array:\")\n",
    "print(x)\n",
    "weights = np.arange(1, 6)\n",
    "r1 = np.average(x, weights=weights)\n",
    "r2 = (x*(weights/weights.sum())).sum()\n",
    "assert np.allclose(r1, r2)\n",
    "print(\"\\nWeighted average of the said array:\")\n",
    "print(r1)"
   ]
  },
  {
   "cell_type": "markdown",
   "metadata": {},
   "source": [
    "Q95. Write the NumPy program to compute the mean, standard deviation, and the variance of a given array along the second axis?\n",
    "Sample output- Original array- [0 1 2 3 4 5] Mean- 2.5 std- 1 variance- 2.9166666666666665"
   ]
  },
  {
   "cell_type": "code",
   "execution_count": 604,
   "metadata": {},
   "outputs": [
    {
     "name": "stdout",
     "output_type": "stream",
     "text": [
      "\n",
      "Original array:\n",
      "[0 1 2 3 4 5]\n",
      "\n",
      "Mean:  2.5\n",
      "\n",
      "std:  1\n",
      "\n",
      "variance:  2.9166666666666665\n"
     ]
    }
   ],
   "source": [
    "import numpy as np\n",
    "x = np.arange(6)\n",
    "print(\"\\nOriginal array:\")\n",
    "print(x)\n",
    "r1 = np.mean(x)\n",
    "r2 = np.average(x)\n",
    "print(\"\\nMean: \", r1)\n",
    "r1 = np.std(x)\n",
    "r2 = np.sqrt(np.mean((x - np.mean(x)) ** 2 ))\n",
    "print(\"\\nstd: \", 1)\n",
    "r1= np.var(x)\n",
    "r2 = np.mean((x - np.mean(x)) ** 2 )\n",
    "print(\"\\nvariance: \", r1)"
   ]
  },
  {
   "cell_type": "markdown",
   "metadata": {},
   "source": [
    "Q96. Write the Numpy program to compute the covariance matrix of the two given arrays?\n",
    "Sample Output- Original array1- [0 1 2] Original array1- [2 1 0] Covariance matrix of the said arrays- [[ 1. -1.] [-1. 1.]]"
   ]
  },
  {
   "cell_type": "code",
   "execution_count": 605,
   "metadata": {},
   "outputs": [
    {
     "name": "stdout",
     "output_type": "stream",
     "text": [
      "\n",
      "Original array1:\n",
      "[0 1 2]\n",
      "\n",
      "Original array1:\n",
      "[2 1 0]\n",
      "\n",
      "Covariance matrix of the said arrays:\n",
      " [[ 1. -1.]\n",
      " [-1.  1.]]\n"
     ]
    }
   ],
   "source": [
    "import numpy as np\n",
    "x = np.array([0, 1, 2])\n",
    "y = np.array([2, 1, 0])\n",
    "print(\"\\nOriginal array1:\")\n",
    "print(x)\n",
    "print(\"\\nOriginal array1:\")\n",
    "print(y)\n",
    "print(\"\\nCovariance matrix of the said arrays:\\n\",np.cov(x, y))"
   ]
  },
  {
   "cell_type": "markdown",
   "metadata": {},
   "source": [
    "Q97. Write a NumPy program to compute the cross-correlation of two given arrays ?\n",
    "Sample Output- Original array1-\n",
    "[0 1 3] Original array1- [2 4 5] Cross-correlation of the said arrays- [ [ 2.33333333 2.16666667 ] [ 2.16666667 2.33333333 ] ]"
   ]
  },
  {
   "cell_type": "code",
   "execution_count": 607,
   "metadata": {},
   "outputs": [
    {
     "name": "stdout",
     "output_type": "stream",
     "text": [
      "\n",
      "Original array1:\n",
      "[0 1 3]\n",
      "\n",
      "Original array1:\n",
      "[2 4 5]\n",
      "\n",
      "Covariance matrix of the said arrays:\n",
      " [[2.33333333 2.16666667]\n",
      " [2.16666667 2.33333333]]\n"
     ]
    }
   ],
   "source": [
    "import numpy as np\n",
    "x = np.array([0, 1, 3])\n",
    "y = np.array([2, 4, 5])\n",
    "print(\"\\nOriginal array1:\")\n",
    "print(x)\n",
    "print(\"\\nOriginal array1:\")\n",
    "print(y)\n",
    "print(\"\\nCovariance matrix of the said arrays:\\n\",np.cov(x, y))"
   ]
  },
  {
   "cell_type": "markdown",
   "metadata": {},
   "source": [
    "Q98. Write the NumPy program to compute Pearson product-moment correlation coefficients of two given arrays?\n",
    "Sample Output- Original array1- [0 1 3] Original array1- [2 4 5] Pearson product-moment correlation coefficients of the said arrays- [[1. 0.92857143] [0.92857143 1. ]]"
   ]
  },
  {
   "cell_type": "code",
   "execution_count": 611,
   "metadata": {},
   "outputs": [
    {
     "name": "stdout",
     "output_type": "stream",
     "text": [
      "[[1.         0.92857143]\n",
      " [0.92857143 1.        ]]\n"
     ]
    }
   ],
   "source": [
    "import numpy as np\n",
    "x = np.array([ 0,1,3 ])\n",
    "y = np.array([2,4,5])\n",
    "print(np.corrcoef(x,y))"
   ]
  },
  {
   "cell_type": "markdown",
   "metadata": {},
   "source": [
    "Q99. Write the python program to count the number of occurrences of each value in a given array of non-negative integers? Note: bincount() Function- It count the occurrence of each value in an array of the non- negative integers in the range of the array between the minimum and maximum values including the values that did not occur. Sample Output- Original array- [0, 1, 6, 1, 4, 1, 2, 2, 7] Number of occurrences of each value in array- [1 3 2 0 1 0 1 1]"
   ]
  },
  {
   "cell_type": "code",
   "execution_count": 612,
   "metadata": {},
   "outputs": [
    {
     "name": "stdout",
     "output_type": "stream",
     "text": [
      "Original array:\n",
      "[0, 1, 6, 1, 4, 1, 2, 2, 7]\n",
      "Number of occurrences of each value in array: \n",
      "[1 3 2 0 1 0 1 1]\n"
     ]
    }
   ],
   "source": [
    "import numpy as np\n",
    "array1 = [0, 1, 6, 1, 4, 1, 2, 2, 7] \n",
    "print(\"Original array:\")\n",
    "print(array1)\n",
    "print(\"Number of occurrences of each value in array: \")\n",
    "print(np.bincount(array1))"
   ]
  },
  {
   "cell_type": "markdown",
   "metadata": {},
   "source": [
    "Q100. Write a Numpy program to compute the histogram of nums against the bins?\n",
    "Sample Output- nums- [0.5 0.7 1. 1.2 1.3 2.1]\n",
    "bins- [0 1 2 3] Result- (array([2, 3, 1], dtype=int64), array([0, 1, 2, 3]))"
   ]
  },
  {
   "cell_type": "code",
   "execution_count": 613,
   "metadata": {},
   "outputs": [
    {
     "name": "stdout",
     "output_type": "stream",
     "text": [
      "nums:  [0.5 0.7 1.  1.2 1.3 2.1]\n",
      "bins:  [0 1 2 3]\n",
      "Result: (array([2, 3, 1], dtype=int64), array([0, 1, 2, 3]))\n"
     ]
    },
    {
     "data": {
      "image/png": "[encoded data removed]",
      "text/plain": [
       "<Figure size 432x288 with 1 Axes>"
      ]
     },
     "metadata": {
      "needs_background": "light"
     },
     "output_type": "display_data"
    }
   ],
   "source": [
    "import numpy as np\n",
    "import matplotlib.pyplot as plt\n",
    "nums = np.array([0.5, 0.7, 1.0, 1.2, 1.3, 2.1])\n",
    "bins = np.array([0, 1, 2, 3])\n",
    "print(\"nums: \",nums)\n",
    "print(\"bins: \",bins)\n",
    "print(\"Result:\", np.histogram(nums, bins))\n",
    "plt.hist(nums, bins=bins)\n",
    "plt.show()"
   ]
  },
  {
   "cell_type": "markdown",
   "metadata": {},
   "source": [
    "Q101. Write the Python program to add, subtract, multiply and divide two pandas series ? Sample Series- [2, 4, 6, 8, 10], [1, 3, 5, 7, 9]"
   ]
  },
  {
   "cell_type": "code",
   "execution_count": 614,
   "metadata": {},
   "outputs": [
    {
     "name": "stdout",
     "output_type": "stream",
     "text": [
      "Add two Series:\n",
      "0     3\n",
      "1     7\n",
      "2    11\n",
      "3    15\n",
      "4    19\n",
      "dtype: int64\n",
      "Subtract two Series:\n",
      "0    1\n",
      "1    1\n",
      "2    1\n",
      "3    1\n",
      "4    1\n",
      "dtype: int64\n",
      "Multiply two Series:\n",
      "0     2\n",
      "1    12\n",
      "2    30\n",
      "3    56\n",
      "4    90\n",
      "dtype: int64\n",
      "Divide Series1 by Series2:\n",
      "0    2.000000\n",
      "1    1.333333\n",
      "2    1.200000\n",
      "3    1.142857\n",
      "4    1.111111\n",
      "dtype: float64\n"
     ]
    }
   ],
   "source": [
    "import pandas as pd\n",
    "ds1 = pd.Series([2, 4, 6, 8, 10])\n",
    "ds2 = pd.Series([1, 3, 5, 7, 9])\n",
    "ds = ds1 + ds2\n",
    "print(\"Add two Series:\")\n",
    "print(ds)\n",
    "print(\"Subtract two Series:\")\n",
    "ds = ds1 - ds2\n",
    "print(ds)\n",
    "print(\"Multiply two Series:\")\n",
    "ds = ds1 * ds2\n",
    "print(ds)\n",
    "print(\"Divide Series1 by Series2:\")\n",
    "ds = ds1 / ds2\n",
    "print(ds)"
   ]
  },
  {
   "cell_type": "markdown",
   "metadata": {},
   "source": [
    "Q102. Write a Python program to convert a dictionary to the Pandas Series?\n",
    "Sample Series- Original dictionary- {'a': 100, 'b': 200, 'c': 300, 'd': 400, 'e': 800} Converted series - a 100 b 200 c 300 d 400 e 800 dtype- int64"
   ]
  },
  {
   "cell_type": "code",
   "execution_count": 617,
   "metadata": {},
   "outputs": [
    {
     "name": "stdout",
     "output_type": "stream",
     "text": [
      "Original dictionary:\n",
      "{'a': 100, 'b': 200, 'c': 300, 'd': 400, 'e': 800}\n",
      "Converted series:\n",
      "a    100\n",
      "b    200\n",
      "c    300\n",
      "d    400\n",
      "e    800\n",
      "dtype: int64\n"
     ]
    }
   ],
   "source": [
    "import pandas as pd\n",
    "d1 = {'a': 100, 'b': 200, 'c':300, 'd':400, 'e':800}\n",
    "print(\"Original dictionary:\")\n",
    "print(d1)\n",
    "new_series = pd.Series(d1)\n",
    "print(\"Converted series:\")\n",
    "print(new_series)"
   ]
  },
  {
   "cell_type": "markdown",
   "metadata": {},
   "source": [
    "Q103. Write a python program to change the data type of given a column or a Series?\n",
    "Sample Series- Original Data Series- 0 100\n",
    "1 200 2 python 3 300.12 4 400 dtype- object Change the said data type to numeric- 0 100.00 1 200.00 2 NaN 3 300.12 4 400.00 dtype- float64"
   ]
  },
  {
   "cell_type": "code",
   "execution_count": 619,
   "metadata": {},
   "outputs": [
    {
     "name": "stdout",
     "output_type": "stream",
     "text": [
      "Original Data Series:\n",
      "0       100\n",
      "1       200\n",
      "2    python\n",
      "3    300.12\n",
      "4       400\n",
      "dtype: object\n",
      "Change the said data type to numeric:\n",
      "0    100.00\n",
      "1    200.00\n",
      "2       NaN\n",
      "3    300.12\n",
      "4    400.00\n",
      "dtype: float64\n"
     ]
    }
   ],
   "source": [
    "import pandas as pd\n",
    "s1 = pd.Series(['100', '200', 'python', '300.12', '400'])\n",
    "print(\"Original Data Series:\")\n",
    "print(s1)\n",
    "print(\"Change the said data type to numeric:\")\n",
    "s2 = pd.to_numeric(s1, errors='coerce')\n",
    "print(s2)"
   ]
  },
  {
   "cell_type": "markdown",
   "metadata": {},
   "source": [
    "Q104. Write the python pandas program to convert the first column of a DataFrame as a Series? Sample Output- Original DataFrame- col1 col2 col3 0 1 4 7 1 2 5 5 2 3 6 8 3 4 9 12 4 7 5 1 5 11 0 11 1st column as a Series- 0 1 1 2 2 3 3 4 4 7 5 11 Name- col1, dtype- int64 <class 'pandas.core.series.Series'>"
   ]
  },
  {
   "cell_type": "code",
   "execution_count": 1,
   "metadata": {},
   "outputs": [
    {
     "name": "stdout",
     "output_type": "stream",
     "text": [
      "Original DataFrame\n",
      "   col1  col2  col3\n",
      "0     1     4     7\n",
      "1     2     5     5\n",
      "2     3     6     8\n",
      "3     4     9    12\n",
      "4     7     5     1\n",
      "5    11     0    11\n",
      "\n",
      "1st column as a Series:\n",
      "0     1\n",
      "1     2\n",
      "2     3\n",
      "3     4\n",
      "4     7\n",
      "5    11\n",
      "Name: col1, dtype: int64\n"
     ]
    },
    {
     "name": "stderr",
     "output_type": "stream",
     "text": [
      "C:\\ProgramData\\Anaconda3\\lib\\site-packages\\ipykernel_launcher.py:6: DeprecationWarning: \n",
      ".ix is deprecated. Please use\n",
      ".loc for label based indexing or\n",
      ".iloc for positional indexing\n",
      "\n",
      "See the documentation here:\n",
      "http://pandas.pydata.org/pandas-docs/stable/indexing.html#ix-indexer-is-deprecated\n",
      "  \n"
     ]
    }
   ],
   "source": [
    "import pandas as pd\n",
    "d = {'col1': [1, 2, 3, 4, 7, 11], 'col2': [4, 5, 6, 9, 5, 0], 'col3': [7, 5, 8, 12, 1,11]}\n",
    "df = pd.DataFrame(data=d)\n",
    "print(\"Original DataFrame\")\n",
    "print(df)\n",
    "s1 = df.ix[:,0]\n",
    "print(\"\\n1st column as a Series:\")\n",
    "print(s1)\n"
   ]
  },
  {
   "cell_type": "markdown",
   "metadata": {},
   "source": [
    "Q105. Write a pandas program to create the mean and standard deviation of the data of a given Series?\n",
    "Sample Output- Original Data Series- 0 1 1 2 2 3 3 4 4 5 5 6 6 7 7 8 8 9 9 5 10 3 dtype- int64 Mean of the said Data Series- 4.81818181818 Standard deviation of the said Data Series- 2.52262489555"
   ]
  },
  {
   "cell_type": "code",
   "execution_count": 2,
   "metadata": {},
   "outputs": [
    {
     "name": "stdout",
     "output_type": "stream",
     "text": [
      "Original Data Series:\n",
      "0     1\n",
      "1     2\n",
      "2     3\n",
      "3     4\n",
      "4     5\n",
      "5     6\n",
      "6     7\n",
      "7     8\n",
      "8     9\n",
      "9     5\n",
      "10    3\n",
      "dtype: int64\n",
      "Mean of the said Data Series:\n",
      "4.818181818181818\n",
      "Standard deviation of the said Data Series:\n",
      "2.522624895547565\n"
     ]
    }
   ],
   "source": [
    "import pandas as pd\n",
    "s = pd.Series(data = [1,2,3,4,5,6,7,8,9,5,3])\n",
    "print(\"Original Data Series:\")\n",
    "print(s)\n",
    "print(\"Mean of the said Data Series:\")\n",
    "print(s.mean())\n",
    "print(\"Standard deviation of the said Data Series:\")\n",
    "print(s.std())"
   ]
  },
  {
   "cell_type": "markdown",
   "metadata": {},
   "source": [
    "Q106. Write a pandas program to get powers of an array values element-wise? Note First array elements raised the powers from the second array. Sample data: {'X ':[78,85,96,80,86], ' Y ':[84,94,89,83,86],'Z':[86,97,96,72,83]} Expected Output: X Y Z 0 78 84 86 1 85 94 97 2 96 89 96 3 80 83 72 4 86 86 83"
   ]
  },
  {
   "cell_type": "code",
   "execution_count": 3,
   "metadata": {},
   "outputs": [
    {
     "name": "stdout",
     "output_type": "stream",
     "text": [
      "    X   Y   Z\n",
      "0  78  84  86\n",
      "1  85  94  97\n",
      "2  96  89  96\n",
      "3  80  83  72\n",
      "4  86  86  83\n"
     ]
    }
   ],
   "source": [
    "import pandas as pd\n",
    "df = pd.DataFrame({'X':[78,85,96,80,86], 'Y':[84,94,89,83,86],'Z':[86,97,96,72,83]});\n",
    "print(df)"
   ]
  },
  {
   "cell_type": "markdown",
   "metadata": {},
   "source": [
    "     Q107. Write the pandas program to get the first 3 rows of a given DataFrame?\n",
    "Sample Python dictionary data and list labels- exam_data = {'name': ['Anastasia', 'Dima', 'Katherine', 'James', 'Emily', 'Michael', 'Matthew', 'Laura', 'Kevin', 'Jonas'], 'score': [12.5, 9, 16.5, np.nan, 9, 20, 14.5, np.nan, 8, 19], 'attempts'- [1, 3, 2, 3, 2, 3, 1, 1, 2, 1], 'qualify'- [ 'yes', 'no', 'yes' , 'no', ' no ', ' yes ', 'yes', 'no', 'no', 'yes' ] } labels = ['a', 'b', 'c', 'd', 'e', 'f', 'g', 'h', 'i', 'j' ] Expected Output- First three rows of the data frame- attempts name qualify score a 1 Anastasia yes 12.5 b 3 Dima no 9.0 c 2 Katherine yes 16.5"
   ]
  },
  {
   "cell_type": "code",
   "execution_count": 4,
   "metadata": {},
   "outputs": [
    {
     "name": "stdout",
     "output_type": "stream",
     "text": [
      "First three rows of the data frame:\n",
      "        name  score  attempts qualify\n",
      "a  Anastasia   12.5         1     yes\n",
      "b       Dima    9.0         3      no\n",
      "c  Katherine   16.5         2     yes\n"
     ]
    }
   ],
   "source": [
    "import pandas as pd\n",
    "import numpy as np\n",
    "\n",
    "exam_data  = {'name': ['Anastasia', 'Dima', 'Katherine', 'James', 'Emily', 'Michael', 'Matthew', 'Laura', 'Kevin', 'Jonas'],\n",
    "        'score': [12.5, 9, 16.5, np.nan, 9, 20, 14.5, np.nan, 8, 19],\n",
    "        'attempts': [1, 3, 2, 3, 2, 3, 1, 1, 2, 1],\n",
    "        'qualify': ['yes', 'no', 'yes', 'no', 'no', 'yes', 'yes', 'no', 'no', 'yes']}\n",
    "labels = ['a', 'b', 'c', 'd', 'e', 'f', 'g', 'h', 'i', 'j']\n",
    "\n",
    "df = pd.DataFrame(exam_data , index=labels)\n",
    "print(\"First three rows of the data frame:\")\n",
    "print(df.iloc[:3])"
   ]
  },
  {
   "cell_type": "markdown",
   "metadata": {},
   "source": [
    "Q108: Write the pandas program to select the specified columns and the rows from a given data frame?\n",
    "Sample Python dictionary data and list labels- Select 'name' and 'score' columns in rows 1, 3, 5, 6 from the following data frame. exam_data = {'name ': [ 'Anastasia', 'Dima', 'Katherine', 'James', 'Emily', 'Michael', 'Matthew', 'Laura', 'Kevin', 'Jonas'], 'score'- [12.5, 9, 16.5, np.nan, 9, 20, 14.5, np.nan, 8, 19], 'attempts'- [1, 3, 2, 3, 2, 3, 1, 1, 2, 1], 'qualify'- ['yes', 'no', 'yes', 'no', 'no', 'yes', 'yes', 'no', 'no', 'yes'] } labels = ['a ', ' b ', ' c ', ' d ', ' e ', ' f ', ' g ', 'h', 'i', 'j'] Expected Output- Select specific columns and rows- name score b Dima 9.0 d James NaN f Michael 20.0 g Matthew 14.5"
   ]
  },
  {
   "cell_type": "code",
   "execution_count": 10,
   "metadata": {},
   "outputs": [
    {
     "name": "stdout",
     "output_type": "stream",
     "text": [
      "Select specific columns and rows:\n",
      "   score qualify\n",
      "b    9.0      no\n",
      "d    NaN      no\n",
      "f   20.0     yes\n",
      "g   14.5     yes\n"
     ]
    }
   ],
   "source": [
    "import pandas as pd\n",
    "import numpy as np\n",
    "\n",
    "exam_data  = {'name': ['Anastasia', 'Dima', 'Katherine', 'James', 'Emily', 'Michael', 'Matthew', 'Laura', 'Kevin', 'Jonas'],\n",
    "        'score': [12.5, 9, 16.5, np.nan, 9, 20, 14.5, np.nan, 8, 19],\n",
    "        'attempts': [1, 3, 2, 3, 2, 3, 1, 1, 2, 1],\n",
    "        'qualify': ['yes', 'no', 'yes', 'no', 'no', 'yes', 'yes', 'no', 'no', 'yes']}\n",
    "labels = ['a', 'b', 'c', 'd', 'e', 'f', 'g', 'h', 'i', 'j']\n",
    "\n",
    "df = pd.DataFrame(exam_data , index=labels)\n",
    "print(\"Select specific columns and rows:\")\n",
    "print(df.iloc[[1, 3, 5, 6], [1, 3]])"
   ]
  },
  {
   "cell_type": "markdown",
   "metadata": {},
   "source": [
    "Q109. Write the pandas program to calculate mean score for each different student in DataFrame?\n",
    "Sample Python dictionary data and list labels- exam_data = {'name': ['Anastasia', 'Dima', 'Katherine', 'James', 'Emily', 'Michael', 'Matthew', 'Laura', 'Kevin', 'Jonas'], 'score': [12.5, 9, 16.5, np.nan, 9, 20, 14.5, np.nan, 8, 19], 'attempts'- [1, 3, 2, 3, 2, 3, 1, 1, 2, 1], 'qualify'- ['yes', 'no', ' yes ', ' no ', ' no ', ' yes ', ' yes ', ' no ', ' no ', ' yes '] } labels = ['a', 'b', 'c', 'd', 'e', 'f', 'g', 'h', 'i', 'j'] Expected Output- Mean score for each different student in data frame: 13.5625"
   ]
  },
  {
   "cell_type": "code",
   "execution_count": 11,
   "metadata": {},
   "outputs": [
    {
     "name": "stdout",
     "output_type": "stream",
     "text": [
      "Original DataFrame\n",
      "   col1  col2  col3\n",
      "0     1     4     7\n",
      "1     2     5     8\n",
      "2     3     6     9\n",
      "New DataFrame after renaming columns:\n",
      "   Column1  Column2  Column3\n",
      "0        1        4        7\n",
      "1        2        5        8\n",
      "2        3        6        9\n"
     ]
    }
   ],
   "source": [
    "import pandas as pd\n",
    "d = {'col1': [1, 2, 3], 'col2': [4, 5, 6], 'col3': [7, 8, 9]}\n",
    "df = pd.DataFrame(data=d)\n",
    "print(\"Original DataFrame\")\n",
    "print(df)\n",
    "df.columns = ['Column1', 'Column2', 'Column3']\n",
    "df = df.rename(columns={'col1': 'Column1', 'col2': 'Column2', 'col3': 'Column3'})\n",
    "print(\"New DataFrame after renaming columns:\")\n",
    "print(df)"
   ]
  },
  {
   "cell_type": "markdown",
   "metadata": {},
   "source": [
    "Q111. Write a pandas program to count city-wise number of people from a given of data set (city, name of the person)?\n",
    "Sample data-\n",
    "\n",
    "city Number of people 0 California 4 1 Georgia 2 2 Los Angeles 4"
   ]
  },
  {
   "cell_type": "code",
   "execution_count": 12,
   "metadata": {},
   "outputs": [
    {
     "name": "stdout",
     "output_type": "stream",
     "text": [
      "          city  Number of people\n",
      "0   California                 4\n",
      "1      Georgia                 2\n",
      "2  Los Angeles                 4\n"
     ]
    }
   ],
   "source": [
    "import pandas as pd\n",
    "df1 = pd.DataFrame({'name': ['Anastasia', 'Dima', 'Katherine', 'James', 'Emily', 'Michael', 'Matthew', 'Laura', 'Kevin', 'Jonas'],\n",
    "'city': ['California', 'Los Angeles', 'California', 'California', 'California', 'Los Angeles', 'Los Angeles', 'Georgia', 'Georgia', 'Los Angeles']})\n",
    "g1 = df1.groupby([\"city\"]).size().reset_index(name='Number of people')\n",
    "print(g1)"
   ]
  },
  {
   "cell_type": "markdown",
   "metadata": {},
   "source": [
    "Q112. Write a pandas program to widen output display to see more columns?\n",
    "Sample data- Original data frame col1 col2 col3 0 1 4 7 1 4 5 8 2 3 6 9 3 4 7 0 4 5 8 1"
   ]
  },
  {
   "cell_type": "code",
   "execution_count": 13,
   "metadata": {},
   "outputs": [
    {
     "name": "stdout",
     "output_type": "stream",
     "text": [
      "Original DataFrame\n",
      "   col1  col2  col3\n",
      "0     1     4     7\n",
      "1     4     5     8\n",
      "2     3     6     9\n",
      "3     4     7     0\n",
      "4     5     8     1\n"
     ]
    }
   ],
   "source": [
    "import pandas as pd\n",
    "import numpy as np\n",
    "d = {'col1': [1, 4, 3, 4, 5], 'col2': [4, 5, 6, 7, 8], 'col3': [7, 8, 9, 0, 1]}\n",
    "df = pd.DataFrame(data=d)\n",
    "pd.set_option('display.max_rows', 500)\n",
    "pd.set_option('display.max_columns', 500)\n",
    "pd.set_option('display.width', 1000)\n",
    "print(\"Original DataFrame\")\n",
    "print(df)"
   ]
  },
  {
   "cell_type": "markdown",
   "metadata": {},
   "source": [
    "Q113. Write a pandas program to convert the data frame column type from string to DateTime?\n",
    "Sample data- String Date- 0 3/11/2000 1 3/12/2000 2 3/13/2000 dtype- object Original DataFrame (string to datetime)- 0 0 2000-03-11 1 2000-03-12 2 2000-03-13"
   ]
  },
  {
   "cell_type": "code",
   "execution_count": 14,
   "metadata": {},
   "outputs": [
    {
     "name": "stdout",
     "output_type": "stream",
     "text": [
      "String Date:\n",
      "0    3/11/2000\n",
      "1    3/12/2000\n",
      "2    3/13/2000\n",
      "dtype: object\n",
      "Original DataFrame (string to datetime):\n",
      "           0\n",
      "0 2000-03-11\n",
      "1 2000-03-12\n",
      "2 2000-03-13\n"
     ]
    }
   ],
   "source": [
    "import pandas as pd\n",
    "import numpy as np\n",
    "s = pd.Series(['3/11/2000', '3/12/2000', '3/13/2000'])\n",
    "print(\"String Date:\")\n",
    "print(s)\n",
    "r = pd.to_datetime(pd.Series(s))\n",
    "df = pd.DataFrame(r)\n",
    "print(\"Original DataFrame (string to datetime):\")\n",
    "print(df)"
   ]
  },
  {
   "cell_type": "markdown",
   "metadata": {},
   "source": [
    "Q114. Write a pandas program to append the data to an empty DataFrame?\n",
    "\n",
    "Sample data- Original DataFrame- After appending some data: col1 col2 0 0 0 1 1 1 2 2 2"
   ]
  },
  {
   "cell_type": "code",
   "execution_count": 15,
   "metadata": {},
   "outputs": [
    {
     "name": "stdout",
     "output_type": "stream",
     "text": [
      "After appending some data:\n",
      "   col1  col2\n",
      "0     0     0\n",
      "1     1     1\n",
      "2     2     2\n"
     ]
    }
   ],
   "source": [
    "import pandas as pd\n",
    "import numpy as np\n",
    "df = pd.DataFrame()\n",
    "data = pd.DataFrame({\"col1\": range(3),\"col2\": range(3)})\n",
    "print(\"After appending some data:\")\n",
    "df = df.append(data)\n",
    "print(df)"
   ]
  },
  {
   "cell_type": "markdown",
   "metadata": {},
   "source": [
    "Q115. Write a pandas program to count the number of columns of a DataFrame?\n",
    "Sample Output- Original DataFrame col1 col2 col3 0 1 4 7 1 2 5 8 2 3 6 12 3 4 9 1 4 7 5 11 Number of columns- 3"
   ]
  },
  {
   "cell_type": "code",
   "execution_count": 16,
   "metadata": {},
   "outputs": [
    {
     "name": "stdout",
     "output_type": "stream",
     "text": [
      "Original DataFrame\n",
      "   col1  col2  col3\n",
      "0     1     4     7\n",
      "1     2     5     8\n",
      "2     3     6    12\n",
      "3     4     9     1\n",
      "4     7     5    11\n",
      "\n",
      "Number of columns:\n",
      "3\n"
     ]
    }
   ],
   "source": [
    "import pandas as pd\n",
    "d = {'col1': [1, 2, 3, 4, 7], 'col2': [4, 5, 6, 9, 5], 'col3': [7, 8, 12, 1, 11]}\n",
    "df = pd.DataFrame(data=d)\n",
    "print(\"Original DataFrame\")\n",
    "print(df)\n",
    "print(\"\\nNumber of columns:\")\n",
    "print(len(df.columns))\n"
   ]
  },
  {
   "cell_type": "markdown",
   "metadata": {},
   "source": [
    "Q116. Write a Pandas program to remove the last n rows of a given DataFrame ?\n",
    "Sample Output: Original DataFrame col1 col2 col3 0 1 4 7 1 2 5 5 2 3 6 8 3 4 9 12 4 7 5 1 5 11 0 11 After removing last 3 rows of the said DataFrame- col1 col2 col3 0 1 4 7 1 2 5 5 2 3 6 8"
   ]
  },
  {
   "cell_type": "code",
   "execution_count": 17,
   "metadata": {},
   "outputs": [
    {
     "name": "stdout",
     "output_type": "stream",
     "text": [
      "Original DataFrame\n",
      "   col1  col2  col3\n",
      "0     1     4     7\n",
      "1     2     5     5\n",
      "2     3     6     8\n",
      "3     4     9    12\n",
      "4     7     5     1\n",
      "5    11     0    11\n",
      "\n",
      "After removing last 3 rows of the said DataFrame:\n",
      "   col1  col2  col3\n",
      "0     1     4     7\n",
      "1     2     5     5\n",
      "2     3     6     8\n"
     ]
    }
   ],
   "source": [
    "import pandas as pd\n",
    "d = {'col1': [1, 2, 3, 4, 7, 11], 'col2': [4, 5, 6, 9, 5, 0], 'col3': [7, 5, 8, 12, 1,11]}\n",
    "df = pd.DataFrame(data=d)\n",
    "print(\"Original DataFrame\")\n",
    "print(df)\n",
    "print(\"\\nAfter removing last 3 rows of the said DataFrame:\")\n",
    "df1 = df.iloc[:3]\n",
    "print(df1)"
   ]
  },
  {
   "cell_type": "markdown",
   "metadata": {},
   "source": [
    "Q117. Write a Pandas program to import excel data (coalpublic2013.xlsx ) into a Pandas data frame."
   ]
  },
  {
   "cell_type": "code",
   "execution_count": 36,
   "metadata": {},
   "outputs": [
    {
     "name": "stdout",
     "output_type": "stream",
     "text": [
      "    Year  MSHA ID                       Mine_Name  Production  Labor_Hours\n",
      "0   2013   103381            Tacoa Highwall Miner       56004        22392\n",
      "1   2013   103404                Reid School Mine       28807        28447\n",
      "2   2013   100759  North River #1 Underground Min     1440115       474784\n",
      "3   2013   103246                      Bear Creek       87587        29193\n",
      "4   2013   103451                     Knight Mine      147499        46393\n",
      "5   2013   103433              Crane Central Mine       69339        47195\n",
      "6   2013   100329                    Concord Mine           0       144002\n",
      "7   2013   100851                  Oak Grove Mine     2269014      1001809\n",
      "8   2013   102901                Shoal Creek Mine           0        12396\n",
      "9   2013   102901                Shoal Creek Mine     1453024      1237415\n",
      "10  2013   103180             Sloan Mountain Mine      327780       196963\n",
      "11  2013   103182                        Fishtrap      175058        87314\n",
      "12  2013   103285                     Narley Mine      154861        90584\n",
      "13  2013   103332                   Powhatan Mine      140521        61394\n",
      "14  2013   103375                    Johnson Mine         580         1900\n",
      "15  2013   103419               Maxine-Pratt Mine      125824       107469\n",
      "16  2013   103432                   Skelton Creek        8252          220\n",
      "17  2013   103437         Black Warrior Mine No 1      145924        70926\n",
      "18  2013   102976   Piney Woods Preparation Plant           0        14828\n",
      "19  2013   102976   Piney Woods Preparation Plant           0        23193\n",
      "20  2013   103380                          Calera           0        12621\n",
      "21  2013   103380                          Calera           0         1402\n",
      "22  2013   103422                 Clark No 1 Mine      122727       140250\n",
      "23  2013   103467             Helena Surface Mine       59664        30539\n",
      "24  2013   101247                       No 4 Mine     2622528      1551141\n",
      "25  2013   101401                       No 7 Mine     5405412      2464719\n",
      "26  2013   103172  Searles Mine No. 2, 3, 4, 5, 6      258078       119542\n",
      "27  2013   103179             Fleetwood Mine No 1       75937        63745\n",
      "28  2013   103303                    Shannon Mine      317491       164388\n",
      "29  2013   103323                   Deerlick Mine      133452        46381\n",
      "30  2013   103364           Brc Alabama No. 7 Llc           0        14324\n",
      "31  2013   103436                Swann's Crossing      137511        77190\n",
      "32  2013   100347                    Choctaw Mine      537429       215295\n",
      "33  2013   101362                 Manchester Mine      219457       116914\n",
      "34  2013   102996                  Jap Creek Mine      375715       164093\n",
      "35  2013   103155              Corinth Prep Plant           0        27996\n",
      "36  2013   103155              Corinth Prep Plant           0        51994\n",
      "37  2013   103195     Mccollum/Sparks Branch Mine       71910        17411\n",
      "38  2013   103342             Reese's Branch Mine      263888       115123\n",
      "39  2013   103370             Cresent Valley Mine        2860          621\n",
      "40  2013   103372                 Cane Creek Mine       66258        32401\n",
      "41  2013   103376                      Town Creek      299167       176499\n",
      "42  2013   103389                Carbon Hill Mine       76241        84966\n",
      "43  2013   103410                Coal Valley Mine      407841       158591\n",
      "44  2013   103423                Dutton Hill Mine       37275         9162\n",
      "45  2013  1519322                         Ghm #25       25054         3108\n",
      "46  2013   103321                  Poplar Springs      189370        76366\n",
      "47  2013   103358                       Old Union      284563       161805\n",
      "48  2013  5000030                        Usibelli     1631584       286079\n",
      "49  2013   201195                    Kayenta Mine     7602722      1015333\n"
     ]
    }
   ],
   "source": [
    "import pandas as pd\n",
    "\n",
    "df = pd.read_excel('coalpublic2013.xlsx')\n",
    "print(df)\n"
   ]
  },
  {
   "cell_type": "markdown",
   "metadata": {},
   "source": [
    "Q118. Write a Pandas program to import excel data (coalpublic2013.xlsx ) into a data frame and find details where \"Mine Name\" starts with \"P."
   ]
  },
  {
   "cell_type": "code",
   "execution_count": 39,
   "metadata": {},
   "outputs": [
    {
     "data": {
      "text/html": [
       "<div>\n",
       "<style scoped>\n",
       "    .dataframe tbody tr th:only-of-type {\n",
       "        vertical-align: middle;\n",
       "    }\n",
       "\n",
       "    .dataframe tbody tr th {\n",
       "        vertical-align: top;\n",
       "    }\n",
       "\n",
       "    .dataframe thead th {\n",
       "        text-align: right;\n",
       "    }\n",
       "</style>\n",
       "<table border=\"1\" class=\"dataframe\">\n",
       "  <thead>\n",
       "    <tr style=\"text-align: right;\">\n",
       "      <th></th>\n",
       "      <th>Year</th>\n",
       "      <th>MSHA ID</th>\n",
       "      <th>Mine_Name</th>\n",
       "      <th>Production</th>\n",
       "      <th>Labor_Hours</th>\n",
       "    </tr>\n",
       "  </thead>\n",
       "  <tbody>\n",
       "    <tr>\n",
       "      <th>13</th>\n",
       "      <td>2013</td>\n",
       "      <td>103332</td>\n",
       "      <td>Powhatan Mine</td>\n",
       "      <td>140521</td>\n",
       "      <td>61394</td>\n",
       "    </tr>\n",
       "    <tr>\n",
       "      <th>18</th>\n",
       "      <td>2013</td>\n",
       "      <td>102976</td>\n",
       "      <td>Piney Woods Preparation Plant</td>\n",
       "      <td>0</td>\n",
       "      <td>14828</td>\n",
       "    </tr>\n",
       "    <tr>\n",
       "      <th>19</th>\n",
       "      <td>2013</td>\n",
       "      <td>102976</td>\n",
       "      <td>Piney Woods Preparation Plant</td>\n",
       "      <td>0</td>\n",
       "      <td>23193</td>\n",
       "    </tr>\n",
       "    <tr>\n",
       "      <th>46</th>\n",
       "      <td>2013</td>\n",
       "      <td>103321</td>\n",
       "      <td>Poplar Springs</td>\n",
       "      <td>189370</td>\n",
       "      <td>76366</td>\n",
       "    </tr>\n",
       "  </tbody>\n",
       "</table>\n",
       "</div>"
      ],
      "text/plain": [
       "    Year  MSHA ID                      Mine_Name  Production  Labor_Hours\n",
       "13  2013   103332                  Powhatan Mine      140521        61394\n",
       "18  2013   102976  Piney Woods Preparation Plant           0        14828\n",
       "19  2013   102976  Piney Woods Preparation Plant           0        23193\n",
       "46  2013   103321                 Poplar Springs      189370        76366"
      ]
     },
     "execution_count": 39,
     "metadata": {},
     "output_type": "execute_result"
    }
   ],
   "source": [
    "import pandas as pd\n",
    "df = pd.read_excel('coalpublic2013.xlsx')\n",
    "df1= df['Mine_Name'].str.startswith('P',na = False)\n",
    "df[df1]"
   ]
  },
  {
   "cell_type": "markdown",
   "metadata": {},
   "source": [
    "Q119. Write a Pandas program to import excel data (employee.xlsx ) into a Pandas dataframe and find the list of employees where hire_date> 01-01-07."
   ]
  },
  {
   "cell_type": "code",
   "execution_count": 46,
   "metadata": {},
   "outputs": [
    {
     "data": {
      "text/html": [
       "<div>\n",
       "<style scoped>\n",
       "    .dataframe tbody tr th:only-of-type {\n",
       "        vertical-align: middle;\n",
       "    }\n",
       "\n",
       "    .dataframe tbody tr th {\n",
       "        vertical-align: top;\n",
       "    }\n",
       "\n",
       "    .dataframe thead th {\n",
       "        text-align: right;\n",
       "    }\n",
       "</style>\n",
       "<table border=\"1\" class=\"dataframe\">\n",
       "  <thead>\n",
       "    <tr style=\"text-align: right;\">\n",
       "      <th></th>\n",
       "      <th>emp_id</th>\n",
       "      <th>first_name</th>\n",
       "      <th>last_name</th>\n",
       "      <th>hire_date</th>\n",
       "    </tr>\n",
       "  </thead>\n",
       "  <tbody>\n",
       "    <tr>\n",
       "      <th>4</th>\n",
       "      <td>104</td>\n",
       "      <td>Bruce</td>\n",
       "      <td>Ernst</td>\n",
       "      <td>2007-05-21</td>\n",
       "    </tr>\n",
       "    <tr>\n",
       "      <th>7</th>\n",
       "      <td>107</td>\n",
       "      <td>Diana</td>\n",
       "      <td>Lorentz</td>\n",
       "      <td>2007-02-07</td>\n",
       "    </tr>\n",
       "    <tr>\n",
       "      <th>13</th>\n",
       "      <td>113</td>\n",
       "      <td>Luis</td>\n",
       "      <td>Popp</td>\n",
       "      <td>2007-12-07</td>\n",
       "    </tr>\n",
       "    <tr>\n",
       "      <th>19</th>\n",
       "      <td>119</td>\n",
       "      <td>Karen</td>\n",
       "      <td>Colmenares</td>\n",
       "      <td>2007-08-10</td>\n",
       "    </tr>\n",
       "  </tbody>\n",
       "</table>\n",
       "</div>"
      ],
      "text/plain": [
       "    emp_id first_name   last_name  hire_date\n",
       "4      104      Bruce       Ernst 2007-05-21\n",
       "7      107      Diana     Lorentz 2007-02-07\n",
       "13     113       Luis        Popp 2007-12-07\n",
       "19     119      Karen  Colmenares 2007-08-10"
      ]
     },
     "execution_count": 46,
     "metadata": {},
     "output_type": "execute_result"
    }
   ],
   "source": [
    "import pandas as pd\n",
    "df = pd.read_excel('employee.xlsx')\n",
    "df1=df['hire_date']> ' 2007-01-01'\n",
    "df[df1]"
   ]
  },
  {
   "cell_type": "markdown",
   "metadata": {},
   "source": [
    "Q120. Write a Pandas program to import excel data (employee.xlsx ) into a Pandas dataframe and find a list of the employees of a specified year"
   ]
  },
  {
   "cell_type": "code",
   "execution_count": 50,
   "metadata": {},
   "outputs": [
    {
     "name": "stdout",
     "output_type": "stream",
     "text": [
      "            emp_id   first_name   last_name\n",
      "hire_date                                  \n",
      "2003-06-17     100       Steven        King\n",
      "2005-09-21     101        Neena     Kochhar\n",
      "2001-01-13     102          Lex     De Haan\n",
      "2006-01-03     103    Alexander      Hunold\n",
      "2007-05-21     104        Bruce       Ernst\n",
      "2005-06-25     105        David      Austin\n",
      "2006-02-05     106        Valli   Pataballa\n",
      "2007-02-07     107        Diana     Lorentz\n",
      "2002-08-17     108        Nancy   Greenberg\n",
      "2002-08-16     109       Daniel      Faviet\n",
      "2005-09-28     110         John        Chen\n",
      "2005-09-30     111       Ismael     Sciarra\n",
      "2006-03-07     112  Jose Manuel       Urman\n",
      "2007-12-07     113         Luis        Popp\n",
      "2002-12-07     114          Den    Raphaely\n",
      "2003-05-18     115    Alexander        Khoo\n",
      "2005-12-24     116       Shelli       Baida\n",
      "2005-07-24     117        Sigal      Tobias\n",
      "2006-11-15     118          Guy      Himuro\n",
      "2007-08-10     119        Karen  Colmenares\n"
     ]
    },
    {
     "data": {
      "text/html": [
       "<div>\n",
       "<style scoped>\n",
       "    .dataframe tbody tr th:only-of-type {\n",
       "        vertical-align: middle;\n",
       "    }\n",
       "\n",
       "    .dataframe tbody tr th {\n",
       "        vertical-align: top;\n",
       "    }\n",
       "\n",
       "    .dataframe thead th {\n",
       "        text-align: right;\n",
       "    }\n",
       "</style>\n",
       "<table border=\"1\" class=\"dataframe\">\n",
       "  <thead>\n",
       "    <tr style=\"text-align: right;\">\n",
       "      <th></th>\n",
       "      <th>emp_id</th>\n",
       "      <th>first_name</th>\n",
       "      <th>last_name</th>\n",
       "    </tr>\n",
       "    <tr>\n",
       "      <th>hire_date</th>\n",
       "      <th></th>\n",
       "      <th></th>\n",
       "      <th></th>\n",
       "    </tr>\n",
       "  </thead>\n",
       "  <tbody>\n",
       "    <tr>\n",
       "      <th>2005-09-21</th>\n",
       "      <td>101</td>\n",
       "      <td>Neena</td>\n",
       "      <td>Kochhar</td>\n",
       "    </tr>\n",
       "    <tr>\n",
       "      <th>2005-06-25</th>\n",
       "      <td>105</td>\n",
       "      <td>David</td>\n",
       "      <td>Austin</td>\n",
       "    </tr>\n",
       "    <tr>\n",
       "      <th>2005-09-28</th>\n",
       "      <td>110</td>\n",
       "      <td>John</td>\n",
       "      <td>Chen</td>\n",
       "    </tr>\n",
       "    <tr>\n",
       "      <th>2005-09-30</th>\n",
       "      <td>111</td>\n",
       "      <td>Ismael</td>\n",
       "      <td>Sciarra</td>\n",
       "    </tr>\n",
       "    <tr>\n",
       "      <th>2005-12-24</th>\n",
       "      <td>116</td>\n",
       "      <td>Shelli</td>\n",
       "      <td>Baida</td>\n",
       "    </tr>\n",
       "    <tr>\n",
       "      <th>2005-07-24</th>\n",
       "      <td>117</td>\n",
       "      <td>Sigal</td>\n",
       "      <td>Tobias</td>\n",
       "    </tr>\n",
       "  </tbody>\n",
       "</table>\n",
       "</div>"
      ],
      "text/plain": [
       "            emp_id first_name last_name\n",
       "hire_date                              \n",
       "2005-09-21     101      Neena   Kochhar\n",
       "2005-06-25     105      David    Austin\n",
       "2005-09-28     110       John      Chen\n",
       "2005-09-30     111     Ismael   Sciarra\n",
       "2005-12-24     116     Shelli     Baida\n",
       "2005-07-24     117      Sigal    Tobias"
      ]
     },
     "execution_count": 50,
     "metadata": {},
     "output_type": "execute_result"
    }
   ],
   "source": [
    "import pandas as pd\n",
    "df = pd.read_excel('employee.xlsx')\n",
    "df2 = df.set_index(['hire_date'])\n",
    "print(df2)\n",
    "result = df2[\"2005\"]\n",
    "result"
   ]
  },
  {
   "cell_type": "markdown",
   "metadata": {},
   "source": [
    "Q121. Write a pandas program to import three datasheets from a given excel data (coalpublic2013.xlsx ) in to a single dataframe.\n"
   ]
  },
  {
   "cell_type": "code",
   "execution_count": 75,
   "metadata": {},
   "outputs": [
    {
     "name": "stdout",
     "output_type": "stream",
     "text": [
      "    Year  MSHA ID                       Mine_Name  Production  Labor_Hours\n",
      "0   2013   103381            Tacoa Highwall Miner       56004        22392\n",
      "1   2013   103404                Reid School Mine       28807        28447\n",
      "2   2013   100759  North River #1 Underground Min     1440115       474784\n",
      "3   2013   103246                      Bear Creek       87587        29193\n",
      "4   2013   103451                     Knight Mine      147499        46393\n",
      "5   2013   103433              Crane Central Mine       69339        47195\n",
      "6   2013   100329                    Concord Mine           0       144002\n",
      "7   2013   100851                  Oak Grove Mine     2269014      1001809\n",
      "8   2013   102901                Shoal Creek Mine           0        12396\n",
      "9   2013   102901                Shoal Creek Mine     1453024      1237415\n",
      "10  2013   103180             Sloan Mountain Mine      327780       196963\n",
      "11  2013   103182                        Fishtrap      175058        87314\n",
      "12  2013   103285                     Narley Mine      154861        90584\n",
      "13  2013   103332                   Powhatan Mine      140521        61394\n",
      "14  2013   103375                    Johnson Mine         580         1900\n",
      "15  2013   103419               Maxine-Pratt Mine      125824       107469\n",
      "16  2013   103432                   Skelton Creek        8252          220\n",
      "17  2013   103437         Black Warrior Mine No 1      145924        70926\n",
      "18  2013   102976   Piney Woods Preparation Plant           0        14828\n",
      "19  2013   102976   Piney Woods Preparation Plant           0        23193\n",
      "20  2013   103380                          Calera           0        12621\n",
      "21  2013   103380                          Calera           0         1402\n",
      "22  2013   103422                 Clark No 1 Mine      122727       140250\n",
      "23  2013   103467             Helena Surface Mine       59664        30539\n",
      "24  2013   101247                       No 4 Mine     2622528      1551141\n",
      "25  2013   101401                       No 7 Mine     5405412      2464719\n",
      "26  2013   103172  Searles Mine No. 2, 3, 4, 5, 6      258078       119542\n",
      "27  2013   103179             Fleetwood Mine No 1       75937        63745\n",
      "28  2013   103303                    Shannon Mine      317491       164388\n",
      "29  2013   103323                   Deerlick Mine      133452        46381\n",
      "30  2013   103364           Brc Alabama No. 7 Llc           0        14324\n",
      "31  2013   103436                Swann's Crossing      137511        77190\n",
      "32  2013   100347                    Choctaw Mine      537429       215295\n",
      "33  2013   101362                 Manchester Mine      219457       116914\n",
      "34  2013   102996                  Jap Creek Mine      375715       164093\n",
      "35  2013   103155              Corinth Prep Plant           0        27996\n",
      "36  2013   103155              Corinth Prep Plant           0        51994\n",
      "37  2013   103195     Mccollum/Sparks Branch Mine       71910        17411\n",
      "38  2013   103342             Reese's Branch Mine      263888       115123\n",
      "39  2013   103370             Cresent Valley Mine        2860          621\n",
      "40  2013   103372                 Cane Creek Mine       66258        32401\n",
      "41  2013   103376                      Town Creek      299167       176499\n",
      "42  2013   103389                Carbon Hill Mine       76241        84966\n",
      "43  2013   103410                Coal Valley Mine      407841       158591\n",
      "44  2013   103423                Dutton Hill Mine       37275         9162\n",
      "45  2013  1519322                         Ghm #25       25054         3108\n",
      "46  2013   103321                  Poplar Springs      189370        76366\n",
      "47  2013   103358                       Old Union      284563       161805\n",
      "48  2013  5000030                        Usibelli     1631584       286079\n",
      "49  2013   201195                    Kayenta Mine     7602722      1015333\n",
      "0   2013   103381            Tacoa Highwall Miner       56004        22392\n",
      "1   2013   103404                Reid School Mine       28807        28447\n",
      "2   2013   100759  North River #1 Underground Min     1440115       474784\n",
      "3   2013   103246                      Bear Creek       87587        29193\n",
      "4   2013   103451                     Knight Mine      147499        46393\n",
      "5   2013   103433              Crane Central Mine       69339        47195\n",
      "6   2013   100329                    Concord Mine           0       144002\n",
      "7   2013   100851                  Oak Grove Mine     2269014      1001809\n",
      "8   2013   102901                Shoal Creek Mine           0        12396\n",
      "9   2013   102901                Shoal Creek Mine     1453024      1237415\n",
      "10  2013   103180             Sloan Mountain Mine      327780       196963\n",
      "11  2013   103182                        Fishtrap      175058        87314\n",
      "12  2013   103285                     Narley Mine      154861        90584\n",
      "13  2013   103332                   Powhatan Mine      140521        61394\n",
      "14  2013   103375                    Johnson Mine         580         1900\n",
      "15  2013   103419               Maxine-Pratt Mine      125824       107469\n",
      "16  2013   103432                   Skelton Creek        8252          220\n",
      "17  2013   103437         Black Warrior Mine No 1      145924        70926\n",
      "18  2013   102976   Piney Woods Preparation Plant           0        14828\n",
      "19  2013   102976   Piney Woods Preparation Plant           0        23193\n",
      "20  2013   103380                          Calera           0        12621\n",
      "21  2013   103380                          Calera           0         1402\n",
      "22  2013   103422                 Clark No 1 Mine      122727       140250\n",
      "23  2013   103467             Helena Surface Mine       59664        30539\n",
      "24  2013   101247                       No 4 Mine     2622528      1551141\n",
      "25  2013   101401                       No 7 Mine     5405412      2464719\n",
      "26  2013   103172  Searles Mine No. 2, 3, 4, 5, 6      258078       119542\n",
      "27  2013   103179             Fleetwood Mine No 1       75937        63745\n",
      "28  2013   103303                    Shannon Mine      317491       164388\n",
      "29  2013   103323                   Deerlick Mine      133452        46381\n",
      "30  2013   103364           Brc Alabama No. 7 Llc           0        14324\n",
      "31  2013   103436                Swann's Crossing      137511        77190\n",
      "32  2013   100347                    Choctaw Mine      537429       215295\n",
      "33  2013   101362                 Manchester Mine      219457       116914\n",
      "34  2013   102996                  Jap Creek Mine      375715       164093\n",
      "35  2013   103155              Corinth Prep Plant           0        27996\n",
      "36  2013   103155              Corinth Prep Plant           0        51994\n",
      "37  2013   103195     Mccollum/Sparks Branch Mine       71910        17411\n",
      "38  2013   103342             Reese's Branch Mine      263888       115123\n",
      "39  2013   103370             Cresent Valley Mine        2860          621\n",
      "40  2013   103372                 Cane Creek Mine       66258        32401\n",
      "41  2013   103376                      Town Creek      299167       176499\n",
      "42  2013   103389                Carbon Hill Mine       76241        84966\n",
      "43  2013   103410                Coal Valley Mine      407841       158591\n",
      "44  2013   103423                Dutton Hill Mine       37275         9162\n",
      "45  2013  1519322                         Ghm #25       25054         3108\n",
      "46  2013   103321                  Poplar Springs      189370        76366\n",
      "47  2013   103358                       Old Union      284563       161805\n",
      "48  2013  5000030                        Usibelli     1631584       286079\n",
      "49  2013   201195                    Kayenta Mine     7602722      1015333\n",
      "0   2013   103381            Tacoa Highwall Miner       56004        22392\n",
      "1   2013   103404                Reid School Mine       28807        28447\n",
      "2   2013   100759  North River #1 Underground Min     1440115       474784\n",
      "3   2013   103246                      Bear Creek       87587        29193\n",
      "4   2013   103451                     Knight Mine      147499        46393\n",
      "5   2013   103433              Crane Central Mine       69339        47195\n",
      "6   2013   100329                    Concord Mine           0       144002\n",
      "7   2013   100851                  Oak Grove Mine     2269014      1001809\n",
      "8   2013   102901                Shoal Creek Mine           0        12396\n",
      "9   2013   102901                Shoal Creek Mine     1453024      1237415\n",
      "10  2013   103180             Sloan Mountain Mine      327780       196963\n",
      "11  2013   103182                        Fishtrap      175058        87314\n",
      "12  2013   103285                     Narley Mine      154861        90584\n",
      "13  2013   103332                   Powhatan Mine      140521        61394\n",
      "14  2013   103375                    Johnson Mine         580         1900\n",
      "15  2013   103419               Maxine-Pratt Mine      125824       107469\n",
      "16  2013   103432                   Skelton Creek        8252          220\n",
      "17  2013   103437         Black Warrior Mine No 1      145924        70926\n",
      "18  2013   102976   Piney Woods Preparation Plant           0        14828\n",
      "19  2013   102976   Piney Woods Preparation Plant           0        23193\n",
      "20  2013   103380                          Calera           0        12621\n",
      "21  2013   103380                          Calera           0         1402\n",
      "22  2013   103422                 Clark No 1 Mine      122727       140250\n",
      "23  2013   103467             Helena Surface Mine       59664        30539\n",
      "24  2013   101247                       No 4 Mine     2622528      1551141\n",
      "25  2013   101401                       No 7 Mine     5405412      2464719\n",
      "26  2013   103172  Searles Mine No. 2, 3, 4, 5, 6      258078       119542\n",
      "27  2013   103179             Fleetwood Mine No 1       75937        63745\n",
      "28  2013   103303                    Shannon Mine      317491       164388\n",
      "29  2013   103323                   Deerlick Mine      133452        46381\n",
      "30  2013   103364           Brc Alabama No. 7 Llc           0        14324\n",
      "31  2013   103436                Swann's Crossing      137511        77190\n",
      "32  2013   100347                    Choctaw Mine      537429       215295\n",
      "33  2013   101362                 Manchester Mine      219457       116914\n",
      "34  2013   102996                  Jap Creek Mine      375715       164093\n",
      "35  2013   103155              Corinth Prep Plant           0        27996\n",
      "36  2013   103155              Corinth Prep Plant           0        51994\n",
      "37  2013   103195     Mccollum/Sparks Branch Mine       71910        17411\n",
      "38  2013   103342             Reese's Branch Mine      263888       115123\n",
      "39  2013   103370             Cresent Valley Mine        2860          621\n",
      "40  2013   103372                 Cane Creek Mine       66258        32401\n",
      "41  2013   103376                      Town Creek      299167       176499\n",
      "42  2013   103389                Carbon Hill Mine       76241        84966\n",
      "43  2013   103410                Coal Valley Mine      407841       158591\n",
      "44  2013   103423                Dutton Hill Mine       37275         9162\n",
      "45  2013  1519322                         Ghm #25       25054         3108\n",
      "46  2013   103321                  Poplar Springs      189370        76366\n",
      "47  2013   103358                       Old Union      284563       161805\n",
      "48  2013  5000030                        Usibelli     1631584       286079\n",
      "49  2013   201195                    Kayenta Mine     7602722      1015333\n"
     ]
    }
   ],
   "source": [
    "import pandas as pd\n",
    "import numpy as np\n",
    "df1 = pd.read_excel('coalpublic2013.xlsx')\n",
    "df2 = pd.read_excel('coalpublic2013.xlsx')\n",
    "df3 = pd.read_excel('coalpublic2013.xlsx')\n",
    "df = pd.concat([df1, df2, df3])\n",
    "print(df)"
   ]
  },
  {
   "cell_type": "markdown",
   "metadata": {},
   "source": [
    "Q 122. Write a pandas program to import three datasheets from a given excel data (employee.xlsx ) into a single data frame and export the result into new Excel file. Note: Structure of three datasheets are same."
   ]
  },
  {
   "cell_type": "code",
   "execution_count": 76,
   "metadata": {},
   "outputs": [],
   "source": [
    "import pandas as pd\n",
    "import numpy as np\n",
    "df1 = pd.read_excel('coalpublic2013.xlsx')\n",
    "df2 = pd.read_excel('coalpublic2013.xlsx')\n",
    "df3 = pd.read_excel('coalpublic2013.xlsx')\n",
    "df = pd.concat([df1, df2, df3])\n",
    "df.to_excel('New_File_Name.xlsx')"
   ]
  },
  {
   "cell_type": "markdown",
   "metadata": {},
   "source": [
    "Q123. Write a pandas program to create the Pivot table with multiple indexes from the data set of the titanic.csv."
   ]
  },
  {
   "cell_type": "code",
   "execution_count": 84,
   "metadata": {},
   "outputs": [
    {
     "data": {
      "text/html": [
       "<div>\n",
       "<style scoped>\n",
       "    .dataframe tbody tr th:only-of-type {\n",
       "        vertical-align: middle;\n",
       "    }\n",
       "\n",
       "    .dataframe tbody tr th {\n",
       "        vertical-align: top;\n",
       "    }\n",
       "\n",
       "    .dataframe thead th {\n",
       "        text-align: right;\n",
       "    }\n",
       "</style>\n",
       "<table border=\"1\" class=\"dataframe\">\n",
       "  <thead>\n",
       "    <tr style=\"text-align: right;\">\n",
       "      <th></th>\n",
       "      <th>survived</th>\n",
       "      <th>pclass</th>\n",
       "      <th>sex</th>\n",
       "      <th>age</th>\n",
       "      <th>sibsp</th>\n",
       "      <th>parch</th>\n",
       "      <th>fare</th>\n",
       "      <th>embarked</th>\n",
       "      <th>class</th>\n",
       "      <th>who</th>\n",
       "      <th>adult_male</th>\n",
       "      <th>deck</th>\n",
       "      <th>embark_town</th>\n",
       "      <th>alive</th>\n",
       "      <th>alone</th>\n",
       "      <th>Unnamed: 15</th>\n",
       "    </tr>\n",
       "  </thead>\n",
       "  <tbody>\n",
       "    <tr>\n",
       "      <th>803</th>\n",
       "      <td>1</td>\n",
       "      <td>3</td>\n",
       "      <td>male</td>\n",
       "      <td>0.42</td>\n",
       "      <td>0</td>\n",
       "      <td>1</td>\n",
       "      <td>8.5167</td>\n",
       "      <td>C</td>\n",
       "      <td>Third</td>\n",
       "      <td>child</td>\n",
       "      <td>False</td>\n",
       "      <td>NaN</td>\n",
       "      <td>Cherbourg</td>\n",
       "      <td>yes</td>\n",
       "      <td>False</td>\n",
       "      <td>NaN</td>\n",
       "    </tr>\n",
       "    <tr>\n",
       "      <th>755</th>\n",
       "      <td>1</td>\n",
       "      <td>2</td>\n",
       "      <td>male</td>\n",
       "      <td>0.67</td>\n",
       "      <td>1</td>\n",
       "      <td>1</td>\n",
       "      <td>14.5000</td>\n",
       "      <td>S</td>\n",
       "      <td>Second</td>\n",
       "      <td>child</td>\n",
       "      <td>False</td>\n",
       "      <td>NaN</td>\n",
       "      <td>Southampton</td>\n",
       "      <td>yes</td>\n",
       "      <td>False</td>\n",
       "      <td>NaN</td>\n",
       "    </tr>\n",
       "    <tr>\n",
       "      <th>469</th>\n",
       "      <td>1</td>\n",
       "      <td>3</td>\n",
       "      <td>female</td>\n",
       "      <td>0.75</td>\n",
       "      <td>2</td>\n",
       "      <td>1</td>\n",
       "      <td>19.2583</td>\n",
       "      <td>C</td>\n",
       "      <td>Third</td>\n",
       "      <td>child</td>\n",
       "      <td>False</td>\n",
       "      <td>NaN</td>\n",
       "      <td>Cherbourg</td>\n",
       "      <td>yes</td>\n",
       "      <td>False</td>\n",
       "      <td>NaN</td>\n",
       "    </tr>\n",
       "    <tr>\n",
       "      <th>644</th>\n",
       "      <td>1</td>\n",
       "      <td>3</td>\n",
       "      <td>female</td>\n",
       "      <td>0.75</td>\n",
       "      <td>2</td>\n",
       "      <td>1</td>\n",
       "      <td>19.2583</td>\n",
       "      <td>C</td>\n",
       "      <td>Third</td>\n",
       "      <td>child</td>\n",
       "      <td>False</td>\n",
       "      <td>NaN</td>\n",
       "      <td>Cherbourg</td>\n",
       "      <td>yes</td>\n",
       "      <td>False</td>\n",
       "      <td>NaN</td>\n",
       "    </tr>\n",
       "    <tr>\n",
       "      <th>78</th>\n",
       "      <td>1</td>\n",
       "      <td>2</td>\n",
       "      <td>male</td>\n",
       "      <td>0.83</td>\n",
       "      <td>0</td>\n",
       "      <td>2</td>\n",
       "      <td>29.0000</td>\n",
       "      <td>S</td>\n",
       "      <td>Second</td>\n",
       "      <td>child</td>\n",
       "      <td>False</td>\n",
       "      <td>NaN</td>\n",
       "      <td>Southampton</td>\n",
       "      <td>yes</td>\n",
       "      <td>False</td>\n",
       "      <td>NaN</td>\n",
       "    </tr>\n",
       "    <tr>\n",
       "      <th>831</th>\n",
       "      <td>1</td>\n",
       "      <td>2</td>\n",
       "      <td>male</td>\n",
       "      <td>0.83</td>\n",
       "      <td>1</td>\n",
       "      <td>1</td>\n",
       "      <td>18.7500</td>\n",
       "      <td>S</td>\n",
       "      <td>Second</td>\n",
       "      <td>child</td>\n",
       "      <td>False</td>\n",
       "      <td>NaN</td>\n",
       "      <td>Southampton</td>\n",
       "      <td>yes</td>\n",
       "      <td>False</td>\n",
       "      <td>NaN</td>\n",
       "    </tr>\n",
       "    <tr>\n",
       "      <th>305</th>\n",
       "      <td>1</td>\n",
       "      <td>1</td>\n",
       "      <td>male</td>\n",
       "      <td>0.92</td>\n",
       "      <td>1</td>\n",
       "      <td>2</td>\n",
       "      <td>151.5500</td>\n",
       "      <td>S</td>\n",
       "      <td>First</td>\n",
       "      <td>child</td>\n",
       "      <td>False</td>\n",
       "      <td>C</td>\n",
       "      <td>Southampton</td>\n",
       "      <td>yes</td>\n",
       "      <td>False</td>\n",
       "      <td>NaN</td>\n",
       "    </tr>\n",
       "    <tr>\n",
       "      <th>172</th>\n",
       "      <td>1</td>\n",
       "      <td>3</td>\n",
       "      <td>female</td>\n",
       "      <td>1.00</td>\n",
       "      <td>1</td>\n",
       "      <td>1</td>\n",
       "      <td>11.1333</td>\n",
       "      <td>S</td>\n",
       "      <td>Third</td>\n",
       "      <td>child</td>\n",
       "      <td>False</td>\n",
       "      <td>NaN</td>\n",
       "      <td>Southampton</td>\n",
       "      <td>yes</td>\n",
       "      <td>False</td>\n",
       "      <td>NaN</td>\n",
       "    </tr>\n",
       "    <tr>\n",
       "      <th>183</th>\n",
       "      <td>1</td>\n",
       "      <td>2</td>\n",
       "      <td>male</td>\n",
       "      <td>1.00</td>\n",
       "      <td>2</td>\n",
       "      <td>1</td>\n",
       "      <td>39.0000</td>\n",
       "      <td>S</td>\n",
       "      <td>Second</td>\n",
       "      <td>child</td>\n",
       "      <td>False</td>\n",
       "      <td>F</td>\n",
       "      <td>Southampton</td>\n",
       "      <td>yes</td>\n",
       "      <td>False</td>\n",
       "      <td>NaN</td>\n",
       "    </tr>\n",
       "    <tr>\n",
       "      <th>381</th>\n",
       "      <td>1</td>\n",
       "      <td>3</td>\n",
       "      <td>female</td>\n",
       "      <td>1.00</td>\n",
       "      <td>0</td>\n",
       "      <td>2</td>\n",
       "      <td>15.7417</td>\n",
       "      <td>C</td>\n",
       "      <td>Third</td>\n",
       "      <td>child</td>\n",
       "      <td>False</td>\n",
       "      <td>NaN</td>\n",
       "      <td>Cherbourg</td>\n",
       "      <td>yes</td>\n",
       "      <td>False</td>\n",
       "      <td>NaN</td>\n",
       "    </tr>\n",
       "  </tbody>\n",
       "</table>\n",
       "</div>"
      ],
      "text/plain": [
       "     survived  pclass     sex   age  sibsp  parch      fare embarked   class    who  adult_male deck  embark_town alive  alone  Unnamed: 15\n",
       "803         1       3    male  0.42      0      1    8.5167        C   Third  child       False  NaN    Cherbourg   yes  False          NaN\n",
       "755         1       2    male  0.67      1      1   14.5000        S  Second  child       False  NaN  Southampton   yes  False          NaN\n",
       "469         1       3  female  0.75      2      1   19.2583        C   Third  child       False  NaN    Cherbourg   yes  False          NaN\n",
       "644         1       3  female  0.75      2      1   19.2583        C   Third  child       False  NaN    Cherbourg   yes  False          NaN\n",
       "78          1       2    male  0.83      0      2   29.0000        S  Second  child       False  NaN  Southampton   yes  False          NaN\n",
       "831         1       2    male  0.83      1      1   18.7500        S  Second  child       False  NaN  Southampton   yes  False          NaN\n",
       "305         1       1    male  0.92      1      2  151.5500        S   First  child       False    C  Southampton   yes  False          NaN\n",
       "172         1       3  female  1.00      1      1   11.1333        S   Third  child       False  NaN  Southampton   yes  False          NaN\n",
       "183         1       2    male  1.00      2      1   39.0000        S  Second  child       False    F  Southampton   yes  False          NaN\n",
       "381         1       3  female  1.00      0      2   15.7417        C   Third  child       False  NaN    Cherbourg   yes  False          NaN"
      ]
     },
     "execution_count": 84,
     "metadata": {},
     "output_type": "execute_result"
    }
   ],
   "source": [
    "import pandas as pd\n",
    "import numpy as np\n",
    "df = pd.read_csv('titanic.csv')\n",
    "df.sort_values(['age', 'survived'], ascending=[True, False], inplace=True)\n",
    "\n",
    "df.head(10)"
   ]
  },
  {
   "cell_type": "markdown",
   "metadata": {},
   "source": [
    "Q124. Write a Pandas program to create the Pivot table and find survival rate by gender?"
   ]
  },
  {
   "cell_type": "code",
   "execution_count": 85,
   "metadata": {},
   "outputs": [
    {
     "name": "stdout",
     "output_type": "stream",
     "text": [
      "fare            (-0.001, 14.454]                     (14.454, 512.329]                    \n",
      "pclass                         1         2         3                 1         2         3\n",
      "sex    age                                                                                \n",
      "female (0, 10]               NaN       NaN  0.800000          0.000000  1.000000  0.411765\n",
      "       (10, 30]              NaN  0.933333  0.568182          0.970588  0.904762  0.307692\n",
      "       (30, 60]              NaN  0.846154  0.142857          0.979167  0.941176  0.333333\n",
      "       (60, 80]              NaN       NaN  1.000000          1.000000       NaN       NaN\n",
      "male   (0, 10]               NaN       NaN  1.000000          1.000000  1.000000  0.263158\n",
      "       (10, 30]              NaN  0.034483  0.140625          0.458333  0.000000  0.130435\n",
      "       (30, 60]              0.0  0.130435  0.109375          0.440678  0.047619  0.166667\n",
      "       (60, 80]              NaN  0.333333  0.000000          0.083333       NaN       NaN\n"
     ]
    }
   ],
   "source": [
    "import pandas as pd\n",
    "import numpy as np\n",
    "df = pd.read_csv('titanic.csv')\n",
    "fare = pd.qcut(df['fare'], 2)\n",
    "age = pd.cut(df['age'], [0, 10, 30, 60, 80])\n",
    "result = df.pivot_table('survived', index=['sex', age], columns=[fare, 'pclass'])\n",
    "print(result)"
   ]
  },
  {
   "cell_type": "markdown",
   "metadata": {},
   "source": [
    "Q125. Write a pandas program to make partition each of the passengers into 4 categories based on their age."
   ]
  },
  {
   "cell_type": "code",
   "execution_count": 87,
   "metadata": {},
   "outputs": [
    {
     "name": "stdout",
     "output_type": "stream",
     "text": [
      "0      (10.0, 30.0]\n",
      "1      (30.0, 60.0]\n",
      "2      (10.0, 30.0]\n",
      "3      (30.0, 60.0]\n",
      "4      (30.0, 60.0]\n",
      "5               NaN\n",
      "6      (30.0, 60.0]\n",
      "7       (0.0, 10.0]\n",
      "8      (10.0, 30.0]\n",
      "9      (10.0, 30.0]\n",
      "10      (0.0, 10.0]\n",
      "11     (30.0, 60.0]\n",
      "12     (10.0, 30.0]\n",
      "13     (30.0, 60.0]\n",
      "14     (10.0, 30.0]\n",
      "15     (30.0, 60.0]\n",
      "16      (0.0, 10.0]\n",
      "17              NaN\n",
      "18     (30.0, 60.0]\n",
      "19              NaN\n",
      "20     (30.0, 60.0]\n",
      "21     (30.0, 60.0]\n",
      "22     (10.0, 30.0]\n",
      "23     (10.0, 30.0]\n",
      "24      (0.0, 10.0]\n",
      "25     (30.0, 60.0]\n",
      "26              NaN\n",
      "27     (10.0, 30.0]\n",
      "28              NaN\n",
      "29              NaN\n",
      "30     (30.0, 60.0]\n",
      "31              NaN\n",
      "32              NaN\n",
      "33     (60.0, 80.0]\n",
      "34     (10.0, 30.0]\n",
      "35     (30.0, 60.0]\n",
      "36              NaN\n",
      "37     (10.0, 30.0]\n",
      "38     (10.0, 30.0]\n",
      "39     (10.0, 30.0]\n",
      "40     (30.0, 60.0]\n",
      "41     (10.0, 30.0]\n",
      "42              NaN\n",
      "43      (0.0, 10.0]\n",
      "44     (10.0, 30.0]\n",
      "45              NaN\n",
      "46              NaN\n",
      "47              NaN\n",
      "48              NaN\n",
      "49     (10.0, 30.0]\n",
      "50      (0.0, 10.0]\n",
      "51     (10.0, 30.0]\n",
      "52     (30.0, 60.0]\n",
      "53     (10.0, 30.0]\n",
      "54     (60.0, 80.0]\n",
      "55              NaN\n",
      "56     (10.0, 30.0]\n",
      "57     (10.0, 30.0]\n",
      "58      (0.0, 10.0]\n",
      "59     (10.0, 30.0]\n",
      "60     (10.0, 30.0]\n",
      "61     (30.0, 60.0]\n",
      "62     (30.0, 60.0]\n",
      "63      (0.0, 10.0]\n",
      "64              NaN\n",
      "65              NaN\n",
      "66     (10.0, 30.0]\n",
      "67     (10.0, 30.0]\n",
      "68     (10.0, 30.0]\n",
      "69     (10.0, 30.0]\n",
      "70     (30.0, 60.0]\n",
      "71     (10.0, 30.0]\n",
      "72     (10.0, 30.0]\n",
      "73     (10.0, 30.0]\n",
      "74     (30.0, 60.0]\n",
      "75     (10.0, 30.0]\n",
      "76              NaN\n",
      "77              NaN\n",
      "78      (0.0, 10.0]\n",
      "79     (10.0, 30.0]\n",
      "80     (10.0, 30.0]\n",
      "81     (10.0, 30.0]\n",
      "82              NaN\n",
      "83     (10.0, 30.0]\n",
      "84     (10.0, 30.0]\n",
      "85     (30.0, 60.0]\n",
      "86     (10.0, 30.0]\n",
      "87              NaN\n",
      "88     (10.0, 30.0]\n",
      "89     (10.0, 30.0]\n",
      "90     (10.0, 30.0]\n",
      "91     (10.0, 30.0]\n",
      "92     (30.0, 60.0]\n",
      "93     (10.0, 30.0]\n",
      "94     (30.0, 60.0]\n",
      "95              NaN\n",
      "96     (60.0, 80.0]\n",
      "97     (10.0, 30.0]\n",
      "98     (30.0, 60.0]\n",
      "99     (30.0, 60.0]\n",
      "100    (10.0, 30.0]\n",
      "101             NaN\n",
      "102    (10.0, 30.0]\n",
      "103    (30.0, 60.0]\n",
      "104    (30.0, 60.0]\n",
      "105    (10.0, 30.0]\n",
      "106    (10.0, 30.0]\n",
      "107             NaN\n",
      "108    (30.0, 60.0]\n",
      "109             NaN\n",
      "110    (30.0, 60.0]\n",
      "111    (10.0, 30.0]\n",
      "112    (10.0, 30.0]\n",
      "113    (10.0, 30.0]\n",
      "114    (10.0, 30.0]\n",
      "115    (10.0, 30.0]\n",
      "116    (60.0, 80.0]\n",
      "117    (10.0, 30.0]\n",
      "118    (10.0, 30.0]\n",
      "119     (0.0, 10.0]\n",
      "120    (10.0, 30.0]\n",
      "121             NaN\n",
      "122    (30.0, 60.0]\n",
      "123    (30.0, 60.0]\n",
      "124    (30.0, 60.0]\n",
      "125    (10.0, 30.0]\n",
      "126             NaN\n",
      "127    (10.0, 30.0]\n",
      "128             NaN\n",
      "129    (30.0, 60.0]\n",
      "130    (30.0, 60.0]\n",
      "131    (10.0, 30.0]\n",
      "132    (30.0, 60.0]\n",
      "133    (10.0, 30.0]\n",
      "134    (10.0, 30.0]\n",
      "135    (10.0, 30.0]\n",
      "136    (10.0, 30.0]\n",
      "137    (30.0, 60.0]\n",
      "138    (10.0, 30.0]\n",
      "139    (10.0, 30.0]\n",
      "140             NaN\n",
      "141    (10.0, 30.0]\n",
      "142    (10.0, 30.0]\n",
      "143    (10.0, 30.0]\n",
      "144    (10.0, 30.0]\n",
      "145    (10.0, 30.0]\n",
      "146    (10.0, 30.0]\n",
      "147     (0.0, 10.0]\n",
      "148    (30.0, 60.0]\n",
      "149    (30.0, 60.0]\n",
      "150    (30.0, 60.0]\n",
      "151    (10.0, 30.0]\n",
      "152    (30.0, 60.0]\n",
      "153    (30.0, 60.0]\n",
      "154             NaN\n",
      "155    (30.0, 60.0]\n",
      "156    (10.0, 30.0]\n",
      "157    (10.0, 30.0]\n",
      "158             NaN\n",
      "159             NaN\n",
      "160    (30.0, 60.0]\n",
      "161    (30.0, 60.0]\n",
      "162    (10.0, 30.0]\n",
      "163    (10.0, 30.0]\n",
      "164     (0.0, 10.0]\n",
      "165     (0.0, 10.0]\n",
      "166             NaN\n",
      "167    (30.0, 60.0]\n",
      "168             NaN\n",
      "169    (10.0, 30.0]\n",
      "170    (60.0, 80.0]\n",
      "171     (0.0, 10.0]\n",
      "172     (0.0, 10.0]\n",
      "173    (10.0, 30.0]\n",
      "174    (30.0, 60.0]\n",
      "175    (10.0, 30.0]\n",
      "176             NaN\n",
      "177    (30.0, 60.0]\n",
      "178    (10.0, 30.0]\n",
      "179    (30.0, 60.0]\n",
      "180             NaN\n",
      "181             NaN\n",
      "182     (0.0, 10.0]\n",
      "183     (0.0, 10.0]\n",
      "184     (0.0, 10.0]\n",
      "185             NaN\n",
      "186             NaN\n",
      "187    (30.0, 60.0]\n",
      "188    (30.0, 60.0]\n",
      "189    (30.0, 60.0]\n",
      "190    (30.0, 60.0]\n",
      "191    (10.0, 30.0]\n",
      "192    (10.0, 30.0]\n",
      "193     (0.0, 10.0]\n",
      "194    (30.0, 60.0]\n",
      "195    (30.0, 60.0]\n",
      "196             NaN\n",
      "197    (30.0, 60.0]\n",
      "198             NaN\n",
      "199    (10.0, 30.0]\n",
      "200    (10.0, 30.0]\n",
      "201             NaN\n",
      "202    (30.0, 60.0]\n",
      "203    (30.0, 60.0]\n",
      "204    (10.0, 30.0]\n",
      "205     (0.0, 10.0]\n",
      "206    (30.0, 60.0]\n",
      "207    (10.0, 30.0]\n",
      "208    (10.0, 30.0]\n",
      "209    (30.0, 60.0]\n",
      "210    (10.0, 30.0]\n",
      "211    (30.0, 60.0]\n",
      "212    (10.0, 30.0]\n",
      "213    (10.0, 30.0]\n",
      "214             NaN\n",
      "215    (30.0, 60.0]\n",
      "216    (10.0, 30.0]\n",
      "217    (30.0, 60.0]\n",
      "218    (30.0, 60.0]\n",
      "219    (10.0, 30.0]\n",
      "220    (10.0, 30.0]\n",
      "221    (10.0, 30.0]\n",
      "222    (30.0, 60.0]\n",
      "223             NaN\n",
      "224    (30.0, 60.0]\n",
      "225    (10.0, 30.0]\n",
      "226    (10.0, 30.0]\n",
      "227    (10.0, 30.0]\n",
      "228    (10.0, 30.0]\n",
      "229             NaN\n",
      "230    (30.0, 60.0]\n",
      "231    (10.0, 30.0]\n",
      "232    (30.0, 60.0]\n",
      "233     (0.0, 10.0]\n",
      "234    (10.0, 30.0]\n",
      "235             NaN\n",
      "236    (30.0, 60.0]\n",
      "237     (0.0, 10.0]\n",
      "238    (10.0, 30.0]\n",
      "239    (30.0, 60.0]\n",
      "240             NaN\n",
      "241             NaN\n",
      "242    (10.0, 30.0]\n",
      "243    (10.0, 30.0]\n",
      "244    (10.0, 30.0]\n",
      "245    (30.0, 60.0]\n",
      "246    (10.0, 30.0]\n",
      "247    (10.0, 30.0]\n",
      "248    (30.0, 60.0]\n",
      "249    (30.0, 60.0]\n",
      "           ...     \n",
      "641    (10.0, 30.0]\n",
      "642     (0.0, 10.0]\n",
      "643             NaN\n",
      "644     (0.0, 10.0]\n",
      "645    (30.0, 60.0]\n",
      "646    (10.0, 30.0]\n",
      "647    (30.0, 60.0]\n",
      "648             NaN\n",
      "649    (10.0, 30.0]\n",
      "650             NaN\n",
      "651    (10.0, 30.0]\n",
      "652    (10.0, 30.0]\n",
      "653             NaN\n",
      "654    (10.0, 30.0]\n",
      "655    (10.0, 30.0]\n",
      "656             NaN\n",
      "657    (30.0, 60.0]\n",
      "658    (10.0, 30.0]\n",
      "659    (30.0, 60.0]\n",
      "660    (30.0, 60.0]\n",
      "661    (30.0, 60.0]\n",
      "662    (30.0, 60.0]\n",
      "663    (30.0, 60.0]\n",
      "664    (10.0, 30.0]\n",
      "665    (30.0, 60.0]\n",
      "666    (10.0, 30.0]\n",
      "667             NaN\n",
      "668    (30.0, 60.0]\n",
      "669             NaN\n",
      "670    (30.0, 60.0]\n",
      "671    (30.0, 60.0]\n",
      "672    (60.0, 80.0]\n",
      "673    (30.0, 60.0]\n",
      "674             NaN\n",
      "675    (10.0, 30.0]\n",
      "676    (10.0, 30.0]\n",
      "677    (10.0, 30.0]\n",
      "678    (30.0, 60.0]\n",
      "679    (30.0, 60.0]\n",
      "680             NaN\n",
      "681    (10.0, 30.0]\n",
      "682    (10.0, 30.0]\n",
      "683    (10.0, 30.0]\n",
      "684    (30.0, 60.0]\n",
      "685    (10.0, 30.0]\n",
      "686    (10.0, 30.0]\n",
      "687    (10.0, 30.0]\n",
      "688    (10.0, 30.0]\n",
      "689    (10.0, 30.0]\n",
      "690    (30.0, 60.0]\n",
      "691     (0.0, 10.0]\n",
      "692             NaN\n",
      "693    (10.0, 30.0]\n",
      "694    (30.0, 60.0]\n",
      "695    (30.0, 60.0]\n",
      "696    (30.0, 60.0]\n",
      "697             NaN\n",
      "698    (30.0, 60.0]\n",
      "699    (30.0, 60.0]\n",
      "700    (10.0, 30.0]\n",
      "701    (30.0, 60.0]\n",
      "702    (10.0, 30.0]\n",
      "703    (10.0, 30.0]\n",
      "704    (10.0, 30.0]\n",
      "705    (30.0, 60.0]\n",
      "706    (30.0, 60.0]\n",
      "707    (30.0, 60.0]\n",
      "708    (10.0, 30.0]\n",
      "709             NaN\n",
      "710    (10.0, 30.0]\n",
      "711             NaN\n",
      "712    (30.0, 60.0]\n",
      "713    (10.0, 30.0]\n",
      "714    (30.0, 60.0]\n",
      "715    (10.0, 30.0]\n",
      "716    (30.0, 60.0]\n",
      "717    (10.0, 30.0]\n",
      "718             NaN\n",
      "719    (30.0, 60.0]\n",
      "720     (0.0, 10.0]\n",
      "721    (10.0, 30.0]\n",
      "722    (30.0, 60.0]\n",
      "723    (30.0, 60.0]\n",
      "724    (10.0, 30.0]\n",
      "725    (10.0, 30.0]\n",
      "726    (10.0, 30.0]\n",
      "727             NaN\n",
      "728    (10.0, 30.0]\n",
      "729    (10.0, 30.0]\n",
      "730    (10.0, 30.0]\n",
      "731    (10.0, 30.0]\n",
      "732             NaN\n",
      "733    (10.0, 30.0]\n",
      "734    (10.0, 30.0]\n",
      "735    (10.0, 30.0]\n",
      "736    (30.0, 60.0]\n",
      "737    (30.0, 60.0]\n",
      "738             NaN\n",
      "739             NaN\n",
      "740             NaN\n",
      "741    (30.0, 60.0]\n",
      "742    (10.0, 30.0]\n",
      "743    (10.0, 30.0]\n",
      "744    (30.0, 60.0]\n",
      "745    (60.0, 80.0]\n",
      "746    (10.0, 30.0]\n",
      "747    (10.0, 30.0]\n",
      "748    (10.0, 30.0]\n",
      "749    (30.0, 60.0]\n",
      "750     (0.0, 10.0]\n",
      "751     (0.0, 10.0]\n",
      "752    (30.0, 60.0]\n",
      "753    (10.0, 30.0]\n",
      "754    (30.0, 60.0]\n",
      "755     (0.0, 10.0]\n",
      "756    (10.0, 30.0]\n",
      "757    (10.0, 30.0]\n",
      "758    (30.0, 60.0]\n",
      "759    (30.0, 60.0]\n",
      "760             NaN\n",
      "761    (30.0, 60.0]\n",
      "762    (10.0, 30.0]\n",
      "763    (30.0, 60.0]\n",
      "764    (10.0, 30.0]\n",
      "765    (30.0, 60.0]\n",
      "766             NaN\n",
      "767    (30.0, 60.0]\n",
      "768             NaN\n",
      "769    (30.0, 60.0]\n",
      "770    (10.0, 30.0]\n",
      "771    (30.0, 60.0]\n",
      "772    (30.0, 60.0]\n",
      "773             NaN\n",
      "774    (30.0, 60.0]\n",
      "775    (10.0, 30.0]\n",
      "776             NaN\n",
      "777     (0.0, 10.0]\n",
      "778             NaN\n",
      "779    (30.0, 60.0]\n",
      "780    (10.0, 30.0]\n",
      "781    (10.0, 30.0]\n",
      "782    (10.0, 30.0]\n",
      "783             NaN\n",
      "784    (10.0, 30.0]\n",
      "785    (10.0, 30.0]\n",
      "786    (10.0, 30.0]\n",
      "787     (0.0, 10.0]\n",
      "788     (0.0, 10.0]\n",
      "789    (30.0, 60.0]\n",
      "790             NaN\n",
      "791    (10.0, 30.0]\n",
      "792             NaN\n",
      "793             NaN\n",
      "794    (10.0, 30.0]\n",
      "795    (30.0, 60.0]\n",
      "796    (30.0, 60.0]\n",
      "797    (30.0, 60.0]\n",
      "798    (10.0, 30.0]\n",
      "799    (10.0, 30.0]\n",
      "800    (30.0, 60.0]\n",
      "801    (30.0, 60.0]\n",
      "802    (10.0, 30.0]\n",
      "803     (0.0, 10.0]\n",
      "804    (10.0, 30.0]\n",
      "805    (30.0, 60.0]\n",
      "806    (30.0, 60.0]\n",
      "807    (10.0, 30.0]\n",
      "808    (30.0, 60.0]\n",
      "809    (30.0, 60.0]\n",
      "810    (10.0, 30.0]\n",
      "811    (30.0, 60.0]\n",
      "812    (30.0, 60.0]\n",
      "813     (0.0, 10.0]\n",
      "814    (30.0, 60.0]\n",
      "815             NaN\n",
      "816    (10.0, 30.0]\n",
      "817    (30.0, 60.0]\n",
      "818    (30.0, 60.0]\n",
      "819     (0.0, 10.0]\n",
      "820    (30.0, 60.0]\n",
      "821    (10.0, 30.0]\n",
      "822    (30.0, 60.0]\n",
      "823    (10.0, 30.0]\n",
      "824     (0.0, 10.0]\n",
      "825             NaN\n",
      "826             NaN\n",
      "827     (0.0, 10.0]\n",
      "828             NaN\n",
      "829    (60.0, 80.0]\n",
      "830    (10.0, 30.0]\n",
      "831     (0.0, 10.0]\n",
      "832             NaN\n",
      "833    (10.0, 30.0]\n",
      "834    (10.0, 30.0]\n",
      "835    (30.0, 60.0]\n",
      "836    (10.0, 30.0]\n",
      "837             NaN\n",
      "838    (30.0, 60.0]\n",
      "839             NaN\n",
      "840    (10.0, 30.0]\n",
      "841    (10.0, 30.0]\n",
      "842    (10.0, 30.0]\n",
      "843    (30.0, 60.0]\n",
      "844    (10.0, 30.0]\n",
      "845    (30.0, 60.0]\n",
      "846             NaN\n",
      "847    (30.0, 60.0]\n",
      "848    (10.0, 30.0]\n",
      "849             NaN\n",
      "850     (0.0, 10.0]\n",
      "851    (60.0, 80.0]\n",
      "852     (0.0, 10.0]\n",
      "853    (10.0, 30.0]\n",
      "854    (30.0, 60.0]\n",
      "855    (10.0, 30.0]\n",
      "856    (30.0, 60.0]\n",
      "857    (30.0, 60.0]\n",
      "858    (10.0, 30.0]\n",
      "859             NaN\n",
      "860    (30.0, 60.0]\n",
      "861    (10.0, 30.0]\n",
      "862    (30.0, 60.0]\n",
      "863             NaN\n",
      "864    (10.0, 30.0]\n",
      "865    (30.0, 60.0]\n",
      "866    (10.0, 30.0]\n",
      "867    (30.0, 60.0]\n",
      "868             NaN\n",
      "869     (0.0, 10.0]\n",
      "870    (10.0, 30.0]\n",
      "871    (30.0, 60.0]\n",
      "872    (30.0, 60.0]\n",
      "873    (30.0, 60.0]\n",
      "874    (10.0, 30.0]\n",
      "875    (10.0, 30.0]\n",
      "876    (10.0, 30.0]\n",
      "877    (10.0, 30.0]\n",
      "878             NaN\n",
      "879    (30.0, 60.0]\n",
      "880    (10.0, 30.0]\n",
      "881    (30.0, 60.0]\n",
      "882    (10.0, 30.0]\n",
      "883    (10.0, 30.0]\n",
      "884    (10.0, 30.0]\n",
      "885    (30.0, 60.0]\n",
      "886    (10.0, 30.0]\n",
      "887    (10.0, 30.0]\n",
      "888             NaN\n",
      "889    (10.0, 30.0]\n",
      "890    (30.0, 60.0]\n",
      "Name: age, Length: 891, dtype: category\n",
      "Categories (4, interval[int64]): [(0, 10] < (10, 30] < (30, 60] < (60, 80]]\n"
     ]
    }
   ],
   "source": [
    "import pandas as pd\n",
    "import numpy as np\n",
    "df = pd.read_csv('titanic.csv')\n",
    "result = pd.cut(df['age'], [0, 10, 30, 60, 80])\n",
    "print(result)"
   ]
  },
  {
   "cell_type": "markdown",
   "metadata": {},
   "source": [
    "Q126. Write a pandas program to create the Pivot table and find survival rate by the gender, age of the different categories of various classes."
   ]
  },
  {
   "cell_type": "code",
   "execution_count": 88,
   "metadata": {},
   "outputs": [
    {
     "name": "stdout",
     "output_type": "stream",
     "text": [
      "class               First    Second     Third\n",
      "sex    age                                   \n",
      "female (0, 20]   0.928571  1.000000  0.510638\n",
      "       (20, 55]  0.968750  0.912281  0.407407\n",
      "male   (0, 20]   0.571429  0.526316  0.197368\n",
      "       (20, 55]  0.440000  0.054054  0.134503\n"
     ]
    }
   ],
   "source": [
    "import pandas as pd\n",
    "import numpy as np\n",
    "df = pd.read_csv('titanic.csv')\n",
    "age = pd.cut(df['age'], [0, 20, 55])\n",
    "result = df.pivot_table('survived', index=['sex', age], columns='class')\n",
    "print(result)"
   ]
  },
  {
   "cell_type": "markdown",
   "metadata": {},
   "source": [
    "Q127. Write a pandas program to create the Pivot table and calculate number of women and men were in a particular cabin class."
   ]
  },
  {
   "cell_type": "code",
   "execution_count": 89,
   "metadata": {},
   "outputs": [
    {
     "name": "stdout",
     "output_type": "stream",
     "text": [
      "       Unnamed: 15       adult_male            age          alive           alone           class           deck        embark_town           embarked           fare           parch           sibsp           survived            who          \n",
      "pclass           1  2  3          1    2    3    1   2    3     1    2    3     1    2    3     1    2    3    1   2  3           1    2    3        1    2    3    1    2    3     1    2    3     1    2    3        1    2    3    1    2    3\n",
      "sex                                                                                                                                                                                                                                              \n",
      "female           0  0  0         94   76  144   85  74  102    94   76  144    94   76  144    94   76  144   81  10  6          92   76  144       92   76  144   94   76  144    94   76  144    94   76  144       94   76  144   94   76  144\n",
      "male             0  0  0        122  108  347  101  99  253   122  108  347   122  108  347   122  108  347   94   6  6         122  108  347      122  108  347  122  108  347   122  108  347   122  108  347      122  108  347  122  108  347\n"
     ]
    }
   ],
   "source": [
    "import pandas as pd\n",
    "import numpy as np\n",
    "df = pd.read_csv('titanic.csv')\n",
    "result = df.pivot_table(index=['sex'], columns=['pclass'], aggfunc='count')\n",
    "print(result)"
   ]
  },
  {
   "cell_type": "markdown",
   "metadata": {},
   "source": [
    "Q128. Write a pandas program to create the Pivot table and separate the gender according to whether they travelled alone or not to get the probability of survival"
   ]
  },
  {
   "cell_type": "code",
   "execution_count": 90,
   "metadata": {},
   "outputs": [
    {
     "name": "stdout",
     "output_type": "stream",
     "text": [
      "class            First    Second     Third\n",
      "sex    alone                              \n",
      "female False  0.966667  0.931818  0.416667\n",
      "       True   0.970588  0.906250  0.616667\n",
      "male   False  0.425532  0.277778  0.180723\n",
      "       True   0.333333  0.097222  0.121212\n"
     ]
    }
   ],
   "source": [
    "import pandas as pd\n",
    "import numpy as np\n",
    "df = pd.read_csv('titanic.csv')\n",
    "result = df.pivot_table( 'survived' , [ 'sex' , 'alone' ] , 'class' )\n",
    "print(result)"
   ]
  },
  {
   "cell_type": "markdown",
   "metadata": {},
   "source": [
    "Q129. Write a pandas program to create the Pivot table and find the probability of survival by class, gender, solo boarding, and the port of embarkation."
   ]
  },
  {
   "cell_type": "code",
   "execution_count": 91,
   "metadata": {},
   "outputs": [
    {
     "name": "stdout",
     "output_type": "stream",
     "text": [
      "embark_town  Cherbourg                     Queenstown                  Southampton                    \n",
      "class            First    Second     Third      First Second     Third       First    Second     Third\n",
      "sex    alone                                                                                          \n",
      "female False  1.000000  1.000000  0.611111        1.0    NaN  0.625000    0.941176  0.923077  0.327586\n",
      "       True   0.944444  1.000000  0.800000        NaN    1.0  0.760000    1.000000  0.892857  0.466667\n",
      "male   False  0.473684  0.166667  0.500000        0.0    NaN  0.100000    0.407407  0.300000  0.142857\n",
      "       True   0.347826  0.250000  0.151515        NaN    0.0  0.068966    0.326923  0.089552  0.123762\n"
     ]
    }
   ],
   "source": [
    "import pandas as pd\n",
    "import numpy as np\n",
    "df = pd.read_csv('titanic.csv')\n",
    "result = df.pivot_table('survived', ['sex' , 'alone' ], [ 'embark_town', 'class' ])\n",
    "print(result)"
   ]
  },
  {
   "cell_type": "markdown",
   "metadata": {},
   "source": [
    "Q130. Write a pandas program to get current date, oldest date and number of days between Current date and the oldest date of Ufo dataset."
   ]
  },
  {
   "cell_type": "code",
   "execution_count": 102,
   "metadata": {},
   "outputs": [
    {
     "name": "stdout",
     "output_type": "stream",
     "text": [
      "Original Dataframe:\n",
      "                   City Colors Reported Shape Reported State             Time           Date_time\n",
      "0                Ithaca             NaN       TRIANGLE    NY   6/1/1930 22:00 1930-06-01 22:00:00\n",
      "1           Willingboro             NaN          OTHER    NJ  6/30/1930 20:00 1930-06-30 20:00:00\n",
      "2               Holyoke             NaN           OVAL    CO  2/15/1931 14:00 1931-02-15 14:00:00\n",
      "3               Abilene             NaN           DISK    KS   6/1/1931 13:00 1931-06-01 13:00:00\n",
      "4  New York Worlds Fair             NaN          LIGHT    NY  4/18/1933 19:00 1933-04-18 19:00:00\n",
      "\n",
      "Current date of Ufo dataset:\n",
      "1968-01-10 23:00:00\n",
      "\n",
      "Oldest date of Ufo dataset:\n",
      "1930-06-01 22:00:00\n",
      "\n",
      "Number of days between Current date and oldest date of Ufo dataset:\n",
      "13737\n"
     ]
    }
   ],
   "source": [
    "import pandas as pd\n",
    "df = pd.read_csv('ufo.csv')\n",
    "df['Date_time'] = df['Time'].astype('datetime64[ns]')\n",
    "print(\"Original Dataframe:\")\n",
    "print(df.head())\n",
    "print(\"\\nCurrent date of Ufo dataset:\")\n",
    "print(df.Date_time.max())\n",
    "print(\"\\nOldest date of Ufo dataset:\")\n",
    "print(df.Date_time.min())\n",
    "print(\"\\nNumber of days between Current date and oldest date of Ufo dataset:\")\n",
    "print((df.Date_time.max() - df.Date_time.min()).days)"
   ]
  },
  {
   "cell_type": "markdown",
   "metadata": {},
   "source": [
    "Q131. Write a pandas program to get all sighting days of the unidentified flying object (ufo) between 1950-10-10 and 1960-10- 10."
   ]
  },
  {
   "cell_type": "code",
   "execution_count": 108,
   "metadata": {},
   "outputs": [
    {
     "name": "stdout",
     "output_type": "stream",
     "text": [
      "Original Dataframe:\n",
      "                   City Colors Reported Shape Reported State             Time           Date_time\n",
      "0                Ithaca             NaN       TRIANGLE    NY   6/1/1930 22:00 1930-06-01 22:00:00\n",
      "1           Willingboro             NaN          OTHER    NJ  6/30/1930 20:00 1930-06-30 20:00:00\n",
      "2               Holyoke             NaN           OVAL    CO  2/15/1931 14:00 1931-02-15 14:00:00\n",
      "3               Abilene             NaN           DISK    KS   6/1/1931 13:00 1931-06-01 13:00:00\n",
      "4  New York Worlds Fair             NaN          LIGHT    NY  4/18/1933 19:00 1933-04-18 19:00:00\n",
      "\n",
      "Sighting days of the unidentified flying object (ufo) between 1949-10-10 and 1960-10-10:\n",
      "                                City Colors Reported Shape Reported State              Time           Date_time\n",
      "118                       Mount Hope             NaN            NaN    WV    1/1/1950 22:00 1950-01-01 22:00:00\n",
      "119                    New York City             NaN           OVAL    NY     1/2/1950 0:00 1950-01-02 00:00:00\n",
      "120                          Roswell             RED            NaN    NM    3/22/1950 0:00 1950-03-22 00:00:00\n",
      "121                         Arkansas             NaN           DISK    AR    4/15/1950 8:00 1950-04-15 08:00:00\n",
      "122                    Waynesborough             NaN           DISK    VA   4/15/1950 14:00 1950-04-15 14:00:00\n",
      "123                       Fort Lewis             NaN       TRIANGLE    WA   5/12/1950 14:00 1950-05-12 14:00:00\n",
      "124                          Crowder             NaN            NaN    MS     6/1/1950 0:00 1950-06-01 00:00:00\n",
      "125                     Philadelphia             NaN           DISK    MS    6/1/1950 16:00 1950-06-01 16:00:00\n",
      "126                       Pittsburgh             NaN           OVAL    PA    6/1/1950 20:00 1950-06-01 20:00:00\n",
      "127                       Kensington             NaN           OVAL    MD    6/7/1950 20:00 1950-06-07 20:00:00\n",
      "128                      Kansas City             NaN           DISK    MO    6/8/1950 10:00 1950-06-08 10:00:00\n",
      "129                             Napa           GREEN           DISK    CA    6/10/1950 0:00 1950-06-10 00:00:00\n",
      "130               Grosse Pointe Park             NaN           OVAL    MI   6/15/1950 13:00 1950-06-15 13:00:00\n",
      "131                          Bonifay             NaN           DISK    FL   6/15/1950 20:00 1950-06-15 20:00:00\n",
      "132                       Fort Worth             NaN           DISK    TX   6/15/1950 20:00 1950-06-15 20:00:00\n",
      "133                       Booneville             NaN           DISK    MS   6/20/1950 10:00 1950-06-20 10:00:00\n",
      "134                        Galveston             NaN         SPHERE    TX   6/20/1950 17:00 1950-06-20 17:00:00\n",
      "135                  Lac Du Flambeau             NaN           DISK    WI   6/30/1950 16:00 1950-06-30 16:00:00\n",
      "136                         Florence             NaN           DISK    CO   6/30/1950 17:30 1950-06-30 17:30:00\n",
      "137                         Florence             NaN          LIGHT    CO   6/30/1950 17:30 1950-06-30 17:30:00\n",
      "138                    Coeur d'Alene          ORANGE          CIGAR    ID    7/2/1950 13:00 1950-07-02 13:00:00\n",
      "139                    Bay St. Louis             NaN          LIGHT    MS    7/2/1950 21:00 1950-07-02 21:00:00\n",
      "140                   East Palestine             NaN          LIGHT    OH   7/10/1950 20:30 1950-07-10 20:30:00\n",
      "141                           Newark             NaN         SPHERE    NJ   7/15/1950 21:30 1950-07-15 21:30:00\n",
      "142       Los Padres National Forest             NaN      FORMATION    CA   7/15/1950 23:00 1950-07-15 23:00:00\n",
      "143                        Smithport             NaN           DISK    PA   7/20/1950 21:30 1950-07-20 21:30:00\n",
      "144                       Louisville             NaN          OTHER    KY     8/1/1950 4:00 1950-08-01 04:00:00\n",
      "145                        Stanfield             NaN           DISK    OR   8/15/1950 14:00 1950-08-15 14:00:00\n",
      "146                        Pikeville             NaN           DISK    KY   10/1/1950 11:00 1950-10-01 11:00:00\n",
      "147                       Sandy Hook             NaN       TRIANGLE    NJ  10/15/1950 15:00 1950-10-15 15:00:00\n",
      "148                    Half Moon Bay             NaN          OTHER    CA  12/12/1950 22:00 1950-12-12 22:00:00\n",
      "149                     Palm Springs             NaN          CIGAR    CA    1/20/1951 4:30 1951-01-20 04:30:00\n",
      "150                    Thompsonville             NaN           DISK    CT    2/3/1951 22:00 1951-02-03 22:00:00\n",
      "151                      Los Angeles             NaN           DISK    CA   2/15/1951 11:00 1951-02-15 11:00:00\n",
      "152                           Irving            BLUE           DISK    KS    4/15/1951 0:30 1951-04-15 00:30:00\n",
      "153                        Fort Sill             NaN           OVAL    OK    5/15/1951 3:00 1951-05-15 03:00:00\n",
      "154                         Oklahoma             NaN          CIGAR    OK    6/1/1951 19:00 1951-06-01 19:00:00\n",
      "155                           Jasper             NaN           OVAL    NC    6/3/1951 13:00 1951-06-03 13:00:00\n",
      "156                      Mount Pinos             NaN           DISK    CA     6/6/1951 2:00 1951-06-06 02:00:00\n",
      "157                       Greenville           GREEN           DISK    MS   6/15/1951 20:30 1951-06-15 20:30:00\n",
      "158                  Jackson Heights             NaN           DISK    NY    6/30/1951 7:00 1951-06-30 07:00:00\n",
      "159                       Birmingham             NaN            NaN    AL   6/30/1951 19:00 1951-06-30 19:00:00\n",
      "160                    Otis Orchards             NaN           DISK    WA     7/1/1951 3:00 1951-07-01 03:00:00\n",
      "161                          Atlanta             NaN            NaN    GA    7/1/1951 14:00 1951-07-01 14:00:00\n",
      "162                 Calaveras County             NaN           DISK    CA     7/3/1951 3:00 1951-07-03 03:00:00\n",
      "163                      Green River           GREEN         SPHERE    WY    7/3/1951 12:00 1951-07-03 12:00:00\n",
      "164                            Provo            BLUE           DISK    UT   7/10/1951 23:30 1951-07-10 23:30:00\n",
      "165                   Spokane Valley             NaN         SPHERE    WA   7/15/1951 14:00 1951-07-15 14:00:00\n",
      "166                          Sunland             NaN         CIRCLE    CA    8/10/1951 1:00 1951-08-10 01:00:00\n",
      "167                          Altoona             NaN           DISK    PA   8/15/1951 13:00 1951-08-15 13:00:00\n",
      "168                     Jacksonville             NaN           DISK    FL  10/15/1951 20:00 1951-10-15 20:00:00\n",
      "169                     Holloman AFB             NaN         CIRCLE    NM   11/15/1951 6:00 1951-11-15 06:00:00\n",
      "170                   Salt Lake City             NaN            NaN    UT     1/1/1952 0:00 1952-01-01 00:00:00\n",
      "171                       Binghamton             NaN           DISK    NY   2/10/1952 21:00 1952-02-10 21:00:00\n",
      "172                       Nellis AFB             NaN           DISK    NV   2/17/1952 18:00 1952-02-17 18:00:00\n",
      "173                          Chicago             NaN           DISK    IL   4/15/1952 13:00 1952-04-15 13:00:00\n",
      "174                       Greenville          ORANGE       TRIANGLE    TX   4/15/1952 16:00 1952-04-15 16:00:00\n",
      "175                       Pittsburgh             NaN       CYLINDER    PA   5/15/1952 10:15 1952-05-15 10:15:00\n",
      "176                            Allyn             NaN           DISK    WA   5/15/1952 20:00 1952-05-15 20:00:00\n",
      "177                          Dousman             NaN            NaN    WI    6/1/1952 11:00 1952-06-01 11:00:00\n",
      "178                          Norfolk             RED       FIREBALL    VA    6/1/1952 22:00 1952-06-01 22:00:00\n",
      "179                        Evergreen             NaN           DISK    CO    6/6/1952 13:00 1952-06-06 13:00:00\n",
      "180                          Chicago             NaN         CIRCLE    IL   6/10/1952 12:00 1952-06-10 12:00:00\n",
      "181                        Fortville             NaN           DISK    IN    6/13/1952 7:30 1952-06-13 07:30:00\n",
      "182               Luke Airforce Base             NaN            EGG    AZ    6/15/1952 0:00 1952-06-15 00:00:00\n",
      "183                    Piedra Blanka             NaN          CIGAR    CA    6/15/1952 0:00 1952-06-15 00:00:00\n",
      "184                     Jacksonville             NaN       TRIANGLE    FL   6/15/1952 21:00 1952-06-15 21:00:00\n",
      "185                          Maywood             NaN         CIRCLE    CA   6/15/1952 23:00 1952-06-15 23:00:00\n",
      "186                          Lansing             NaN          OTHER    MI   6/21/1952 22:00 1952-06-21 22:00:00\n",
      "187                          Chester             NaN           OVAL    PA   6/22/1952 17:45 1952-06-22 17:45:00\n",
      "188                         Cheyenne             NaN           DISK    WY    6/30/1952 0:00 1952-06-30 00:00:00\n",
      "189                            Pecos             NaN           DISK    TX    6/30/1952 3:00 1952-06-30 03:00:00\n",
      "190                    Barksdale AFB             NaN            NaN    LA    6/30/1952 6:00 1952-06-30 06:00:00\n",
      "191                            Miami             NaN          LIGHT    FL    6/30/1952 9:00 1952-06-30 09:00:00\n",
      "192                    New York City             NaN           DISK    NY   6/30/1952 13:00 1952-06-30 13:00:00\n",
      "193                           Auburn             NaN           OVAL    WA   6/30/1952 18:30 1952-06-30 18:30:00\n",
      "194                            Miami             NaN           DISK    FL   6/30/1952 21:00 1952-06-30 21:00:00\n",
      "195                            Miami             NaN           DISK    FL   6/30/1952 21:00 1952-06-30 21:00:00\n",
      "196                            Miami             NaN          LIGHT    FL   6/30/1952 21:00 1952-06-30 21:00:00\n",
      "197                           Sebeka             NaN          OTHER    MN    7/1/1952 15:00 1952-07-01 15:00:00\n",
      "198                          Detroit             NaN         SPHERE    MI    7/1/1952 22:00 1952-07-01 22:00:00\n",
      "199                           Tacoma             NaN         SPHERE    WA    7/5/1952 16:00 1952-07-05 16:00:00\n",
      "200                        Evergreen             NaN         CIRCLE    CO    7/7/1952 10:00 1952-07-07 10:00:00\n",
      "201                        Arlington             NaN           DISK    TX    7/7/1952 13:00 1952-07-07 13:00:00\n",
      "202                        Arlington           GREEN           OVAL    VA   7/13/1952 21:00 1952-07-13 21:00:00\n",
      "203                       Wilmington             NaN           DISK    CA   7/15/1952 12:00 1952-07-15 12:00:00\n",
      "204                              NaN             NaN           DISK    CA   7/15/1952 12:30 1952-07-15 12:30:00\n",
      "205                       Litchfield             NaN          OTHER    PA   7/15/1952 13:00 1952-07-15 13:00:00\n",
      "206                       South Gate             NaN         CIRCLE    CA   7/15/1952 14:00 1952-07-15 14:00:00\n",
      "207                       North Bend             NaN          OTHER    WA   7/15/1952 18:30 1952-07-15 18:30:00\n",
      "208                    New York City             NaN          OTHER    NY   7/15/1952 19:00 1952-07-15 19:00:00\n",
      "209                          Okolona             NaN           OVAL    MS    7/22/1952 9:30 1952-07-22 09:30:00\n",
      "210                           Tacoma             NaN         SPHERE    WA   7/25/1952 16:00 1952-07-25 16:00:00\n",
      "211                         Manville             NaN         SPHERE    RI   7/30/1952 15:00 1952-07-30 15:00:00\n",
      "212                            Tampa             NaN           OVAL    FL    8/1/1952 21:30 1952-08-01 21:30:00\n",
      "213                Smithson's Valley             NaN          CIGAR    TX   8/15/1952 17:00 1952-08-15 17:00:00\n",
      "214                    Prairie Grove             NaN           DISK    AR   8/15/1952 17:30 1952-08-15 17:30:00\n",
      "215                         Hamilton             NaN          LIGHT    OH   8/15/1952 22:15 1952-08-15 22:15:00\n",
      "216                     Philadelphia             NaN         CIRCLE    PA    9/9/1952 20:00 1952-09-09 20:00:00\n",
      "217                     Norridgewock             NaN           DISK    ME   9/15/1952 14:00 1952-09-15 14:00:00\n",
      "218                      Kansas City             NaN           DISK    MO   10/1/1952 12:00 1952-10-01 12:00:00\n",
      "219                         Richland             NaN         CIRCLE    WA  10/15/1952 21:00 1952-10-15 21:00:00\n",
      "220                          Chicago             NaN          OTHER    IL   12/6/1952 19:00 1952-12-06 19:00:00\n",
      "221                       Camp McCoy             NaN       CYLINDER    WI  12/30/1952 12:00 1952-12-30 12:00:00\n",
      "222                         Nebraska             NaN            NaN    NE     1/1/1953 0:00 1953-01-01 00:00:00\n",
      "223                         Oklahoma             NaN          CIGAR    TX    1/1/1953 14:00 1953-01-01 14:00:00\n",
      "224                     Palm Springs             NaN            NaN    CA    3/15/1953 0:00 1953-03-15 00:00:00\n",
      "225                        Haverhill             NaN        CHEVRON    MA    4/1/1953 15:00 1953-04-01 15:00:00\n",
      "226                        Cambridge             RED         SPHERE    MA    4/1/1953 18:00 1953-04-01 18:00:00\n",
      "227                         Chariton             NaN          OTHER    IA   4/10/1953 13:00 1953-04-10 13:00:00\n",
      "228                      Los Angeles             NaN       FIREBALL    CA   4/15/1953 12:00 1953-04-15 12:00:00\n",
      "229                     Midwest City          YELLOW       FIREBALL    OK   4/15/1953 16:00 1953-04-15 16:00:00\n",
      "230                          Jamison             NaN          CIGAR    PA   4/30/1953 16:00 1953-04-30 16:00:00\n",
      "231                          Kingman             NaN            NaN    AZ    5/20/1953 8:00 1953-05-20 08:00:00\n",
      "232                           Fresno             NaN            NaN    CA    6/1/1953 21:00 1953-06-01 21:00:00\n",
      "233                          Roswell             NaN            NaN    NM    6/15/1953 0:00 1953-06-15 00:00:00\n",
      "234                        Wenatchee             NaN           DISK    WA   6/15/1953 12:00 1953-06-15 12:00:00\n",
      "235                       Fort Worth             NaN         SPHERE    TX   6/15/1953 13:00 1953-06-15 13:00:00\n",
      "236                       North Bend             NaN         CIRCLE    WA   6/15/1953 18:00 1953-06-15 18:00:00\n",
      "237                        Galveston             NaN          CIGAR    TX    6/17/1953 7:30 1953-06-17 07:30:00\n",
      "238                        Cleveland             RED       FIREBALL    OH    6/30/1953 0:00 1953-06-30 00:00:00\n",
      "239                            Kelso             NaN           OVAL    WA   6/30/1953 15:00 1953-06-30 15:00:00\n",
      "240                 Colorado Springs             NaN           DISK    CO     7/1/1953 5:30 1953-07-01 05:30:00\n",
      "241                              NaN            BLUE           DISK    MT    7/4/1953 14:00 1953-07-04 14:00:00\n",
      "242                         Ogallala             NaN          OTHER    NE    7/4/1953 21:00 1953-07-04 21:00:00\n",
      "243                        Nashville             NaN       CYLINDER    TN   7/15/1953 13:00 1953-07-15 13:00:00\n",
      "244                           Dublin             NaN           CONE    IN   7/17/1953 22:00 1953-07-17 22:00:00\n",
      "245                         Berkeley             NaN       FIREBALL    MO    8/1/1953 12:00 1953-08-01 12:00:00\n",
      "246  San Bernadino Mtns, Church Camp             NaN           DISK    CA    8/1/1953 14:00 1953-08-01 14:00:00\n",
      "247                          Vallejo             NaN          LIGHT    CA    8/7/1953 21:00 1953-08-07 21:00:00\n",
      "248                       Louisville             NaN         CIRCLE    KY   8/15/1953 11:00 1953-08-15 11:00:00\n",
      "249                          Artesia          ORANGE          OTHER    NM   8/15/1953 19:00 1953-08-15 19:00:00\n",
      "250                 Bowleys Quarters             NaN         SPHERE    MD   8/15/1953 21:00 1953-08-15 21:00:00\n",
      "251                            Homer             NaN            NaN    PA   9/15/1953 14:00 1953-09-15 14:00:00\n",
      "252                     Mauriceville             NaN           DISK    TX  10/15/1953 14:00 1953-10-15 14:00:00\n",
      "253                      New Orleans             NaN           OVAL    LA  10/31/1953 19:00 1953-10-31 19:00:00\n",
      "254                           Cicero             NaN          OTHER    IL  11/13/1953 20:00 1953-11-13 20:00:00\n",
      "255                        Keansburg             NaN         CIRCLE    NJ   11/15/1953 3:00 1953-11-15 03:00:00\n",
      "256                        Pendleton           GREEN           DISK    IN  11/21/1953 22:30 1953-11-21 22:30:00\n",
      "257          Lackland Air Force Base             NaN           DISK    TX   11/25/1953 4:25 1953-11-25 04:25:00\n",
      "258                        Brunswick             NaN            NaN    ME     1/1/1954 0:00 1954-01-01 00:00:00\n",
      "259                         Lakeland             NaN           DISK    FL     1/1/1954 1:00 1954-01-01 01:00:00\n",
      "260                       Souix City             NaN         CIRCLE    IA    1/1/1954 22:00 1954-01-01 22:00:00\n",
      "261                     Santa Monica             NaN          LIGHT    CT   1/15/1954 20:00 1954-01-15 20:00:00\n",
      "262                        Fairbanks             NaN            NaN    AK     2/1/1954 2:00 1954-02-01 02:00:00\n",
      "263                           Burney             NaN           DISK    CA   2/15/1954 19:30 1954-02-15 19:30:00\n",
      "264                  Stanford Campus             NaN           DISK    CA    4/1/1954 22:00 1954-04-01 22:00:00\n",
      "265                        Corvallis             NaN        DIAMOND    OR   5/15/1954 12:00 1954-05-15 12:00:00\n",
      "266                           Quincy             NaN           DISK    IL    5/26/1954 4:30 1954-05-26 04:30:00\n",
      "267                          Houston             NaN           DISK    TX     6/1/1954 0:00 1954-06-01 00:00:00\n",
      "268                             Ovid             NaN           DISK    NY     6/1/1954 6:00 1954-06-01 06:00:00\n",
      "269                      Springfield             NaN       CYLINDER    IL     6/1/1954 8:00 1954-06-01 08:00:00\n",
      "270                       El Cerrito             NaN          LIGHT    CA    6/1/1954 19:00 1954-06-01 19:00:00\n",
      "271                           Toledo             NaN           DISK    OH    6/1/1954 19:00 1954-06-01 19:00:00\n",
      "272                          Norfolk             NaN           DISK    VA    6/1/1954 20:00 1954-06-01 20:00:00\n",
      "273                     Philadelphia             NaN           DISK    PA    6/1/1954 20:00 1954-06-01 20:00:00\n",
      "274                      Fish Canyon             NaN          LIGHT    CA    6/1/1954 23:00 1954-06-01 23:00:00\n",
      "275                          Atlanta             NaN           DISK    GA    6/6/1954 10:00 1954-06-06 10:00:00\n",
      "276                       Estes Park             NaN          CIGAR    CO   6/10/1954 20:00 1954-06-10 20:00:00\n",
      "277                         Glenburn             NaN            NaN    ME    6/11/1954 2:00 1954-06-11 02:00:00\n",
      "278                       Palm Beach             NaN          LIGHT    CA   6/15/1954 11:00 1954-06-15 11:00:00\n",
      "279                         Claymont             NaN           DISK    DE   6/15/1954 11:45 1954-06-15 11:45:00\n",
      "280                    Ellington AFB             NaN           DISK    TX   6/15/1954 16:30 1954-06-15 16:30:00\n",
      "281                           Lorton             NaN          OTHER    VA    6/23/1954 2:00 1954-06-23 02:00:00\n",
      "282           Langley Air Force Base             NaN         CIRCLE    VA   6/23/1954 23:00 1954-06-23 23:00:00\n",
      "283                          Thrifty             NaN         CIRCLE    TX    6/25/1954 3:30 1954-06-25 03:30:00\n",
      "284                           Marion             NaN         CIRCLE    VA    6/30/1954 0:00 1954-06-30 00:00:00\n",
      "285                          Methuen             NaN            NaN    MA    6/30/1954 0:00 1954-06-30 00:00:00\n",
      "286                        Hawthorne             NaN          LIGHT    CA   6/30/1954 12:00 1954-06-30 12:00:00\n",
      "287                         Pasadena             NaN         CIRCLE    CA   6/30/1954 15:00 1954-06-30 15:00:00\n",
      "288                St. Louis Airport             RED           OVAL    MO    7/1/1954 21:00 1954-07-01 21:00:00\n",
      "289                      Los Angeles             RED         CIRCLE    CA    7/1/1954 22:00 1954-07-01 22:00:00\n",
      "290                     Walnut Creek             NaN            NaN    CA    7/7/1954 20:00 1954-07-07 20:00:00\n",
      "291                    West Columbia             NaN      FORMATION    SC    7/7/1954 22:00 1954-07-07 22:00:00\n",
      "292                          Morroco             NaN        VARIOUS    IN   7/12/1954 17:30 1954-07-12 17:30:00\n",
      "293                     Philadelphia             NaN           DISK    PA   7/15/1954 11:00 1954-07-15 11:00:00\n",
      "294                       Greenfield             NaN          CIGAR    IN   7/15/1954 14:00 1954-07-15 14:00:00\n",
      "295                      Kansas City             NaN        CHEVRON    KS   7/15/1954 21:00 1954-07-15 21:00:00\n",
      "296                          Oakdale             NaN           DISK    NY   7/15/1954 21:00 1954-07-15 21:00:00\n",
      "297                   Bridge Hampton             NaN          LIGHT    NY   7/15/1954 22:00 1954-07-15 22:00:00\n",
      "298                      Farmingdale             NaN           OVAL    NY    8/1/1954 12:00 1954-08-01 12:00:00\n",
      "299                             Dyer             NaN       TRIANGLE    IN    8/1/1954 17:00 1954-08-01 17:00:00\n",
      "300                           Canton             NaN           DISK    PA    8/1/1954 21:00 1954-08-01 21:00:00\n",
      "301                  North Hollywood             NaN          LIGHT    CA    8/1/1954 22:00 1954-08-01 22:00:00\n",
      "302                         Puyallup             NaN           OVAL    WA   8/15/1954 21:00 1954-08-15 21:00:00\n",
      "303                           Geneva             NaN           DISK    NY    9/1/1954 13:00 1954-09-01 13:00:00\n",
      "304                         Beaumont             RED           DISK    TX    9/9/1954 12:30 1954-09-09 12:30:00\n",
      "305                  Palmer Township             NaN          OTHER    PA    9/15/1954 9:30 1954-09-15 09:30:00\n",
      "306                        Flatwoods             NaN         CIRCLE    WV   10/1/1954 19:00 1954-10-01 19:00:00\n",
      "307                           Blanco             NaN          OTHER    TX  10/15/1954 16:30 1954-10-15 16:30:00\n",
      "308                         Manistee             NaN         CIRCLE    MI  10/15/1954 21:30 1954-10-15 21:30:00\n",
      "309                           Denver             NaN       FIREBALL    CO   11/1/1954 18:30 1954-11-01 18:30:00\n",
      "310                           Thelma             NaN           DISK    TX   11/14/1954 1:00 1954-11-14 01:00:00\n",
      "311                         Red Bank          ORANGE         CIRCLE    NJ  12/15/1954 23:10 1954-12-15 23:10:00\n",
      "312                          Yucaipa             NaN           OVAL    CA  12/16/1954 16:50 1954-12-16 16:50:00\n",
      "313                    New York City             NaN          LIGHT    NY   2/15/1955 19:00 1955-02-15 19:00:00\n",
      "314                         Holbrook          YELLOW            EGG    MA    5/1/1955 15:00 1955-05-01 15:00:00\n",
      "315                       Warrington             NaN       FIREBALL    FL    5/15/1955 3:00 1955-05-15 03:00:00\n",
      "316                         Homaland             NaN         CIRCLE    CA     6/1/1955 0:00 1955-06-01 00:00:00\n",
      "317                           Bagley             NaN         CIRCLE    MN     6/1/1955 2:00 1955-06-01 02:00:00\n",
      "318                       Cincinnati             NaN           DISK    OH    6/1/1955 15:29 1955-06-01 15:29:00\n",
      "319                         Martinez             NaN         CIRCLE    CA    6/1/1955 17:00 1955-06-01 17:00:00\n",
      "320                          Clinton             NaN            EGG    TN    6/1/1955 20:30 1955-06-01 20:30:00\n",
      "321                        Pensacola             NaN          LIGHT    FL     6/6/1955 1:00 1955-06-06 01:00:00\n",
      "322                   South St. Paul             NaN           DISK    MN    6/15/1955 0:00 1955-06-15 00:00:00\n",
      "323                      Terre Haute          ORANGE         CIRCLE    IN    6/15/1955 0:00 1955-06-15 00:00:00\n",
      "324                         Missouri             NaN          LIGHT    MO    6/15/1955 4:30 1955-06-15 04:30:00\n",
      "325                       Youngstown             NaN            NaN    PA    6/15/1955 8:00 1955-06-15 08:00:00\n",
      "326                    Daytona Beach             NaN       FIREBALL    FL   6/15/1955 21:00 1955-06-15 21:00:00\n",
      "327                          Rantoul             NaN          LIGHT    IL    6/17/1955 7:00 1955-06-17 07:00:00\n",
      "328                 Beach Haven Park             NaN           DISK    NJ    6/23/1955 7:00 1955-06-23 07:00:00\n",
      "329                      Quartz Hill             NaN           DISK    CA    6/30/1955 0:00 1955-06-30 00:00:00\n",
      "330                          Lubbock             NaN          CIGAR    TX   6/30/1955 13:00 1955-06-30 13:00:00\n",
      "331                            Dumas             NaN          LIGHT    TX   6/30/1955 21:00 1955-06-30 21:00:00\n",
      "332                    Morehead City             NaN           DISK    NC   6/30/1955 21:00 1955-06-30 21:00:00\n",
      "333                        Carnation             NaN           DISK    WA    7/1/1955 14:00 1955-07-01 14:00:00\n",
      "334                           Dierks             NaN          CIGAR    AR    7/1/1955 22:00 1955-07-01 22:00:00\n",
      "335                    Woodland Park             NaN           OVAL    CO   7/15/1955 14:00 1955-07-15 14:00:00\n",
      "336                          Ringold             NaN          LIGHT    LA   7/15/1955 22:00 1955-07-15 22:00:00\n",
      "337                   Newtown Square             NaN         CIRCLE    PA    8/6/1955 19:00 1955-08-06 19:00:00\n",
      "338                     Independence             NaN       FIREBALL    MO     8/8/1955 1:00 1955-08-08 01:00:00\n",
      "339                     Madisonville             NaN          LIGHT    KY    8/14/1955 1:00 1955-08-14 01:00:00\n",
      "340                       Eagle Pass             NaN          CIGAR    TX    8/15/1955 0:01 1955-08-15 00:01:00\n",
      "341                           Covina             NaN           DISK    CA   8/17/1955 21:00 1955-08-17 21:00:00\n",
      "342                         Bullhead             NaN           DISK    AZ   9/10/1955 23:00 1955-09-10 23:00:00\n",
      "343                        Mono Lake             NaN         CIRCLE    CA   10/1/1955 22:00 1955-10-01 22:00:00\n",
      "344                      West Covina           GREEN            NaN    CA   10/9/1955 18:00 1955-10-09 18:00:00\n",
      "345                        Rhinebeck             NaN          LIGHT    NY  10/15/1955 20:00 1955-10-15 20:00:00\n",
      "346                          Weirton             NaN           DISK    WV     1/1/1956 5:30 1956-01-01 05:30:00\n",
      "347                         Petaluma             NaN           OVAL    CA    3/1/1956 13:00 1956-03-01 13:00:00\n",
      "348                            Bowie             NaN           DISK    MD   3/20/1956 20:00 1956-03-20 20:00:00\n",
      "349                          Hampton             NaN         SPHERE    MN   3/22/1956 17:30 1956-03-22 17:30:00\n",
      "350                           Canton             NaN          CIGAR    OH    5/1/1956 12:00 1956-05-01 12:00:00\n",
      "351                  Pine castle AFB             NaN          LIGHT    FL   5/15/1956 20:00 1956-05-15 20:00:00\n",
      "352                              Ada             NaN         CIRCLE    OK   5/17/1956 10:22 1956-05-17 10:22:00\n",
      "353                           Belton             NaN          OTHER    MO    6/1/1956 19:00 1956-06-01 19:00:00\n",
      "354                          Memphis          ORANGE       CYLINDER    TN    6/1/1956 20:00 1956-06-01 20:00:00\n",
      "355                           Elmore             NaN         SPHERE    AL     6/5/1956 0:00 1956-06-05 00:00:00\n",
      "356                   Salt Lake City             NaN         CIRCLE    UT     6/5/1956 0:00 1956-06-05 00:00:00\n",
      "357                      Upper Glade             NaN            EGG    WV    6/6/1956 12:00 1956-06-06 12:00:00\n",
      "358                            Akron             NaN          OTHER    OH    6/6/1956 22:00 1956-06-06 22:00:00\n",
      "359                            Edroy             NaN            NaN    TX    6/15/1956 1:00 1956-06-15 01:00:00\n",
      "360                    San Francisco             NaN          OTHER    CA   6/15/1956 12:15 1956-06-15 12:15:00\n",
      "361                        Palo Alto             NaN       FIREBALL    CA   6/15/1956 18:00 1956-06-15 18:00:00\n",
      "362                Richfield Springs             NaN          CIGAR    NY   6/15/1956 18:00 1956-06-15 18:00:00\n",
      "363                            Vista          ORANGE          CIGAR    CA   6/15/1956 19:15 1956-06-15 19:15:00\n",
      "364                         Farragut             NaN          CIGAR    TN   6/15/1956 20:00 1956-06-15 20:00:00\n",
      "365                            Tulsa             NaN          FLASH    OK   6/15/1956 20:00 1956-06-15 20:00:00\n",
      "366                            Salem             NaN           DISK    NJ   6/15/1956 20:32 1956-06-15 20:32:00\n",
      "367                    New York City             NaN          LIGHT    NY   6/15/1956 21:00 1956-06-15 21:00:00\n",
      "..                               ...             ...            ...   ...               ...                 ...\n",
      "397                           Canton             NaN          CIGAR    OH    5/1/1957 12:00 1957-05-01 12:00:00\n",
      "398                        Rhinebeck             NaN        DIAMOND    NY   5/25/1957 13:00 1957-05-25 13:00:00\n",
      "399           Union Bower are irving             NaN      FORMATION    TX     6/1/1957 0:00 1957-06-01 00:00:00\n",
      "400                          El Paso             NaN           DISK    TX    6/1/1957 10:00 1957-06-01 10:00:00\n",
      "401                   E. Los Angeles             NaN          LIGHT    CA    6/1/1957 12:00 1957-06-01 12:00:00\n",
      "402                      Glens Falls             NaN           DISK    NY    6/1/1957 20:00 1957-06-01 20:00:00\n",
      "403                           Irving             NaN          LIGHT    TX    6/1/1957 22:00 1957-06-01 22:00:00\n",
      "404                       Hicksville             NaN         CIRCLE    NY    6/6/1957 22:00 1957-06-06 22:00:00\n",
      "405                       Green Lake             NaN           OVAL    MI   6/12/1957 19:00 1957-06-12 19:00:00\n",
      "406                  Livermore Falls             NaN        DIAMOND    ME   6/14/1957 10:00 1957-06-14 10:00:00\n",
      "407                      Great Falls             NaN            NaN    MT    6/15/1957 0:00 1957-06-15 00:00:00\n",
      "408                    Hartford City             NaN           DISK    IN   6/15/1957 13:00 1957-06-15 13:00:00\n",
      "409                      Walled Lake             NaN       CYLINDER    MI   6/15/1957 23:30 1957-06-15 23:30:00\n",
      "410                      San Leandro             NaN          LIGHT    CA   6/19/1957 21:00 1957-06-19 21:00:00\n",
      "411                          Lubbock             NaN       TRIANGLE    TX   6/21/1957 17:00 1957-06-21 17:00:00\n",
      "412                          Norwalk             NaN           DISK    CA   6/21/1957 19:30 1957-06-21 19:30:00\n",
      "413                           Arctic             NaN          CIGAR    AK    6/30/1957 0:00 1957-06-30 00:00:00\n",
      "414                           Dallas             NaN          OTHER    TX    6/30/1957 0:00 1957-06-30 00:00:00\n",
      "415                       Birmingham             NaN            NaN    MI    6/30/1957 3:30 1957-06-30 03:30:00\n",
      "416                    New York City             NaN       TEARDROP    NY   6/30/1957 12:00 1957-06-30 12:00:00\n",
      "417                       Burlington             NaN         CIRCLE    IA   6/30/1957 13:00 1957-06-30 13:00:00\n",
      "418                     Russellville          ORANGE         SPHERE    AR   6/30/1957 18:00 1957-06-30 18:00:00\n",
      "419                           Barker             NaN           DISK    NY   6/30/1957 20:00 1957-06-30 20:00:00\n",
      "420                           Albany             NaN         CIRCLE    CA   6/30/1957 21:00 1957-06-30 21:00:00\n",
      "421                          Mullens             NaN           OVAL    WV    7/1/1957 13:00 1957-07-01 13:00:00\n",
      "422                          Talcott             NaN         SPHERE    WV    7/1/1957 13:00 1957-07-01 13:00:00\n",
      "423                          Del Rio             NaN          CIGAR    TX    7/1/1957 20:00 1957-07-01 20:00:00\n",
      "424                     Phillipsburg             NaN          CIGAR    NJ   7/10/1957 20:00 1957-07-10 20:00:00\n",
      "425                        Baltimore             NaN          OTHER    MD   7/10/1957 22:00 1957-07-10 22:00:00\n",
      "426                       Chesapeake             NaN           DISK    OH    7/13/1957 9:00 1957-07-13 09:00:00\n",
      "427                      Temple City             NaN          LIGHT    CA   7/15/1957 12:00 1957-07-15 12:00:00\n",
      "428                          Houston             NaN        DIAMOND    TX   7/15/1957 13:00 1957-07-15 13:00:00\n",
      "429                     Williamsport             NaN          CIGAR    PA   7/15/1957 14:00 1957-07-15 14:00:00\n",
      "430                       Long Beach             NaN           DISK    CA   7/15/1957 15:00 1957-07-15 15:00:00\n",
      "431                           Denver             NaN          LIGHT    CO   7/15/1957 22:00 1957-07-15 22:00:00\n",
      "432                      Kresgeville             NaN            NaN    PA   7/15/1957 22:00 1957-07-15 22:00:00\n",
      "433                  Salt  Lake City             NaN           DISK    UT   7/15/1957 22:00 1957-07-15 22:00:00\n",
      "434                      Kansas City             RED          LIGHT    MO   7/15/1957 23:30 1957-07-15 23:30:00\n",
      "435                             Arco             NaN           DISK    ID    8/1/1957 12:00 1957-08-01 12:00:00\n",
      "436                         Vandalia             NaN           DISK    OH    8/3/1957 20:00 1957-08-03 20:00:00\n",
      "437                       Bainbridge             NaN       FIREBALL    MD     8/4/1957 2:00 1957-08-04 02:00:00\n",
      "438                     Indianapolis             NaN          LIGHT    IN     8/7/1957 1:00 1957-08-07 01:00:00\n",
      "439                        San Diego             NaN           DISK    CA     8/9/1957 0:30 1957-08-09 00:30:00\n",
      "440                      Ticonderoga             NaN           DISK    NY   8/14/1957 16:00 1957-08-14 16:00:00\n",
      "441                       California             NaN       FIREBALL    CA   8/14/1957 21:00 1957-08-14 21:00:00\n",
      "442                         Longview             NaN       TRIANGLE    WA    8/15/1957 1:00 1957-08-15 01:00:00\n",
      "443                           Ludlow             NaN          CIGAR    MA    8/15/1957 1:00 1957-08-15 01:00:00\n",
      "444                           Exeter             NaN           DISK    NH   8/15/1957 21:00 1957-08-15 21:00:00\n",
      "445                           Auburn             NaN            NaN    MA   8/15/1957 21:30 1957-08-15 21:30:00\n",
      "446                    Smith's Ferry             NaN           DISK    ID   8/16/1957 21:30 1957-08-16 21:30:00\n",
      "447                       Huntington             NaN       TRIANGLE    IN   8/17/1957 23:00 1957-08-17 23:00:00\n",
      "448                           Graham             NaN         SPHERE    TX    9/1/1957 16:00 1957-09-01 16:00:00\n",
      "449                      Brecksville             NaN         CIRCLE    OH    9/1/1957 23:00 1957-09-01 23:00:00\n",
      "450                        Los Gatos             NaN           DISK    CA    9/5/1957 17:30 1957-09-05 17:30:00\n",
      "451                         St. Paul             NaN           DISK    MN   9/10/1957 19:15 1957-09-10 19:15:00\n",
      "452                          El Paso             NaN           DISK    TX    9/15/1957 4:00 1957-09-15 04:00:00\n",
      "453                     Lake Jackson             NaN       FIREBALL    TX   9/15/1957 21:30 1957-09-15 21:30:00\n",
      "454                           Tacoma             NaN           DISK    WA   9/15/1957 23:00 1957-09-15 23:00:00\n",
      "455                     Hopkinsville             NaN          CIGAR    KY    9/20/1957 0:00 1957-09-20 00:00:00\n",
      "456                         Nelchina             NaN            NaN    AK   10/1/1957 16:00 1957-10-01 16:00:00\n",
      "457                         Martelle             NaN          CIGAR    IA   10/1/1957 20:30 1957-10-01 20:30:00\n",
      "458                         Paterson             NaN           DISK    NJ   10/1/1957 21:00 1957-10-01 21:00:00\n",
      "459               Northeast Cape AFS             NaN            NaN    AK   10/1/1957 22:00 1957-10-01 22:00:00\n",
      "460                         St. Paul             NaN          LIGHT    MN   10/5/1957 19:00 1957-10-05 19:00:00\n",
      "461                          England             NaN           DISK    AR   10/15/1957 1:45 1957-10-15 01:45:00\n",
      "462                    New York City             NaN            NaN    NY   10/15/1957 2:00 1957-10-15 02:00:00\n",
      "463                          Houston             NaN          LIGHT    TX  10/15/1957 20:30 1957-10-15 20:30:00\n",
      "464                    Commerce City             NaN       FIREBALL    CO  10/15/1957 22:00 1957-10-15 22:00:00\n",
      "465                          Teaneck             NaN       CYLINDER    NJ  11/10/1957 17:00 1957-11-10 17:00:00\n",
      "466                   Corpus Christi             NaN          LIGHT    TX  11/10/1957 19:00 1957-11-10 19:00:00\n",
      "467               St Lawrence Island             NaN          OTHER    AK  11/10/1957 20:00 1957-11-10 20:00:00\n",
      "468                          Madison             NaN          CIGAR    WI   12/28/1957 0:00 1957-12-28 00:00:00\n",
      "469                          Madison             NaN          CIGAR    WI   12/28/1957 0:00 1957-12-28 00:00:00\n",
      "470                              Pep             NaN       FIREBALL    TX    1/1/1958 22:00 1958-01-01 22:00:00\n",
      "471                           Howell             NaN          CIGAR    MI    2/15/1958 2:30 1958-02-15 02:30:00\n",
      "472                         Winooski             NaN           OVAL    VT   4/17/1958 21:30 1958-04-17 21:30:00\n",
      "473                         Winooski             NaN           OVAL    VT   4/17/1958 21:30 1958-04-17 21:30:00\n",
      "474                      Palmer Park             NaN         SPHERE    MD    5/5/1958 20:00 1958-05-05 20:00:00\n",
      "475                  North Hollywood             NaN         CIRCLE    CA    5/7/1958 10:00 1958-05-07 10:00:00\n",
      "476                       Cincinnati             NaN        DIAMOND    OH    5/16/1958 0:00 1958-05-16 00:00:00\n",
      "477                  North Hollywood             NaN         SPHERE    CA    5/20/1958 0:00 1958-05-20 00:00:00\n",
      "478                        Middlesex             NaN         CIRCLE    NC     6/1/1958 2:00 1958-06-01 02:00:00\n",
      "479                    San Francisco             NaN           OVAL    CA    6/1/1958 19:00 1958-06-01 19:00:00\n",
      "480                    New York City             NaN           OVAL    NY    6/1/1958 21:00 1958-06-01 21:00:00\n",
      "481                          Timpson             NaN          LIGHT    TX    6/1/1958 22:00 1958-06-01 22:00:00\n",
      "482                     Grand Island             NaN         CIRCLE    NE    6/1/1958 22:30 1958-06-01 22:30:00\n",
      "483                       Cincinnati             NaN        DIAMOND    OH     6/6/1958 9:30 1958-06-06 09:30:00\n",
      "484                     Baldwin Park             NaN          CIGAR    CA   6/10/1958 12:00 1958-06-10 12:00:00\n",
      "485                        Florala ?             NaN           DISK    AL    6/15/1958 0:00 1958-06-15 00:00:00\n",
      "486                    Mountain View             NaN          OTHER    MO    6/15/1958 0:00 1958-06-15 00:00:00\n",
      "487                      Coffeyville             NaN          CIGAR    KS   6/15/1958 15:00 1958-06-15 15:00:00\n",
      "488                          Yonkers             NaN          LIGHT    NY   6/15/1958 15:00 1958-06-15 15:00:00\n",
      "489                       Menlo Park             NaN          LIGHT    CA   6/15/1958 19:15 1958-06-15 19:15:00\n",
      "490                          Houston             NaN           DISK    TX   6/15/1958 20:00 1958-06-15 20:00:00\n",
      "491                         Oklahoma             NaN          LIGHT    OK   6/15/1958 22:00 1958-06-15 22:00:00\n",
      "492                           Pawnee             NaN            NaN    OK   6/15/1958 23:00 1958-06-15 23:00:00\n",
      "493                           Pawnee             NaN          LIGHT    OK   6/15/1958 23:00 1958-06-15 23:00:00\n",
      "494                       Silverdale             NaN       CYLINDER    WA   6/30/1958 12:00 1958-06-30 12:00:00\n",
      "495                          Conyers             NaN       TEARDROP    GA   6/30/1958 13:00 1958-06-30 13:00:00\n",
      "496                           Camden             NaN           DISK    ME   6/30/1958 16:00 1958-06-30 16:00:00\n",
      "497                       Fort Worth             NaN           DISK    TX   6/30/1958 20:00 1958-06-30 20:00:00\n",
      "498                           Durham             NaN          LIGHT    KS   6/30/1958 21:30 1958-06-30 21:30:00\n",
      "499                        Thibodaux             NaN       FIREBALL    LA   6/30/1958 23:00 1958-06-30 23:00:00\n",
      "500                           Osmond             NaN            NaN    NE     7/1/1958 4:48 1958-07-01 04:48:00\n",
      "501                           Muncie             NaN            NaN    IN    7/1/1958 21:00 1958-07-01 21:00:00\n",
      "502                      Cheektowaga             NaN       TEARDROP    NY    7/10/1958 9:00 1958-07-10 09:00:00\n",
      "503                   Woodland Hills             NaN          LIGHT    FL   7/10/1958 17:00 1958-07-10 17:00:00\n",
      "504                          no data             NaN           DISK    UT   7/11/1958 23:00 1958-07-11 23:00:00\n",
      "505                           Novato             NaN           DISK    CA   7/15/1958 17:30 1958-07-15 17:30:00\n",
      "506                     Rock Springs             NaN           DISK    WY   7/20/1958 21:30 1958-07-20 21:30:00\n",
      "507                     Randallstown             NaN       TRIANGLE    MD   7/30/1958 22:00 1958-07-30 22:00:00\n",
      "508                            Derby             NaN           DISK    CT    8/1/1958 19:00 1958-08-01 19:00:00\n",
      "509                      Scarborough             NaN           DISK    ME    8/8/1958 15:00 1958-08-08 15:00:00\n",
      "510                         Bellevue             NaN          LIGHT    WA   8/10/1958 21:30 1958-08-10 21:30:00\n",
      "511                           Monroe             NaN           OVAL    GA   8/15/1958 14:00 1958-08-15 14:00:00\n",
      "512                            Fargo             NaN           DISK    ND    9/1/1958 20:00 1958-09-01 20:00:00\n",
      "513                            Perry             RED       TRIANGLE    IA    9/1/1958 21:00 1958-09-01 21:00:00\n",
      "514                           Arthur             NaN            NaN    ND    9/7/1958 19:00 1958-09-07 19:00:00\n",
      "515                          Ashland             NaN         CIRCLE    KY   9/14/1958 19:30 1958-09-14 19:30:00\n",
      "516                       Davis Jct.             NaN       FIREBALL    IL   9/20/1958 22:20 1958-09-20 22:20:00\n",
      "517                    Phelps County             NaN           DISK    NE   9/25/1958 19:00 1958-09-25 19:00:00\n",
      "518                         St. Paul             NaN          OTHER    MN  10/20/1958 21:00 1958-10-20 21:00:00\n",
      "519                       Terrebonne             NaN            NaN    OR  10/25/1958 20:00 1958-10-25 20:00:00\n",
      "520                        Riverside             NaN          LIGHT    IL   10/30/1958 1:00 1958-10-30 01:00:00\n",
      "521                       Greenville             NaN           DISK    RI  11/15/1958 22:30 1958-11-15 22:30:00\n",
      "522                        Milwaukee             NaN           DISK    WI  11/25/1958 23:00 1958-11-25 23:00:00\n",
      "523              South San Francisco             NaN           DISK    CA   1/10/1959 18:30 1959-01-10 18:30:00\n",
      "524                    New York City             NaN            NaN    NY    3/1/1959 23:00 1959-03-01 23:00:00\n",
      "525                            Miami             NaN         SPHERE    FL     4/1/1959 1:00 1959-04-01 01:00:00\n",
      "526                          Mendham             NaN           DISK    NJ   4/15/1959 21:00 1959-04-15 21:00:00\n",
      "527                            Baden             NaN       CYLINDER    PA   4/26/1959 19:00 1959-04-26 19:00:00\n",
      "528                         Columbus             NaN          LIGHT    OH    5/1/1959 18:30 1959-05-01 18:30:00\n",
      "529                      El Sobrante          YELLOW         CIRCLE    CA     5/5/1959 9:00 1959-05-05 09:00:00\n",
      "530                         Evanston             NaN            NaN    IL    5/15/1959 4:00 1959-05-15 04:00:00\n",
      "531                       Cincinnati             NaN           DISK    OH   5/30/1959 17:00 1959-05-30 17:00:00\n",
      "532                     Wabash River             NaN         CIRCLE    IN     6/1/1959 8:00 1959-06-01 08:00:00\n",
      "533                        Nashville             NaN            NaN    TX    6/1/1959 12:00 1959-06-01 12:00:00\n",
      "534                           Orange             NaN       CYLINDER    CT    6/1/1959 12:00 1959-06-01 12:00:00\n",
      "535                           Sidney             NaN          LIGHT    OH    6/1/1959 18:30 1959-06-01 18:30:00\n",
      "536                           Nelson             NaN          CIGAR    NE    6/1/1959 22:00 1959-06-01 22:00:00\n",
      "537                           Arvada             NaN         CIRCLE    CO    6/5/1959 13:00 1959-06-05 13:00:00\n",
      "538                           Monroe             NaN            NaN    MI   6/10/1959 13:00 1959-06-10 13:00:00\n",
      "539                         Missoula             NaN            NaN    MT    6/15/1959 1:00 1959-06-15 01:00:00\n",
      "540                      Minneapolis             NaN          OTHER    MN    6/15/1959 8:30 1959-06-15 08:30:00\n",
      "541                         Campbell             NaN           DISK    CA   6/15/1959 10:00 1959-06-15 10:00:00\n",
      "542                          Buffalo             NaN          LIGHT    WV   6/15/1959 23:00 1959-06-15 23:00:00\n",
      "543                      Minneapolis             NaN      FORMATION    MN   6/23/1959 22:00 1959-06-23 22:00:00\n",
      "544                            Globe             NaN      RECTANGLE    AZ   6/28/1959 13:00 1959-06-28 13:00:00\n",
      "545                    Campbellsport             NaN         CIRCLE    WI   6/30/1959 14:00 1959-06-30 14:00:00\n",
      "546                    New York City             NaN           OVAL    NY   6/30/1959 20:00 1959-06-30 20:00:00\n",
      "547                          Phoenix             NaN           DISK    AZ   6/30/1959 21:00 1959-06-30 21:00:00\n",
      "548                       Strathmore             NaN           DISK    CA     7/1/1959 1:00 1959-07-01 01:00:00\n",
      "549                      Castle Rock             NaN          CIGAR    WA    7/1/1959 20:00 1959-07-01 20:00:00\n",
      "550                     Gardner Lake             NaN           OVAL    ME    7/4/1959 20:00 1959-07-04 20:00:00\n",
      "551                       Long Beach             NaN          LIGHT    CA    7/7/1959 23:00 1959-07-07 23:00:00\n",
      "552                      Nort Sutton             NaN            NaN    NH   7/15/1959 12:00 1959-07-15 12:00:00\n",
      "553                       New Albany             NaN          CIGAR    IN   7/15/1959 23:00 1959-07-15 23:00:00\n",
      "554                        Worcester             NaN          OTHER    MA   7/16/1959 18:00 1959-07-16 18:00:00\n",
      "555                            Salem             NaN           DISK    OH    7/19/1959 1:00 1959-07-19 01:00:00\n",
      "556                  Fort Lauderdale             NaN          LIGHT    FL   7/20/1959 21:30 1959-07-20 21:30:00\n",
      "557                        Allendale             NaN          LIGHT    KY   7/22/1959 14:30 1959-07-22 14:30:00\n",
      "558                           Golden             NaN           DISK    TX    8/1/1959 18:00 1959-08-01 18:00:00\n",
      "559                           Reseda             NaN           DISK    CA    8/10/1959 1:30 1959-08-10 01:30:00\n",
      "560                             Troy             NaN            NaN    NY   8/13/1959 21:00 1959-08-13 21:00:00\n",
      "561                           Jewett             NaN          LIGHT    NY   8/13/1959 22:30 1959-08-13 22:30:00\n",
      "562                          Roswell             NaN            NaN    NM   8/15/1959 15:00 1959-08-15 15:00:00\n",
      "563                           Mohave             NaN          LIGHT    CA   8/15/1959 21:00 1959-08-15 21:00:00\n",
      "564                      Lake Bonita             NaN       FIREBALL    NM    8/20/1959 3:00 1959-08-20 03:00:00\n",
      "565                           Fallon             NaN           OVAL    NV    9/15/1959 0:00 1959-09-15 00:00:00\n",
      "566                        Goldfield             NaN          LIGHT    NV    9/15/1959 1:00 1959-09-15 01:00:00\n",
      "567                           Dayton             NaN           DISK    OH   9/15/1959 11:30 1959-09-15 11:30:00\n",
      "568                    New York City             NaN          OTHER    NY   10/1/1959 16:00 1959-10-01 16:00:00\n",
      "569                     Jacksonville             NaN            NaN    IL   10/1/1959 19:00 1959-10-01 19:00:00\n",
      "570                           Duluth             NaN            NaN    WI   10/1/1959 20:45 1959-10-01 20:45:00\n",
      "571                           Duluth             NaN            NaN    WI   10/5/1959 18:30 1959-10-05 18:30:00\n",
      "572                        Rock Hill             NaN       TRIANGLE    SC   10/5/1959 19:00 1959-10-05 19:00:00\n",
      "573                       Marysville             NaN          OTHER    WA   10/15/1959 0:00 1959-10-15 00:00:00\n",
      "574                      Four States             RED         SPHERE    WV  10/16/1959 22:30 1959-10-16 22:30:00\n",
      "575                           Starke             NaN         SPHERE    FL  11/11/1959 20:00 1959-11-11 20:00:00\n",
      "576                        Lafayette             NaN         CIRCLE    IN   11/15/1959 1:30 1959-11-15 01:30:00\n",
      "577                      Los Angeles             NaN           DISK    CA  12/20/1959 18:30 1959-12-20 18:30:00\n",
      "578                        Tehachapi             NaN       FIREBALL    CA  12/30/1959 18:35 1959-12-30 18:35:00\n",
      "579                          Del Mar             NaN            NaN    CA  12/30/1959 23:00 1959-12-30 23:00:00\n",
      "580                          Bristol             NaN           DISK    VA   1/15/1960 22:00 1960-01-15 22:00:00\n",
      "581                         St. Paul             NaN          CIGAR    MN    2/1/1960 22:15 1960-02-01 22:15:00\n",
      "582                         Hartwell             NaN          CIGAR    GA    2/1/1960 23:00 1960-02-01 23:00:00\n",
      "583                    Winston-Salem             NaN          CIGAR    NC   2/18/1960 21:00 1960-02-18 21:00:00\n",
      "584                          Houston             NaN       TRIANGLE    TX   3/12/1960 23:00 1960-03-12 23:00:00\n",
      "585                          Houston             NaN          OTHER    TX    4/1/1960 21:00 1960-04-01 21:00:00\n",
      "586                           Tucson             NaN          LIGHT    AZ    5/1/1960 20:00 1960-05-01 20:00:00\n",
      "587                      Schenectady             NaN            NaN    NY    5/15/1960 0:00 1960-05-15 00:00:00\n",
      "588                      Terre Haute             NaN          OTHER    IN   5/15/1960 18:00 1960-05-15 18:00:00\n",
      "589                       Great Bend             NaN          OTHER    KS     6/1/1960 0:00 1960-06-01 00:00:00\n",
      "590                   Salt Lake City             NaN           DISK    UT     6/1/1960 0:00 1960-06-01 00:00:00\n",
      "591                          Seattle           GREEN           OVAL    WA     6/1/1960 0:00 1960-06-01 00:00:00\n",
      "592                           Yakima             NaN          OTHER    WA     6/1/1960 2:30 1960-06-01 02:30:00\n",
      "593                         Palmdale             NaN           DISK    CA    6/1/1960 12:00 1960-06-01 12:00:00\n",
      "594                       Sacramento             NaN          CIGAR    CA    6/1/1960 12:00 1960-06-01 12:00:00\n",
      "595                     Chadd's Ford             NaN       CYLINDER    PA    6/1/1960 13:00 1960-06-01 13:00:00\n",
      "596                       New Jersey             NaN          CIGAR    NJ    6/1/1960 13:00 1960-06-01 13:00:00\n",
      "597                       Watervliet             NaN           DISK    MI    6/1/1960 18:00 1960-06-01 18:00:00\n",
      "598                       Vassalboro             NaN           OVAL    ME    6/1/1960 20:00 1960-06-01 20:00:00\n",
      "599                      Silverfdale             NaN        VARIOUS    WA    6/1/1960 22:00 1960-06-01 22:00:00\n",
      "600                        Santa Ana             NaN           DISK    CA    6/3/1960 18:00 1960-06-03 18:00:00\n",
      "601                   Cape Canaveral             NaN       FIREBALL    FL    6/6/1960 12:00 1960-06-06 12:00:00\n",
      "602                     Philadelphia             NaN         SPHERE    PA   6/10/1960 18:00 1960-06-10 18:00:00\n",
      "603                    Barstow-Baker             NaN           DISK    CA    6/11/1960 2:00 1960-06-11 02:00:00\n",
      "604                      Great Falls             NaN      FORMATION    MT   6/12/1960 14:30 1960-06-12 14:30:00\n",
      "605                           Quincy             NaN           DISK    CA    6/13/1960 2:00 1960-06-13 02:00:00\n",
      "606                        Baltimore             NaN          OTHER    MD   6/15/1960 21:00 1960-06-15 21:00:00\n",
      "607                      Kansas City             NaN           DISK    KS   6/15/1960 21:45 1960-06-15 21:45:00\n",
      "608                          Chicago             NaN           OVAL    IL   6/18/1960 23:00 1960-06-18 23:00:00\n",
      "609                   East Bernstadt             NaN           DISK    KY   6/21/1960 14:00 1960-06-21 14:00:00\n",
      "610                        Albertson             NaN            NaN    NY    6/30/1960 0:00 1960-06-30 00:00:00\n",
      "611                       Litchfield             NaN          OTHER    PA   6/30/1960 12:00 1960-06-30 12:00:00\n",
      "612                         Portland             NaN           DISK    OR   6/30/1960 20:30 1960-06-30 20:30:00\n",
      "613                              NaN             NaN           DISK    NV    7/1/1960 12:00 1960-07-01 12:00:00\n",
      "614                          Stevens             NaN          OTHER    MN    7/1/1960 12:00 1960-07-01 12:00:00\n",
      "615                         Portland             NaN            NaN    OR    7/1/1960 20:00 1960-07-01 20:00:00\n",
      "616                       New Berlin             NaN         CIRCLE    WI    7/4/1960 21:30 1960-07-04 21:30:00\n",
      "617                       Springdale             NaN      FORMATION    AR    7/7/1960 22:00 1960-07-07 22:00:00\n",
      "618                         La Verne   ORANGE YELLOW         CIRCLE    CA    7/15/1960 1:00 1960-07-15 01:00:00\n",
      "619            Pacific Coast Highway             NaN            NaN    CA   7/15/1960 10:00 1960-07-15 10:00:00\n",
      "620                        Goldsboro             NaN         SPHERE    NC   7/15/1960 16:00 1960-07-15 16:00:00\n",
      "621                         Amarillo             NaN        DIAMOND    TX   7/15/1960 21:00 1960-07-15 21:00:00\n",
      "622                           Upland             NaN         CIRCLE    CA   7/30/1960 21:00 1960-07-30 21:00:00\n",
      "623                        Allentown             NaN       CYLINDER    PA    8/1/1960 12:00 1960-08-01 12:00:00\n",
      "624                        Taftville             NaN           DISK    CT    8/1/1960 15:00 1960-08-01 15:00:00\n",
      "625                           Boston             NaN           DISK    MA    8/1/1960 18:00 1960-08-01 18:00:00\n",
      "626                         Carteret             NaN          CIGAR    NJ    8/1/1960 18:00 1960-08-01 18:00:00\n",
      "627                          Crystal             NaN         CIRCLE    WI    8/1/1960 23:00 1960-08-01 23:00:00\n",
      "628                         Cherokee             NaN       FIREBALL    NC    8/2/1960 23:00 1960-08-02 23:00:00\n",
      "629                          Belmont             NaN         CIRCLE    NY    8/10/1960 1:00 1960-08-10 01:00:00\n",
      "630                         Watchung             RED          CIGAR    NJ   8/10/1960 18:00 1960-08-10 18:00:00\n",
      "631                       Cottonwood             NaN            NaN    WA   8/13/1960 19:00 1960-08-13 19:00:00\n",
      "632                           Saugus             NaN         CIRCLE    MA   8/15/1960 15:00 1960-08-15 15:00:00\n",
      "633                       Framingham             NaN           OVAL    MA   8/15/1960 16:00 1960-08-15 16:00:00\n",
      "634                       Long Beach             NaN          OTHER    CA   8/17/1960 21:10 1960-08-17 21:10:00\n",
      "635                       Pittsburgh             NaN         SPHERE    PA   8/20/1960 21:30 1960-08-20 21:30:00\n",
      "636                        Dickinson             NaN         CIRCLE    ND   8/28/1960 21:00 1960-08-28 21:00:00\n",
      "637                          Buffalo             NaN           OVAL    NY    9/5/1960 21:00 1960-09-05 21:00:00\n",
      "638                          Wichita             NaN           OVAL    KS   9/10/1960 10:00 1960-09-10 10:00:00\n",
      "639                        Kingsport          ORANGE         CIRCLE    TN   9/15/1960 19:00 1960-09-15 19:00:00\n",
      "640                          Seattle             NaN           DISK    WA   9/15/1960 20:30 1960-09-15 20:30:00\n",
      "641                       Susanville             NaN            NaN    CA   9/15/1960 21:00 1960-09-15 21:00:00\n",
      "642                          Kaneohe             NaN          LIGHT    HI  10/10/1960 20:00 1960-10-10 20:00:00\n",
      "643                       Burnsville             NaN            NaN    MN   10/18/1960 0:00 1960-10-18 00:00:00\n",
      "644                         Westbury             NaN           DISK    NY   11/2/1960 18:00 1960-11-02 18:00:00\n",
      "645                           Sumner             NaN         SPHERE    WA   11/11/1960 2:00 1960-11-11 02:00:00\n",
      "646                      Kansas City             NaN            NaN    KS  11/15/1960 22:00 1960-11-15 22:00:00\n",
      "\n",
      "[529 rows x 6 columns]\n"
     ]
    }
   ],
   "source": [
    "import pandas as pd\n",
    "df = pd.read_csv(r'ufo.csv')\n",
    "df['Date_time'] = df['Time'].astype('datetime64[ns]')\n",
    "print(\"Original Dataframe:\")\n",
    "print(df.head())\n",
    "print(\"\\nSighting days of the unidentified flying object (ufo) between 1949-10-10 and 1960-10-10:\")\n",
    "selected_period = df[(df['Date_time'] >= '1950-01-01 00:00:00') & (df['Date_time'] <= '1960-12-31 23:59:59')]\n",
    "print(selected_period)"
   ]
  },
  {
   "cell_type": "markdown",
   "metadata": {},
   "source": [
    "Q132. Write a Pandas program to extract the year, month, day, hour, minute, second, and weekday from unidentified flying object (UFO) reporting date."
   ]
  },
  {
   "cell_type": "code",
   "execution_count": 109,
   "metadata": {},
   "outputs": [
    {
     "name": "stdout",
     "output_type": "stream",
     "text": [
      "Original Dataframe:\n",
      "                   City Colors Reported Shape Reported State             Time           Date_time\n",
      "0                Ithaca             NaN       TRIANGLE    NY   6/1/1930 22:00 1930-06-01 22:00:00\n",
      "1           Willingboro             NaN          OTHER    NJ  6/30/1930 20:00 1930-06-30 20:00:00\n",
      "2               Holyoke             NaN           OVAL    CO  2/15/1931 14:00 1931-02-15 14:00:00\n",
      "3               Abilene             NaN           DISK    KS   6/1/1931 13:00 1931-06-01 13:00:00\n",
      "4  New York Worlds Fair             NaN          LIGHT    NY  4/18/1933 19:00 1933-04-18 19:00:00\n",
      "\n",
      "Year:\n",
      "0    1930\n",
      "1    1930\n",
      "2    1931\n",
      "3    1931\n",
      "4    1933\n",
      "Name: Date_time, dtype: int64\n",
      "\n",
      "Month:\n",
      "0    6\n",
      "1    6\n",
      "2    2\n",
      "3    6\n",
      "4    4\n",
      "Name: Date_time, dtype: int64\n",
      "\n",
      "Day:\n",
      "0     1\n",
      "1    30\n",
      "2    15\n",
      "3     1\n",
      "4    18\n",
      "Name: Date_time, dtype: int64\n",
      "\n",
      "Hour:\n",
      "0    22\n",
      "1    20\n",
      "2    14\n",
      "3    13\n",
      "4    19\n",
      "Name: Date_time, dtype: int64\n",
      "\n",
      "Minute:\n",
      "0    0\n",
      "1    0\n",
      "2    0\n",
      "3    0\n",
      "4    0\n",
      "Name: Date_time, dtype: int64\n",
      "\n",
      "Second:\n",
      "0    0\n",
      "1    0\n",
      "2    0\n",
      "3    0\n",
      "4    0\n",
      "Name: Date_time, dtype: int64\n",
      "\n",
      "Weekday:\n",
      "0     Sunday\n",
      "1     Monday\n",
      "2     Sunday\n",
      "3     Monday\n",
      "4    Tuesday\n",
      "Name: Date_time, dtype: object\n"
     ]
    }
   ],
   "source": [
    "import pandas as pd\n",
    "df = pd.read_csv(r'ufo.csv')\n",
    "df['Date_time'] = df['Time'].astype('datetime64[ns]')\n",
    "print(\"Original Dataframe:\")\n",
    "print(df.head())\n",
    "print(\"\\nYear:\")\n",
    "print(df.Date_time.dt.year.head())\n",
    "print(\"\\nMonth:\")\n",
    "print(df.Date_time.dt.month.head())\n",
    "print(\"\\nDay:\")\n",
    "print(df.Date_time.dt.day.head())\n",
    "print(\"\\nHour:\")\n",
    "print(df.Date_time.dt.hour.head())\n",
    "print(\"\\nMinute:\")\n",
    "print(df.Date_time.dt.minute.head())\n",
    "print(\"\\nSecond:\")\n",
    "print(df.Date_time.dt.second.head())\n",
    "print(\"\\nWeekday:\")\n",
    "print(df.Date_time.dt.weekday_name.head())"
   ]
  },
  {
   "cell_type": "markdown",
   "metadata": {},
   "source": [
    "Q133. Write a pandas program to count year-country wise frequency of reporting dates of the unidentified flying object(UFO)."
   ]
  },
  {
   "cell_type": "code",
   "execution_count": 116,
   "metadata": {},
   "outputs": [
    {
     "name": "stdout",
     "output_type": "stream",
     "text": [
      "Original Dataframe:\n",
      "            Date_time                  city state/province country UFO_shape  length_of_encounter_seconds described_duration_of_encounter                                        description date_documented   latitude   longitude\n",
      "0 1949-10-10 20:30:00            san marcos             tx      us  cylinder                         2700                      45 minutes  This event took place in early fall around 194...       4/27/2004  29.883056  -97.941111\n",
      "1 1949-10-10 21:00:00          lackland afb             tx     NaN     light                         7200                         1-2 hrs  1949 Lackland AFB&#44 TX.  Lights racing acros...      12/16/2005  29.384210  -98.581082\n",
      "2 1955-10-10 17:00:00  chester (uk/england)            NaN      gb    circle                           20                      20 seconds  Green/Orange circular disc over Chester&#44 En...       1/21/2008  53.200000   -2.916667\n",
      "3 1956-10-10 21:00:00                  edna             tx      us    circle                           20                        1/2 hour  My older brother and twin sister were leaving ...       1/17/2004  28.978333  -96.645833\n",
      "4 1960-10-10 20:00:00               kaneohe             hi      us     light                          900                      15 minutes  AS a Marine 1st Lt. flying an FJ4B fighter/att...       1/22/2004  21.418056 -157.803611\n",
      "\n",
      "Country-year wise frequency of reporting dates of UFO:\n",
      "Year  country\n",
      "1949  us          1\n",
      "1955  gb          1\n",
      "1956  us          1\n",
      "1960  us          1\n",
      "1961  us          1\n",
      "1965  gb          1\n",
      "      us          1\n",
      "1966  us          2\n",
      "1968  us          2\n",
      "1970  us          2\n",
      "1971  us          1\n",
      "1972  us          2\n",
      "1973  us          1\n",
      "1974  gb          1\n",
      "      us          2\n",
      "1975  us          1\n",
      "1976  gb          1\n",
      "      us          1\n",
      "1977  us          2\n",
      "1978  us          1\n",
      "1979  us          3\n",
      "1980  us          3\n",
      "1984  us          3\n",
      "1985  gb          1\n",
      "1988  us          4\n",
      "1989  us          2\n",
      "1990  us          1\n",
      "1991  us          2\n",
      "1992  us          4\n",
      "1993  us          2\n",
      "1994  ca          1\n",
      "      us          2\n",
      "1995  us          2\n",
      "1996  us          3\n",
      "1997  us          4\n",
      "1998  ca          1\n",
      "      us          8\n",
      "1999  us         10\n",
      "2000  ca          1\n",
      "      us          6\n",
      "2001  au          1\n",
      "      ca          1\n",
      "      us          6\n",
      "2002  au          1\n",
      "      ca          1\n",
      "      us          5\n",
      "2003  us          8\n",
      "2004  ca          1\n",
      "      us          1\n",
      "dtype: int64\n"
     ]
    }
   ],
   "source": [
    "import pandas as pd\n",
    "df = pd.read_csv(r'ufo.csv')\n",
    "df['Date_time'] = df['Date_time'].astype('datetime64[ns]')\n",
    "print(\"Original Dataframe:\")\n",
    "print(df.head())\n",
    "df['Year'] = df['Date_time'].apply(lambda x: \"%d\" % (x.year))\n",
    "result = df.groupby(['Year', 'country']).size()\n",
    "print(\"\\nCountry-year wise frequency of reporting dates of UFO:\")\n",
    "print(result)"
   ]
  },
  {
   "cell_type": "markdown",
   "metadata": {},
   "source": [
    "Q134. Write a pandas program to get the difference (in days) between documented date and reporting date of unidentified flying object (UFO)."
   ]
  },
  {
   "cell_type": "code",
   "execution_count": 117,
   "metadata": {},
   "outputs": [
    {
     "name": "stdout",
     "output_type": "stream",
     "text": [
      "Original Dataframe:\n",
      "            Date_time                  city state/province country UFO_shape  length_of_encounter_seconds described_duration_of_encounter                                        description date_documented   latitude   longitude\n",
      "0 1949-10-10 20:30:00            san marcos             tx      us  cylinder                         2700                      45 minutes  This event took place in early fall around 194...      2004-04-27  29.883056  -97.941111\n",
      "1 1949-10-10 21:00:00          lackland afb             tx     NaN     light                         7200                         1-2 hrs  1949 Lackland AFB&#44 TX.  Lights racing acros...      2005-12-16  29.384210  -98.581082\n",
      "2 1955-10-10 17:00:00  chester (uk/england)            NaN      gb    circle                           20                      20 seconds  Green/Orange circular disc over Chester&#44 En...      2008-01-21  53.200000   -2.916667\n",
      "3 1956-10-10 21:00:00                  edna             tx      us    circle                           20                        1/2 hour  My older brother and twin sister were leaving ...      2004-01-17  28.978333  -96.645833\n",
      "4 1960-10-10 20:00:00               kaneohe             hi      us     light                          900                      15 minutes  AS a Marine 1st Lt. flying an FJ4B fighter/att...      2004-01-22  21.418056 -157.803611\n",
      "\n",
      "Difference (in days) between documented date and reporting date of UFO:\n",
      "              Date_time                                               city state/province country  UFO_shape  length_of_encounter_seconds described_duration_of_encounter                                        description date_documented   latitude   longitude  Difference\n",
      "0   1949-10-10 20:30:00                                         san marcos             tx      us   cylinder                         2700                      45 minutes  This event took place in early fall around 194...      2004-04-27  29.883056  -97.941111       19922\n",
      "1   1949-10-10 21:00:00                                       lackland afb             tx     NaN      light                         7200                         1-2 hrs  1949 Lackland AFB&#44 TX.  Lights racing acros...      2005-12-16  29.384210  -98.581082       20520\n",
      "2   1955-10-10 17:00:00                               chester (uk/england)            NaN      gb     circle                           20                      20 seconds  Green/Orange circular disc over Chester&#44 En...      2008-01-21  53.200000   -2.916667       19095\n",
      "3   1956-10-10 21:00:00                                               edna             tx      us     circle                           20                        1/2 hour  My older brother and twin sister were leaving ...      2004-01-17  28.978333  -96.645833       17264\n",
      "4   1960-10-10 20:00:00                                            kaneohe             hi      us      light                          900                      15 minutes  AS a Marine 1st Lt. flying an FJ4B fighter/att...      2004-01-22  21.418056 -157.803611       15808\n",
      "5   1961-10-10 19:00:00                                            bristol             tn      us     sphere                          300                       5 minutes  My father is now 89 my brother 52 the girl wit...      2007-04-27  36.595000  -82.188889       16634\n",
      "6   1965-10-10 21:00:00                                 penarth (uk/wales)            NaN      gb     circle                          180                    about 3 mins  penarth uk  circle  3mins  stayed 30ft above m...      2006-02-14  51.434722   -3.180000       14736\n",
      "7   1965-10-10 23:45:00                                            norwalk             ct      us       disk                         1200                      20 minutes  A bright orange color changing to reddish colo...      1999-10-02  41.117500  -73.408333       12409\n",
      "8   1966-10-10 20:00:00                                          pell city             al      us       disk                          180                      3  minutes  Strobe Lighted disk shape object observed clos...      2009-03-19  33.586111  -86.286111       15500\n",
      "9   1966-10-10 21:00:00                                           live oak             fl      us       disk                          120                 several minutes  Saucer zaps energy from powerline as my pregna...      2005-05-11  30.294722  -82.984167       14092\n",
      "10  1968-10-10 13:00:00                                          hawthorne             ca      us     circle                          300                          5 min.  ROUND &#44 ORANGE &#44 WITH WHAT I WOULD SAY W...      2003-10-31  33.916389 -118.351667       12803\n",
      "11  1968-10-10 19:00:00                                            brevard             nc      us   fireball                          180                       3 minutes  silent red /orange mass of energy floated by t...      2008-06-12  35.233333  -82.734444       14489\n",
      "12  1970-10-10 16:00:00                                           bellmore             ny      us       disk                         1800                         30 min.           silver disc seen by family and neighbors      2000-05-11  40.668611  -73.527500       10805\n",
      "13  1970-10-10 19:00:00                                         manchester             ky      us    unknown                          180                       3 minutes  Slow moving&#44 silent craft accelerated at an...      2008-02-14  37.153611  -83.761944       13640\n",
      "14  1971-10-10 21:00:00                                          lexington             nc      us       oval                           30                      30 seconds  green oval shaped light over my local church&#...      2010-02-14  35.823889  -80.253611       14006\n",
      "15  1972-10-10 19:00:00                                      harlan county             ky      us     circle                         1200                       20minutes  On october 10&#44 1972 myself&#44my 5yrs.daugh...      2005-09-15  36.843056  -83.321944       12027\n",
      "16  1972-10-10 22:30:00                                    west bloomfield             mi      us       disk                          120                       2 minutes  The UFO was so close&#44 my battery in the car...      2007-08-14  42.537778  -83.233056       12725\n",
      "17  1973-10-10 19:00:00                                            niantic             ct      us       disk                         1800                       20-30 min  Oh&#44 what a night &#33  Two (2) saucer-shape...      2003-09-24  41.325278  -72.193611       10940\n",
      "18  1973-10-10 23:00:00                                        bermuda nas            NaN     NaN      light                           20                         20 sec.  saw fast moving blip on the radar scope thin w...      2002-01-11  32.364167  -64.678611       10319\n",
      "19  1974-10-10 19:30:00                                             hudson             ma      us      other                         2700                      45 minutes  Not sure of the eact month or year of this sig...      1999-08-10  42.391667  -71.566667        9069\n",
      "20  1974-10-10 21:30:00                                 cardiff (uk/wales)            NaN      gb       disk                         1200                      20 minutes  back in 1974 I was 19 at the time and  lived i...      2007-02-01  51.500000   -3.200000       11801\n",
      "21  1974-10-10 23:00:00                                             hudson             ks      us      light                         1200                       one hour?                               The light chased us.      2004-07-25  38.105556  -98.659722       10880\n",
      "22  1975-10-10 17:00:00                                   north charleston             sc      us      light                          360                     5-6 minutes  Several Flashing UFO lights over Charleston Na...      2008-02-14  32.854444  -79.975000       11814\n",
      "23  1976-10-10 20:30:00                                          washougal             wa      us       oval                           60                        1 minute  Three extremely large lights hanging above nea...      2014-02-07  45.582778 -122.352222       13633\n",
      "24  1976-10-10 22:00:00                      stoke mandeville (uk/england)            NaN      gb      cigar                            3                       3 seconds              White object over Buckinghamshire UK.      2009-12-12  51.783333   -0.783333       12115\n",
      "25  1977-10-10 12:00:00                                        san antonio             tx      us      other                           30                      30 seconds  i was about six or seven and my family and me ...      2005-02-24  29.423889  -98.493333        9998\n",
      "26  1977-10-10 22:00:00                                         louisville             ky      us      light                           30              approx: 30 seconds  HBCCUFO CANADIAN REPORT:  Pilot Sighting Of Un...      2004-03-17  38.254167  -85.759444        9654\n",
      "27  1978-10-10 02:00:00                                             elmont             ny      us  rectangle                          300                            5min  A memory I will never forget that happened men...      2007-02-01  40.700833  -73.713333       10340\n",
      "28  1979-10-10 00:00:00                                       poughkeepsie             ny      us    chevron                          900                      15 minutes  1/4 moon-like&#44  its &#39chord&#39 or flat s...      2005-04-16  41.700278  -73.921389        9320\n",
      "29  1979-10-10 22:00:00                               saddle lake (canada)             ab     NaN   triangle                          270                4.5 or more min.  Lights far above&#44  that glance; then flee f...      2005-01-19  53.970571 -111.689885        9232\n",
      "30  1979-10-10 22:00:00                                          san diego             ca      us       oval                          180                       3 minutes               My 2nd UFO sighting&#44 October 1979      2001-08-05  32.715278 -117.156389        7969\n",
      "31  1979-10-10 22:00:00                                           security             co      us    unknown                         1800                         30mins.  very low clouds all different colors&#44search...      1999-01-28  38.758333 -104.742500        7049\n",
      "32  1980-10-10 19:00:00                                            houston             tx      us     sphere                          180                           3 min  Sphere&#44 No lights&#44  moving through neigh...      2005-04-16  29.763056  -95.363056        8953\n",
      "33  1980-10-10 22:00:00                                             dallas             tx      us    unknown                          300                       5 minutes  Strange shape shifting craft of pure light ene...      2002-10-28  32.783333  -96.800000        8052\n",
      "34  1980-10-10 23:30:00                                         manchester             nh      us      light                          300                      3 to 5 min       A red glowing sphere stopped and watched me.      2010-11-21  42.995556  -71.455278       10998\n",
      "35  1982-10-10 07:00:00                             gisborne (new zealand)            NaN     NaN       disk                          120                            2min        gisborne nz 1982 wainui beach to sponge bay      2002-01-11 -38.662334  178.017649        7032\n",
      "36  1984-10-10 05:00:00                                            houston             tx      us     circle                           60                        1 minute                           2 experience with unkown      2012-04-18  29.763056  -95.363056       10051\n",
      "37  1984-10-10 12:00:00                                      traverse city             mi      us      other                          120                  couple minutes        translucent football seen over city airport      2003-10-07  44.763056  -85.620556        6935\n",
      "38  1984-10-10 22:00:00                                       white plains             ny      us  formation                           20                   15-20 seconds  Saw a hugh object in sky with lights intermitt...      1999-08-10  41.033889  -73.763333        5416\n",
      "39  1985-10-10 20:25:00                                 leeds (uk/england)            NaN      gb   triangle                          600                           10min  three light in the sky that led to a big black...      2003-03-04  53.800000   -1.583333        6353\n",
      "40  1986-10-10 20:00:00                                     holmes/pawling             ny     NaN    chevron                          180                       3 minutes  Football Field Sized Chevron with bright white...      2007-10-08  41.523427  -73.646795        7667\n",
      "41  1988-10-10 18:00:00                                          milwaukee             wi      us   triangle                          600                      10 minutes  A silent black triangular object with no light...      2007-08-07  43.038889  -87.906389        6874\n",
      "42  1988-10-10 21:00:00                                     new gloucester             me      us    unknown                          120                     few minutes   I&#39m still afraid to look at the sky at night.      2009-01-10  43.962778  -70.283056        7396\n",
      "43  1988-10-10 22:00:00                                            boulder             co      us      light                           60                        1 minute  Three Stars Begin to Move Randomly&#44 Stop&#4...      2006-07-16  40.015000 -105.270000        6487\n",
      "44  1988-10-10 22:45:00                             seattle (ballard area)             wa      us    unknown                            2                          2 sec.  Two adult witnesses are stunned by the sound o...      2004-04-27  47.606389 -122.330833        5677\n",
      "45  1989-10-10 00:00:00                                          calabasas             ca      us       disk                          300                    approx 5 min         Unidentified object on Mulholland Highway.      2004-12-14  34.157778 -118.637500        5544\n",
      "46  1989-10-10 21:00:00                                          centralia             wa      us   triangle                           60                        1 minute  A huge triangularly shaped silent object that ...      2004-04-27  46.716389 -122.953056        5312\n",
      "47  1989-10-10 21:00:00                                           kranklin             ky     NaN   triangle                          180                            3min        Triangle seen in franklin Ky - october 1989      2005-05-11  36.722263  -86.577218        5691\n",
      "48  1990-10-10 21:00:00                                            ashburn             ga      us   triangle                          120                       2 minutes  Translucent Craft that makes No Sound While Mo...      2007-10-08  31.705833  -83.653333        6206\n",
      "49  1991-10-10 22:00:00                                             frisco             nc      us    unknown                         1800                      30 minutes  A friend and myself were standing on the shore...      1999-01-28  35.235000  -75.628889        2666\n",
      "50  1991-10-10 22:00:00                                         harrisburg             pa      us   triangle                          600                      10 minutes  We observed 3 triangular shaped high speed obj...      2003-05-09  40.273611  -76.884722        4228\n",
      "51  1992-10-10 17:00:00                                        panama city             fl      us  formation                         3600                       1 hour(?)  During a road trip to Panama City a friend and...      1999-01-28  30.158611  -85.660278        2300\n",
      "52  1992-10-10 18:00:00                                           stafford             tx      us    unknown                           10                      10 seconds  A man emerges from a beam of light that shines...      2012-04-18  29.615833  -95.557500        7129\n",
      "53  1992-10-10 20:15:00                                            seymour             tn      us      cigar                           60                       1min. 39s  Stationary Elongated UFO 200ft above vacant fi...      2008-10-31  35.890556  -83.724722        5864\n",
      "54  1992-10-10 22:00:00                                        weatherford             tx      us    unknown                           30                      30 seconds  Black or dark grey.  Too big&#44 too low&#44 t...      2005-09-02  32.759167  -97.796944        4709\n",
      "55  1993-10-10 03:00:00                                  zlatoust (russia)            NaN     NaN     sphere                         1200                      20 minutes  I woke up at night and looked out the window n...      2004-12-14  55.183333   59.650000        4082\n",
      "56  1993-10-10 22:00:00                                             peoria             il      us      light                            8                       8 seconds  Light over Peoria&#44 IL that moves slowly&#44...      2005-10-11  40.693611  -89.588889        4383\n",
      "57  1993-10-10 23:00:00                                           carthage             tn      us      other                           60                 less than 1 min                 1 object with green and red lights      2003-03-21  36.252222  -85.951667        3448\n",
      "58  1994-10-10 15:00:00                                          mercedies             tx     NaN      cigar                         3600                          1 hour  ufo chased by fighter jet over Rio Grande Vall...      2011-12-12  26.149798  -97.913611        6271\n",
      "59  1994-10-10 18:30:00                                        burnt hills             ny      us  rectangle                          120                       2 minutes  Giant rectangular craft (resembling an upside-...      2013-10-23  42.909722  -73.895556        6952\n",
      "60  1994-10-10 22:00:00                                         pinebergen             ar      us      light                            5                       5 seconds  Round&#44 bright&#44 low flying object silentl...      2001-02-18  34.102778  -91.992222        2322\n",
      "61  1994-10-10 23:00:00            toronto (greater toronto area) (canada)             on      ca     sphere                         3600                         ~1 hour                                 Large rusty sphere      2013-07-03  43.666667  -79.416667        6840\n",
      "62  1995-10-10 19:45:00                                          milwaukee             wi      us        NaN                          120                          2 min.  Man  on Hwy 43 SW of Milwaukee sees large&#44 ...      1999-11-02  43.038889  -87.906389        1483\n",
      "63  1995-10-10 22:40:00                                            oakland             ca      us        NaN                           60                        1 minute  Woman repts.  bright light in NW sky&#44 sudde...      1999-11-02  37.804444 -122.269722        1483\n",
      "64  1996-10-10 03:20:00                                       higginsville             mo      us   triangle                            3                            3sec  illuminated triangular craft&#44 flying at hig...      2000-02-16  39.072500  -93.716944        1223\n",
      "65  1996-10-10 20:00:00                 lake macquarie (nsw&#44 australia)            NaN     NaN      light                          300                           5 min  RED LIGHT WITH OTHER RED FLASHING LIGHT&#44 ON...      1999-05-24 -33.093373  151.588982         955\n",
      "66  1996-10-10 22:00:00                                         charleston             sc      us      light                          300                           5 min            Flashing object above Charleston&#44 SC      2003-11-26  32.776389  -79.931111        2602\n",
      "67  1996-10-10 22:30:00                                      monroe county             oh      us   cylinder                           60                        1 minute           Looked like it went through the hillside      2004-07-08  39.440278  -84.362222        2827\n",
      "68  1997-10-10 16:00:00                                       connersville             in      us      delta                        14400                         4 hours  3 differants types &#44 cluster &#44delta &#44...      1999-01-28  39.641111  -85.141111         474\n",
      "69  1997-10-10 17:00:00                                               mesa             az      us     sphere                           30                      30 seconds  A small dark purple quad-thruster craft hoveri...      2008-02-14  33.422222 -111.821944        3778\n",
      "70  1997-10-10 20:00:00                                            bonaire             ga      us   triangle                          300                      <5 minutes      Triangular Object Sighted at Very Close Range      2007-02-01  32.543611  -83.596111        3400\n",
      "71  1997-10-10 21:00:00                                             austin             mn      us      other                         3600                          1-hour  i was traveling northbound on state highway 10...      1999-01-28  43.666667  -92.974444         474\n",
      "72  1998-10-10 02:30:00                                          hollywood             ca      us   changing                          300                       5 minutes  I was standing outside on Sunset Blvd. at Vine...      1998-11-01  34.098333 -118.325833          21\n",
      "73  1998-10-10 03:30:00                               phoenix (north part)             az      us   fireball                           15                    10 to 15 sec  bright green moving north to north east. it wa...      1999-02-16  33.448333 -112.073333         128\n",
      "74  1998-10-10 13:15:00                                              elgin             il      us   cylinder                         1800                      30 +/- min  While looking up at sky I noticed a bright lig...      1998-11-01  42.037222  -88.281111          21\n",
      "75  1998-10-10 17:30:00                                          las vegas             nv      us      cigar                          600                      10 minutes  White&#44 vertical cigar shape floating around...      1998-11-01  36.175000 -115.136389          21\n",
      "76  1998-10-10 17:30:00                                          las vegas             nv      us     circle                         2700                          45min.              Ufo sighting in las vegas near Area51      1999-08-30  36.175000 -115.136389         323\n",
      "77  1998-10-10 20:30:00                               nyc/westchester area             ny     NaN   triangle                           60                         < 1 min                                    Lights over NYC      2006-10-30  40.935998  -73.901708        2941\n",
      "78  1998-10-10 20:30:00  spokane (about 30 miles sw of&#44i-90&#44 mayb...             wa      us   triangle                          600                      10 minutes  Dark boomerange object seen for ten minutes ho...      2001-08-05  47.658889 -117.425000        1029\n",
      "79  1998-10-10 20:50:00                                        mooresville             nc      us      light                            2                       2 seconds  Star gazing in back yard with telescope and bi...      1998-11-01  35.584722  -80.810278          21\n",
      "80  1998-10-10 22:30:00                             st. john&#39s (canada)             nf      ca        egg                         7200                         2 hours  Started off as 3 points of intense yellow ligh...      2000-12-02  47.550000  -52.666667         783\n",
      "81  1998-10-10 23:50:00                                             delano             tn      us   fireball                           15                      15 seconds  I came home from work one night and I seen a b...      2003-03-21  35.265000  -84.553333        1622\n",
      "82  1999-10-10 00:01:00                                           martinez             ca      us   changing                         3600                          1 hour  Bright objects&#44 red and green flashing ligh...      1999-10-19  38.019444 -122.133056           8\n",
      "83  1999-10-10 04:00:00                                        kansas city             ks      us    unknown                          600                       5-10 min.                           Orange object over city.      1999-10-19  39.114167  -94.627222           8\n",
      "84  1999-10-10 06:00:00                                             dallas             tx      us      other                           10                      10 seconds       group of   twinkling lights at high altitude      2001-11-20  32.783333  -96.800000         771\n",
      "85  1999-10-10 11:00:00                                          san diego             ca      us   fireball                         3600                          1 hour  At 10:45 in the morning&#44 my father and I no...      1999-10-19  32.715278 -117.156389           8\n",
      "86  1999-10-10 12:40:00                                          kennewick             wa      us     sphere                           45                         45 secs  Standing outside saying goodby to family membe...      1999-10-19  46.211389 -119.136111           8\n",
      "87  1999-10-10 20:35:00                                            hayward             ca      us     circle                           90                       60-90 sec            Many different colored glowing  objects      2001-11-20  37.668889 -122.079722         771\n",
      "88  1999-10-10 21:00:00                                             rachel             nv      us      light                        10800                         3 hours  Bright lights with incredible agility seen fro...      2005-05-24  37.644722 -115.742778        2052\n",
      "89  1999-10-10 21:30:00                                           humphrey             ne      us     sphere                          300                           5 min  Object moving erratically in sky stopped by sp...      2006-02-14  41.691667  -97.484167        2318\n",
      "90  1999-10-10 22:30:00                           casey key (north end of)             fl     NaN   triangle                          120                 several minutes  A large trianglual shaped craft flew from hori...      2002-09-19  27.150053  -82.480653        1074\n",
      "91  1999-10-10 22:30:00                                              elgin             or      us    chevron                          240                       4 minutes  Object silently traveled north -northwest. It ...      1999-10-19  45.565000 -117.916389           8\n",
      "92  1999-10-10 23:45:00                                           lewiston             mi      us       oval                         2700                      45 minutes  Oval shaped with lights all around it in a haz...      1999-10-19  44.883889  -84.305556           8\n",
      "93  2000-10-10 03:00:00                                         perryville             mo      us       oval                          180                       3 minutes  The craft was big&#44 orange&#44 and oval shaped.      2000-12-02  37.724167  -89.861111          52\n",
      "94  2000-10-10 06:15:00                                      boynton beach             fl      us      other                           10                      10 seconds  Unusual light formation moving extremely fast ...      2000-12-02  26.525000  -80.066667          52\n",
      "95  2000-10-10 07:30:00                                  victoria (canada)             bc      ca   cylinder                           30                       30seconds                              Smooth Shiny Cylinder      2000-12-02  46.216667  -63.483333          52\n",
      "96  2000-10-10 16:00:00                                             jueanu             wi     NaN   triangle                           45                      45 seconds                             5 bight light V shaped      2000-12-02  43.405550  -88.705104          52\n",
      "97  2000-10-10 20:20:00                      valley park area of st. louis             mo     NaN       oval                           15                      15 seconds  Driving on Hyw.141 at Hyw. 44 and going East&#...      2000-12-02  38.627003  -90.199404          52\n",
      "98  2000-10-10 20:30:00                                          brinktown             mo      us      light                         1800                         30 min.  3 bright golden lights moving independently ab...      2000-12-02  38.126667  -92.084444          52\n",
      "99  2000-10-10 21:30:00                                           florence             ky      us      light                            5                     4-5 seconds  Two objects traveling side by side pass over&#...      2000-12-02  38.998889  -84.626667          52\n",
      "100 2000-10-10 21:30:00                                     seattle (west)             wa      us    unknown                           10                          10 sec  Dark object in the shape of a (4) after dusk i...      2003-02-11  47.606389 -122.330833         853\n",
      "101 2000-10-10 22:00:00                                       port orchard             wa      us    diamond                           60                            1min               One night my window started to flash      2009-05-12  47.540556 -122.635000        3135\n",
      "102 2001-10-10 03:00:00                                      rockwell city             ia      us   triangle                          240                         4 min.s  Large&#44silent&#44slow&#44low to the ground d...      2002-07-01  42.395278  -94.633611         263\n",
      "103 2001-10-10 04:33:00                         sydney (nsw&#44 australia)            NaN      au  formation                          180                       3 minutes                               formation and impact      2001-11-20 -33.861481  151.205475          40\n",
      "104 2001-10-10 20:10:00                                 vancouver (canada)             bc      ca      other                          300                      +5 minutes  I observed an green object significantly above...      2011-05-12  49.250000 -123.133333        3500\n",
      "105 2001-10-10 20:35:00                                            hayward             ca      us     circle                          120                          2/min.  FALLING STAR  STOPS  &#39SHOTS OUT  DOZENS OF ...      2001-11-20  37.668889 -122.079722          40\n",
      "106 2001-10-10 21:15:00                                            ottumwa             ia      us  rectangle                          300                     3-5 minutes  We saw a square object at night&#44  which had...      2001-11-20  41.004167  -92.373611          40\n",
      "107 2001-10-10 21:30:00                                             fresno             ca      us   changing                          900                   15 min. apprx  Objects were sighted driving north on Highway ...      2001-11-20  36.747778 -119.771389          40\n",
      "108 2001-10-10 22:00:00                                            phoenix             az      us   triangle                           60              less then a minute  Triangle shaped craft spotted flying west to e...      2001-11-20  33.448333 -112.073333          40\n",
      "109 2001-10-10 23:00:00                                     virginia beach             va      us   triangle                           30                      30 seconds  shaped like a stealth bomber (boomerang like&#...      2002-07-26  36.852778  -75.978333         288\n",
      "110 2002-10-10 00:01:00                                            hayward             wi      us      flash                           43                            0:43  we saw pure a light that occasionaly split int...      2002-10-15  46.013056  -91.484444           4\n",
      "111 2002-10-10 02:00:00                                          philomath             or      us    unknown                            5                   about5seconds  i watched on the portland news that the space ...      2002-10-15  44.540278 -123.366389           4\n",
      "112 2002-10-10 04:00:00         adelaide (pt. wakefield) (south australia)            NaN      au     circle                          600                         10 mins                                 one light became 3      2002-10-28 -34.928661  138.598633          17\n",
      "113 2002-10-10 06:00:00                                            seattle             wa      us     sphere                           90                      90 seconds                               Light falls from sky      2002-10-15  47.606389 -122.330833           4\n",
      "114 2002-10-10 19:45:00                                  victoria (canada)             bc      ca    unknown                          120                2 minutes approx  bright white light with black outline around i...      2002-10-15  46.216667  -63.483333           4\n",
      "115 2002-10-10 20:30:00                                         cincinnati             oh      us      other                         1800                      30 minutes  Large octagon blue lights on rim red center li...      2002-10-15  39.161944  -84.456944           4\n",
      "116 2002-10-10 21:00:00                                           portland             or      us     circle                          120                            2min                         The LIGHT is the TRUTH&#33      2005-12-16  45.523611 -122.675000        1162\n",
      "117 2003-10-10 09:00:00                                        new buffulo             mi     NaN      light                          120                        2 minute  Craft that suddenly vanishes and another one t...      2005-05-24  41.793930  -86.743915         591\n",
      "118 2003-10-10 12:00:00                                           alhambra             ca      us       oval                          300                           5 min  3 Black ovals in the sky and a floating movie ...      2004-01-17  34.095278 -118.126111          98\n",
      "119 2003-10-10 18:00:00                                       indianapolis             in      us     sphere                         1800                      30 minutes  Sphere shape object with flashing bright white...      2003-10-15  39.768333  -86.158056           4\n",
      "120 2003-10-10 19:15:00                                        centreville             va      us      other                          600                      10 minutes  Aliens check out local high school football game.      2003-10-15  38.840278  -77.429167           4\n",
      "121 2003-10-10 20:05:00                                         grand view             id      us      light                           15                   12-15 seconds                    Bright light above Mt. Home AFB      2003-10-15  42.989722 -116.092500           4\n",
      "122 2003-10-10 20:25:00                                         temperance             mi      us       oval                        18000                    over 5 hours  pulsating green white and red object in the no...      2003-10-31  41.779167  -83.568889          20\n",
      "123 2003-10-10 21:10:00                                     crescent beach             sc      us  formation                        37800                       1 1/2 hr.  For two consecutive nights&#44 we watched a pa...      2004-01-17  33.807500  -78.701111          98\n",
      "124 2003-10-10 22:00:00                                        albuquerque             nm      us      light                          180                       3 minutes  Three bright lights that were huddled together...      2007-02-01  35.084444 -106.650556        1209\n",
      "125 2003-10-10 23:00:00             bickerton (near wetherby) (uk/england)            NaN     NaN    unknown                         2700                       45minutes  two bright&#44 but fuzzy lights going in a hov...      2003-10-15  53.070884   -2.736506           4\n",
      "126 2003-10-10 23:25:00                                            gleason             wi      us     sphere                         1800                           30min             UFO Contact&#44 Amazing close sighting      2005-09-02  45.308889  -89.496389         692\n",
      "127 2004-10-10 02:50:00                                             mahwah             nj      us   triangle                          180                   2 - 3 minutes  Triangle shaped flying&#44 hovering U.F.O. wit...      2011-12-12  41.088611  -74.144167        2618\n",
      "128 2004-10-10 03:30:00                             worthington st. forest             nj     NaN      other                         2700                          45 min  witnessed a large object and an intense red li...      2004-10-27  40.058324  -74.405661          16\n",
      "129 2004-10-10 03:50:00                        portage la prairie (canada)             mb      ca   changing                         1200                       20minutes  Series of Green Blue Red White lights spherica...      2004-10-27  49.966667  -98.300000          16\n"
     ]
    }
   ],
   "source": [
    "import pandas as pd\n",
    "df = pd.read_csv(r'ufo.csv')\n",
    "df['Date_time'] = df['Date_time'].astype('datetime64[ns]')\n",
    "df['date_documented'] = df['date_documented'].astype('datetime64[ns]')\n",
    "print(\"Original Dataframe:\")\n",
    "print(df.head())\n",
    "print(\"\\nDifference (in days) between documented date and reporting date of UFO:\")\n",
    "df['Difference'] = (df['date_documented'] - df['Date_time']).dt.days\n",
    "print(df)"
   ]
  },
  {
   "cell_type": "markdown",
   "metadata": {},
   "source": [
    "Q135. Write a pandas program to generate sequences of fixed- frequency dates and time spans."
   ]
  },
  {
   "cell_type": "code",
   "execution_count": 118,
   "metadata": {},
   "outputs": [
    {
     "name": "stdout",
     "output_type": "stream",
     "text": [
      "Hourly frequency:\n",
      "DatetimeIndex(['2018-01-01 00:00:00', '2018-01-01 01:00:00', '2018-01-01 02:00:00', '2018-01-01 03:00:00', '2018-01-01 04:00:00', '2018-01-01 05:00:00', '2018-01-01 06:00:00', '2018-01-01 07:00:00', '2018-01-01 08:00:00', '2018-01-01 09:00:00', '2018-01-01 10:00:00', '2018-01-01 11:00:00'], dtype='datetime64[ns]', freq='H')\n",
      "\n",
      "Minutely frequency:\n",
      "DatetimeIndex(['2018-01-01 00:00:00', '2018-01-01 00:01:00', '2018-01-01 00:02:00', '2018-01-01 00:03:00', '2018-01-01 00:04:00', '2018-01-01 00:05:00', '2018-01-01 00:06:00', '2018-01-01 00:07:00', '2018-01-01 00:08:00', '2018-01-01 00:09:00', '2018-01-01 00:10:00', '2018-01-01 00:11:00'], dtype='datetime64[ns]', freq='T')\n",
      "\n",
      "Secondly frequency:\n",
      "DatetimeIndex(['2018-01-01 00:00:00', '2018-01-01 00:00:01', '2018-01-01 00:00:02', '2018-01-01 00:00:03', '2018-01-01 00:00:04', '2018-01-01 00:00:05', '2018-01-01 00:00:06', '2018-01-01 00:00:07', '2018-01-01 00:00:08', '2018-01-01 00:00:09', '2018-01-01 00:00:10', '2018-01-01 00:00:11'], dtype='datetime64[ns]', freq='S')\n",
      "nMultiple Hourly frequency:\n",
      "DatetimeIndex(['2018-01-01 00:00:00', '2018-01-01 02:00:00', '2018-01-01 04:00:00', '2018-01-01 06:00:00', '2018-01-01 08:00:00', '2018-01-01 10:00:00', '2018-01-01 12:00:00', '2018-01-01 14:00:00', '2018-01-01 16:00:00', '2018-01-01 18:00:00', '2018-01-01 20:00:00', '2018-01-01 22:00:00'], dtype='datetime64[ns]', freq='2H')\n",
      "\n",
      "Multiple Minutely frequency:\n",
      "DatetimeIndex(['2018-01-01 00:00:00', '2018-01-01 00:05:00', '2018-01-01 00:10:00', '2018-01-01 00:15:00', '2018-01-01 00:20:00', '2018-01-01 00:25:00', '2018-01-01 00:30:00', '2018-01-01 00:35:00', '2018-01-01 00:40:00', '2018-01-01 00:45:00', '2018-01-01 00:50:00', '2018-01-01 00:55:00'], dtype='datetime64[ns]', freq='5T')\n",
      "\n",
      "Multiple Secondly frequency:\n",
      "DatetimeIndex(['2018-03-30', '2018-06-29', '2018-09-28', '2018-12-31', '2019-03-29', '2019-06-28', '2019-09-30', '2019-12-31', '2020-03-31', '2020-06-30', '2020-09-30', '2020-12-31'], dtype='datetime64[ns]', freq='BQ-DEC')\n",
      "\n",
      "Weekly frequency:\n",
      "DatetimeIndex(['2018-01-07', '2018-01-14', '2018-01-21', '2018-01-28', '2018-02-04', '2018-02-11', '2018-02-18', '2018-02-25', '2018-03-04', '2018-03-11', '2018-03-18', '2018-03-25'], dtype='datetime64[ns]', freq='W-SUN')\n",
      "\n",
      "Combine together day and intraday offsets-1:\n",
      "DatetimeIndex(['2018-01-01 00:00:00', '2018-01-01 02:20:00', '2018-01-01 04:40:00', '2018-01-01 07:00:00', '2018-01-01 09:20:00', '2018-01-01 11:40:00', '2018-01-01 14:00:00', '2018-01-01 16:20:00', '2018-01-01 18:40:00', '2018-01-01 21:00:00', '2018-01-01 23:20:00', '2018-01-02 01:40:00'], dtype='datetime64[ns]', freq='140T')\n",
      "\n",
      "Combine together day and intraday offsets-2:\n",
      "DatetimeIndex(['2018-01-01 00:00:00', '2018-01-02 00:00:00.000010', '2018-01-03 00:00:00.000020', '2018-01-04 00:00:00.000030', '2018-01-05 00:00:00.000040', '2018-01-06 00:00:00.000050', '2018-01-07 00:00:00.000060', '2018-01-08 00:00:00.000070', '2018-01-09 00:00:00.000080', '2018-01-10 00:00:00.000090', '2018-01-11 00:00:00.000100', '2018-01-12 00:00:00.000110'], dtype='datetime64[ns]', freq='86400000010U')\n"
     ]
    }
   ],
   "source": [
    "import pandas as pd\n",
    "dtr = pd.date_range('2018-01-01', periods=12, freq='H')\n",
    "print(\"Hourly frequency:\")\n",
    "print(dtr)\n",
    "dtr = pd.date_range('2018-01-01', periods=12, freq='min')\n",
    "print(\"\\nMinutely frequency:\")\n",
    "print(dtr)\n",
    "dtr = pd.date_range('2018-01-01', periods=12, freq='S')\n",
    "print(\"\\nSecondly frequency:\")\n",
    "print(dtr)\n",
    "dtr = pd.date_range('2018-01-01', periods=12, freq='2H')\n",
    "print(\"nMultiple Hourly frequency:\")\n",
    "print(dtr)\n",
    "dtr = pd.date_range('2018-01-01', periods=12, freq='5min')\n",
    "print(\"\\nMultiple Minutely frequency:\")\n",
    "print(dtr)\n",
    "dtr = pd.date_range('2018-01-01', periods=12, freq='BQ')\n",
    "print(\"\\nMultiple Secondly frequency:\")\n",
    "print(dtr)\n",
    "dtr = pd.date_range('2018-01-01', periods=12, freq='w')\n",
    "print(\"\\nWeekly frequency:\")\n",
    "print(dtr)\n",
    "dtr = pd.date_range('2018-01-01', periods=12, freq='2h20min')\n",
    "print(\"\\nCombine together day and intraday offsets-1:\")\n",
    "print(dtr)\n",
    "dtr = pd.date_range('2018-01-01', periods=12, freq='1D10U')\n",
    "print(\"\\nCombine together day and intraday offsets-2:\")\n",
    "print(dtr)"
   ]
  },
  {
   "cell_type": "markdown",
   "metadata": {},
   "source": [
    "Q136. Write a pandas program to manipulate and convert date times with timezone information."
   ]
  },
  {
   "cell_type": "code",
   "execution_count": 119,
   "metadata": {},
   "outputs": [
    {
     "name": "stdout",
     "output_type": "stream",
     "text": [
      "DatetimeIndex(['2018-01-01 00:00:00+00:00', '2018-01-01 01:00:00+00:00', '2018-01-01 02:00:00+00:00'], dtype='datetime64[ns, UTC]', freq='H')\n",
      "\n",
      "From UTC to America/Los_Angeles:\n",
      "DatetimeIndex(['2017-12-31 16:00:00-08:00', '2017-12-31 17:00:00-08:00', '2017-12-31 18:00:00-08:00'], dtype='datetime64[ns, America/Los_Angeles]', freq='H')\n"
     ]
    }
   ],
   "source": [
    "import pandas as pd\n",
    "dtt = pd.date_range('2018-01-01', periods=3, freq='H')\n",
    "dtt = dtt.tz_localize('UTC')\n",
    "print(dtt)\n",
    "print(\"\\nFrom UTC to America/Los_Angeles:\")\n",
    "dtt = dtt.tz_convert('America/Los_Angeles')\n",
    "print(dtt)"
   ]
  },
  {
   "cell_type": "markdown",
   "metadata": {},
   "source": [
    "Q137. Write a pandas program to create the graphical analysis of UFO (unidentified flying object) Sightings year."
   ]
  },
  {
   "cell_type": "code",
   "execution_count": 121,
   "metadata": {},
   "outputs": [
    {
     "data": {
      "image/png": "[encoded data removed]",
      "text/plain": [
       "<Figure size 1080x576 with 1 Axes>"
      ]
     },
     "metadata": {
      "needs_background": "light"
     },
     "output_type": "display_data"
    }
   ],
   "source": [
    "import pandas as pd\n",
    "import matplotlib.pyplot as plt\n",
    "import seaborn as sns\n",
    "df = pd.read_csv(r'ufo.csv')\n",
    "df['Date_time'] = df['Date_time'].astype('datetime64[ns]')\n",
    "df[\"ufo_yr\"] = df.Date_time.dt.year\n",
    "years_data = df.ufo_yr.value_counts()\n",
    "years_index = years_data.index  # x ticks\n",
    "years_values = years_data.get_values()\n",
    "plt.figure(figsize=(15,8))\n",
    "plt.xticks(rotation = 60)\n",
    "plt.title('UFO Sightings by Year')\n",
    "plt.xlabel(\"Year\")\n",
    "plt.ylabel(\"Number of reports\")\n",
    "years_plot = sns.barplot(x=years_index[:60],y=years_values[:60], palette = \"Reds\")"
   ]
  },
  {
   "cell_type": "markdown",
   "metadata": {},
   "source": [
    "Q138. Write a pandas program to create a comparison of the top 10 years in which the (UFO) was sighted VS each Month."
   ]
  },
  {
   "cell_type": "code",
   "execution_count": 123,
   "metadata": {},
   "outputs": [
    {
     "name": "stdout",
     "output_type": "stream",
     "text": [
      "\n",
      "Heatmap for comparison of the top 10 years in which the UFO was sighted vs each month:\n"
     ]
    },
    {
     "data": {
      "image/png": "[encoded data removed]",
      "text/plain": [
       "<Figure size 720x576 with 2 Axes>"
      ]
     },
     "metadata": {
      "needs_background": "light"
     },
     "output_type": "display_data"
    }
   ],
   "source": [
    "import pandas as pd\n",
    "import matplotlib.pyplot as plt\n",
    "import seaborn as sns\n",
    "df = pd.read_csv(r'ufo.csv')\n",
    "df['Date_time'] = df['Date_time'].astype('datetime64[ns]')\n",
    "most_sightings_years = df['Date_time'].dt.year.value_counts().head(10)\n",
    "def is_top_years(year):\n",
    "   if year in most_sightings_years.index:\n",
    "       return year\n",
    "month_vs_year = df.pivot_table(columns=df['Date_time'].dt.month,index=df['Date_time'].dt.year.apply(is_top_years),aggfunc='count',values='city')\n",
    "month_vs_year.columns = month_vs_year.columns.astype(int)\n",
    "print(\"\\nHeatmap for comparison of the top 10 years in which the UFO was sighted vs each month:\")\n",
    "plt.figure(figsize=(10,8))\n",
    "ax = sns.heatmap(month_vs_year, vmin=0, vmax=4)\n",
    "ax.set_xlabel('Month').set_size(20)\n",
    "ax.set_ylabel('Year').set_size(20)"
   ]
  },
  {
   "cell_type": "markdown",
   "metadata": {},
   "source": [
    "Q139. Write a pandas program to create a heatmap (rectangular data as a colour-encoded matrix) for comparison of top 10 years in which (UFO ) was sighted VS each Month."
   ]
  },
  {
   "cell_type": "code",
   "execution_count": 124,
   "metadata": {},
   "outputs": [
    {
     "name": "stdout",
     "output_type": "stream",
     "text": [
      "\n",
      "Heatmap for comparison of the top 10 years in which the UFO was sighted vs each month:\n"
     ]
    },
    {
     "data": {
      "image/png": "[encoded data removed]",
      "text/plain": [
       "<Figure size 720x576 with 2 Axes>"
      ]
     },
     "metadata": {
      "needs_background": "light"
     },
     "output_type": "display_data"
    }
   ],
   "source": [
    "import pandas as pd\n",
    "import matplotlib.pyplot as plt\n",
    "import seaborn as sns\n",
    "#Source: https://bit.ly/1l9yjm9\n",
    "df = pd.read_csv(r'ufo.csv')\n",
    "df['Date_time'] = df['Date_time'].astype('datetime64[ns]')\n",
    "most_sightings_years = df['Date_time'].dt.year.value_counts().head(10)\n",
    "def is_top_years(year):\n",
    "   if year in most_sightings_years.index:\n",
    "       return year\n",
    "month_vs_year = df.pivot_table(columns=df['Date_time'].dt.month,index=df['Date_time'].dt.year.apply(is_top_years),aggfunc='count',values='city')\n",
    "month_vs_year.columns = month_vs_year.columns.astype(int)\n",
    "print(\"\\nHeatmap for comparison of the top 10 years in which the UFO was sighted vs each month:\")\n",
    "plt.figure(figsize=(10,8))\n",
    "ax = sns.heatmap(month_vs_year, vmin=0, vmax=4)\n",
    "ax.set_xlabel('Month').set_size(20)\n",
    "ax.set_ylabel('Year').set_size(20)"
   ]
  },
  {
   "cell_type": "markdown",
   "metadata": {},
   "source": [
    "Q140. Write a pandas program to create a Timewheel of Hour VS Year comparison of the top 10 years in which the (UFO) was sighted."
   ]
  },
  {
   "cell_type": "code",
   "execution_count": 125,
   "metadata": {},
   "outputs": [
    {
     "name": "stdout",
     "output_type": "stream",
     "text": [
      "\n",
      "Comparison of the top 10 years in which the UFO was sighted vs each month:\n"
     ]
    },
    {
     "data": {
      "image/png": "[encoded data removed]",
      "text/plain": [
       "<Figure size 576x576 with 1 Axes>"
      ]
     },
     "metadata": {},
     "output_type": "display_data"
    }
   ],
   "source": [
    "import pandas as pd\n",
    "import matplotlib.pyplot as plt\n",
    "import matplotlib as mpl\n",
    "import matplotlib.cm as cm\n",
    "\n",
    "df = pd.read_csv(r'ufo.csv')\n",
    "df['Date_time'] = df['Date_time'].astype('datetime64[ns]')\n",
    "most_sightings_years = df['Date_time'].dt.year.value_counts().head(10)\n",
    "def is_top_years(year):\n",
    "   if year in most_sightings_years.index:\n",
    "       return year\n",
    "month_vs_year = df.pivot_table(columns=df['Date_time'].dt.month,index=df['Date_time'].dt.year.apply(is_top_years),aggfunc='count',values='city')\n",
    "month_vs_year.index = month_vs_year.index.astype(int)\n",
    "month_vs_year.columns = month_vs_year.columns.astype(int)\n",
    "print(\"\\nComparison of the top 10 years in which the UFO was sighted vs each month:\")\n",
    "def pie_heatmap(table, cmap='coolwarm_r', vmin=None, vmax=None,inner_r=0.25, pie_args={}):\n",
    "   n, m = table.shape\n",
    "   vmin= table.min().min() if vmin is None else vmin\n",
    "   vmax= table.max().max() if vmax is None else vmax\n",
    "\n",
    "   centre_circle = plt.Circle((0,0),inner_r,edgecolor='black',facecolor='white',fill=True,linewidth=0.25)\n",
    "   plt.gcf().gca().add_artist(centre_circle)\n",
    "   norm = mpl.colors.Normalize(vmin=vmin, vmax=vmax)\n",
    "   cmapper = cm.ScalarMappable(norm=norm, cmap=cmap)\n",
    "\n",
    "   for i, (row_name, row) in enumerate(table.iterrows()):\n",
    "       labels = None if i > 0 else table.columns\n",
    "       wedges = plt.pie([1] * m,radius=inner_r+float(n-i)/n, colors=[cmapper.to_rgba(x) for x in row.values],\n",
    "           labels=labels, startangle=90, counterclock=False, wedgeprops={'linewidth':-1}, **pie_args)\n",
    "       plt.setp(wedges[0], edgecolor='grey',linewidth=1.5)\n",
    "       wedges = plt.pie([1], radius=inner_r+float(n-i-1)/n, colors=['w'], labels=[row_name], startangle=-90, wedgeprops={'linewidth':0})\n",
    "       plt.setp(wedges[0], edgecolor='grey',linewidth=1.5)\n",
    "plt.figure(figsize=(8,8))\n",
    "plt.title(\"Timewheel of Hour Vs Year\",y=1.08,fontsize=30)\n",
    "pie_heatmap(month_vs_year, vmin=-20,vmax=80,inner_r=0.2)"
   ]
  },
  {
   "cell_type": "markdown",
   "metadata": {},
   "source": [
    "Q141. Write a python program to draw the line using given axis values with the suitable label in the x-axis, y-axis, and a title."
   ]
  },
  {
   "cell_type": "code",
   "execution_count": 129,
   "metadata": {},
   "outputs": [
    {
     "name": "stdout",
     "output_type": "stream",
     "text": [
      "Values of X:\n",
      "1 2\n",
      "Values of Y (thrice of X):\n",
      "[5, 10]\n"
     ]
    },
    {
     "data": {
      "image/png": "[encoded data removed]",
      "text/plain": [
       "<Figure size 432x288 with 1 Axes>"
      ]
     },
     "metadata": {
      "needs_background": "light"
     },
     "output_type": "display_data"
    }
   ],
   "source": [
    "import matplotlib.pyplot as plt\n",
    "X = range(1, 3)\n",
    "Y = [value * 5 for value in X]\n",
    "print(\"Values of X:\")\n",
    "print(*range(1,3)) \n",
    "print(\"Values of Y (thrice of X):\")\n",
    "print(Y)\n",
    "# Plot lines and/or markers to the Axes.\n",
    "plt.plot(X, Y)\n",
    "# Set the x axis label of the current axis.\n",
    "plt.xlabel('x - axis')\n",
    "# Set the y axis label of the current axis.\n",
    "plt.ylabel('y - axis')\n",
    "# Set a title \n",
    "plt.title('Draw a line.')\n",
    "# Display the figure.\n",
    "plt.show()"
   ]
  },
  {
   "cell_type": "markdown",
   "metadata": {},
   "source": [
    "Q142. Write a python program to draw the line charts of the financial data of the Alphabet Inc., between October.\n",
    "3, 2016 to October 7 2016. Sample Financial data (fdata.csv)- Date,Open,High,Low,Close 10-03-16,774.25,776.065002,769.5,772.559998 10-04-16 , 776.030029, 778.710022,772.890015,776.429993\n",
    "10-05-16 , 779.309998, 782.070007,775.650024,776.469971 10-06-16 , 779 , 780.47998,775.539978,776.859985 10-07-16,779.659973, 779.659973 , 770.75 , 775.080017 The code snippet gives the output shown in the screenshot:"
   ]
  },
  {
   "cell_type": "code",
   "execution_count": 130,
   "metadata": {},
   "outputs": [
    {
     "data": {
      "image/png": "[encoded data removed]",
      "text/plain": [
       "<Figure size 432x288 with 1 Axes>"
      ]
     },
     "metadata": {
      "needs_background": "light"
     },
     "output_type": "display_data"
    }
   ],
   "source": [
    "import matplotlib.pyplot as plt\n",
    "import pandas as pd\n",
    "df = pd.read_csv('fdata.csv', sep=',', parse_dates=True, index_col=0)\n",
    "df.plot()\n",
    "plt.show()"
   ]
  },
  {
   "cell_type": "markdown",
   "metadata": {},
   "source": [
    "Q143. Write a Python program to plot two or more lines on same plot with the suitable legends of each line."
   ]
  },
  {
   "cell_type": "code",
   "execution_count": 131,
   "metadata": {},
   "outputs": [
    {
     "data": {
      "image/png": "[encoded data removed]",
      "text/plain": [
       "<Figure size 432x288 with 1 Axes>"
      ]
     },
     "metadata": {
      "needs_background": "light"
     },
     "output_type": "display_data"
    }
   ],
   "source": [
    "import matplotlib.pyplot as plt\n",
    "# line 1 points\n",
    "x1 = [10,20,30]\n",
    "y1 = [20,40,10]\n",
    "# plotting the line 1 points \n",
    "plt.plot(x1, y1, label = \"line 1\")\n",
    "# line 2 points\n",
    "x2 = [10,20,30]\n",
    "y2 = [40,10,30]\n",
    "# plotting the line 2 points \n",
    "plt.plot(x2, y2, label = \"line 2\")\n",
    "plt.xlabel('x - axis')\n",
    "# Set the y axis label of the current axis.\n",
    "plt.ylabel('y - axis')\n",
    "# Set a title of the current axes.\n",
    "plt.title('Two or more lines on same plot with suitable legends ')\n",
    "# show a legend on the plot\n",
    "plt.legend()\n",
    "# Display a figure.\n",
    "plt.show()"
   ]
  },
  {
   "cell_type": "markdown",
   "metadata": {},
   "source": [
    "Q144. Write a python programming to display a bar chart of the popularity of programming languages.\n",
    "Sample data: programming languages- Java, Python, PHP, JavaScript, C#, C++ Popularity- 22.2, 17.6, 8.8, 8, 7.7 , 6.7 The code snippet gives the output shown in the screenshot:"
   ]
  },
  {
   "cell_type": "code",
   "execution_count": 132,
   "metadata": {},
   "outputs": [
    {
     "data": {
      "image/png": "[encoded data removed]",
      "text/plain": [
       "<Figure size 432x288 with 1 Axes>"
      ]
     },
     "metadata": {
      "needs_background": "light"
     },
     "output_type": "display_data"
    }
   ],
   "source": [
    "import matplotlib.pyplot as plt\n",
    "x = ['Java', 'Python', 'PHP', 'JavaScript', 'C#', 'C++']\n",
    "popularity = [22.2, 17.6, 8.8, 8, 7.7, 6.7]\n",
    "x_pos = [i for i, _ in enumerate(x)]\n",
    "\n",
    "plt.bar(x_pos, popularity, color=(0.4, 0.6, 0.8, 1.0), edgecolor='blue')\n",
    "\n",
    "plt.xlabel(\"Languages\")\n",
    "plt.ylabel(\"Popularity\")\n",
    "plt.title(\"PopularitY of Programming Language\\n\" + \"Worldwide, Oct 2017 compared to a year ago\")\n",
    "plt.xticks(x_pos, x)\n",
    "# Turn on the grid\n",
    "plt.minorticks_on()\n",
    "plt.grid(which='major', linestyle='-', linewidth='0.5', color='red')\n",
    "# Customize the minor grid\n",
    "plt.grid(which='minor', linestyle=':', linewidth='0.5', color='black')\n",
    "plt.show()"
   ]
  },
  {
   "cell_type": "markdown",
   "metadata": {},
   "source": [
    "Q145. Write a python programming to display a horizontal bar chart of the popularity of programming languages."
   ]
  },
  {
   "cell_type": "code",
   "execution_count": 133,
   "metadata": {},
   "outputs": [
    {
     "data": {
      "image/png": "[encoded data removed]",
      "text/plain": [
       "<Figure size 432x288 with 1 Axes>"
      ]
     },
     "metadata": {
      "needs_background": "light"
     },
     "output_type": "display_data"
    }
   ],
   "source": [
    "import matplotlib.pyplot as plt\n",
    "x = ['Java', 'Python', 'PHP', 'JS', 'C#', 'C++']\n",
    "popularity = [22.2, 17.6, 8.8, 8, 7.7, 6.7]\n",
    "x_pos = [i for i, _ in enumerate(x)]\n",
    "plt.barh(x_pos, popularity, color='green')\n",
    "plt.xlabel(\"Popularity\")\n",
    "plt.ylabel(\"Languages\")\n",
    "plt.title(\"PopularitY of Programming Language\\n\" + \"Worldwide, Oct 2017 compared to a year ago\")\n",
    "plt.yticks(x_pos, x)\n",
    "# Turn on the grid\n",
    "plt.minorticks_on()\n",
    "plt.grid(which='major', linestyle='-', linewidth='0.5', color='red')\n",
    "# Customize the minor grid\n",
    "plt.grid(which='minor', linestyle=':', linewidth='0.5', color='black')\n",
    "plt.show()"
   ]
  },
  {
   "cell_type": "markdown",
   "metadata": {},
   "source": [
    "Q146. Write a python programming to display a bar chart of the Popularity of programming languages. Increase bottom margin.\n"
   ]
  },
  {
   "cell_type": "code",
   "execution_count": 134,
   "metadata": {},
   "outputs": [
    {
     "data": {
      "image/png": "[encoded data removed]",
      "text/plain": [
       "<Figure size 432x288 with 1 Axes>"
      ]
     },
     "metadata": {
      "needs_background": "light"
     },
     "output_type": "display_data"
    }
   ],
   "source": [
    "import matplotlib.pyplot as plt\n",
    "x = ['Java', 'Python', 'PHP', 'JavaScript', 'C#', 'C++']\n",
    "popularity = [22.2, 17.6, 8.8, 8, 7.7, 6.7]\n",
    "x_pos = [i for i, _ in enumerate(x)]\n",
    "plt.bar(x_pos, popularity, color=(0.4, 0.6, 0.8, 1.0))\n",
    "plt.xlabel(\"Languages\")\n",
    "plt.ylabel(\"Popularity\")\n",
    "plt.title(\"PopularitY of Programming Language\\n\" + \"Worldwide, Oct 2017 compared to a year ago\")\n",
    "# Rotation of the bars names\n",
    "plt.xticks(x_pos, x, rotation=90)\n",
    "# Custom the subplot layout\n",
    "plt.subplots_adjust(bottom=0.4, top=.8)\n",
    "# Turn on the grid\n",
    "plt.minorticks_on()\n",
    "plt.grid(which='major', linestyle='-', linewidth='0.5', color='red')\n",
    "# Customize the minor grid\n",
    "plt.grid(which='minor', linestyle=':', linewidth='0.5', color='black')\n",
    "plt.show()"
   ]
  },
  {
   "cell_type": "markdown",
   "metadata": {},
   "source": [
    "Q147. Write a python program to create the bar plot from a DataFrame.\n",
    "a b c d e 2 4,8,5,7,6 4 2,3,4,2,6 6 4,7,4,7, 8 8 2,6,4,8, 6 10 2,4,3,3, 2"
   ]
  },
  {
   "cell_type": "code",
   "execution_count": 135,
   "metadata": {},
   "outputs": [
    {
     "data": {
      "image/png": "[encoded data removed]",
      "text/plain": [
       "<Figure size 432x288 with 1 Axes>"
      ]
     },
     "metadata": {
      "needs_background": "light"
     },
     "output_type": "display_data"
    }
   ],
   "source": [
    "from pandas import DataFrame\n",
    "import matplotlib.pyplot as plt\n",
    "import numpy as np\n",
    "\n",
    "a=np.array([[4,8,5,7,6],[2,3,4,2,6],[4,7,4,7,8],[2,6,4,8,6],[2,4,3,3,2]])\n",
    "df=DataFrame(a, columns=['a','b','c','d','e'], index=[2,4,6,8,10])\n",
    "\n",
    "df.plot(kind='bar')\n",
    "# Turn on the grid\n",
    "plt.minorticks_on()\n",
    "plt.grid(which='major', linestyle='-', linewidth='0.5', color='green')\n",
    "plt.grid(which='minor', linestyle=':', linewidth='0.5', color='black')\n",
    "\n",
    "plt.show()"
   ]
  },
  {
   "cell_type": "markdown",
   "metadata": {},
   "source": [
    "Q148. Write a python program to draw the scatter plot comparing two subject marks of Mathematics and Science. Use marks of 10 students.\n",
    "Sample data: Test Data- math_marks = [88, 92 , 80, 89, 100, 80, 60, 100, 80, 34] science_marks = [35, 79, 79 , 48, 100, 88, 32, 45, 20, 30] marks_range = [10, 20, 30, 40, 50, 60, 70, 80, 90, 100]"
   ]
  },
  {
   "cell_type": "code",
   "execution_count": 136,
   "metadata": {},
   "outputs": [
    {
     "data": {
      "image/png": "[encoded data removed]",
      "text/plain": [
       "<Figure size 432x288 with 1 Axes>"
      ]
     },
     "metadata": {
      "needs_background": "light"
     },
     "output_type": "display_data"
    }
   ],
   "source": [
    "import matplotlib.pyplot as plt\n",
    "import pandas as pd\n",
    "math_marks = [88, 92, 80, 89, 100, 80, 60, 100, 80, 34]\n",
    "science_marks = [35, 79, 79, 48, 100, 88, 32, 45, 20, 30]\n",
    "marks_range = [10, 20, 30, 40, 50, 60, 70, 80, 90, 100]\n",
    "plt.scatter(marks_range, math_marks, label='Math marks', color='r')\n",
    "plt.scatter(marks_range, science_marks, label='Science marks', color='g')\n",
    "plt.title('Scatter Plot')\n",
    "plt.xlabel('Marks Range')\n",
    "plt.ylabel('Marks Scored')\n",
    "plt.legend()\n",
    "plt.show()"
   ]
  },
  {
   "cell_type": "markdown",
   "metadata": {},
   "source": [
    "Q149. Write a python program to draw the scatter plot for three different groups comparing weights and heights."
   ]
  },
  {
   "cell_type": "code",
   "execution_count": 155,
   "metadata": {},
   "outputs": [
    {
     "data": {
      "image/png": "[encoded data removed]",
      "text/plain": [
       "<Figure size 432x288 with 1 Axes>"
      ]
     },
     "metadata": {
      "needs_background": "light"
     },
     "output_type": "display_data"
    }
   ],
   "source": [
    "import matplotlib.pyplot as plt\n",
    "import numpy as np \n",
    "weight1=[67,57.2,59.6,59.64,55.8,61.2,60.45,61,56.23,56]\n",
    "height1=[101.7,197.6,98.3,125.1,113.7,157.7,136,148.9,125.3,114.9] \n",
    "weight2=[61.9,64,62.1,64.2,62.3,65.4,62.4,61.4,62.5,63.6]\n",
    "height2=[152.8,155.3,135.1,125.2,151.3,135,182.2,195.9,165.1,125.1] \n",
    "weight3=[68.2,67.2,68.4,68.7,71,71.3,70.8,70,71.1,71.7]\n",
    "height3=[165.8,170.9,192.8,135.4,161.4,136.1,167.1,235.1,181.1,177.3]\n",
    "weight=np.concatenate((weight1,weight2,weight3))\n",
    "height=np.concatenate((height1,height2,height3))\n",
    "plt.scatter(weight, height, marker='*')\n",
    "plt.xlabel('weight', fontsize=30)\n",
    "plt.ylabel('height', fontsize=30)\n",
    "plt.title('Group wise Weight vs Height scatter plot',fontsize=30)\n",
    "plt.show()"
   ]
  },
  {
   "cell_type": "markdown",
   "metadata": {},
   "source": [
    "Q150. Write a python program to draw a scatter plot to find sea-level rise in past 100 years."
   ]
  },
  {
   "cell_type": "code",
   "execution_count": 156,
   "metadata": {},
   "outputs": [
    {
     "data": {
      "image/png": "[encoded data removed]",
      "text/plain": [
       "<Figure size 432x288 with 1 Axes>"
      ]
     },
     "metadata": {
      "needs_background": "light"
     },
     "output_type": "display_data"
    }
   ],
   "source": [
    "import matplotlib.pyplot as plt\n",
    "import pandas as pd\n",
    "data = pd.read_csv('data.csv')\n",
    "year = data['year']\n",
    "sea_levels = data['CSIRO_sea_level']\n",
    "plt.scatter(year, sea_levels, edgecolors='g')\n",
    "plt.xlabel('Year')\n",
    "plt.ylabel('Sea Level (inches)')\n",
    "plt.title('Rise in Sealevel')\n",
    "plt.show()"
   ]
  },
  {
   "cell_type": "code",
   "execution_count": null,
   "metadata": {},
   "outputs": [],
   "source": []
  }
 ],
 "metadata": {
  "kernelspec": {
   "display_name": "Python 3",
   "language": "python",
   "name": "python3"
  },
  "language_info": {
   "codemirror_mode": {
    "name": "ipython",
    "version": 3
   },
   "file_extension": ".py",
   "mimetype": "text/x-python",
   "name": "python",
   "nbconvert_exporter": "python",
   "pygments_lexer": "ipython3",
   "version": "3.7.3"
  }
 },
 "nbformat": 4,
 "nbformat_minor": 2
}
